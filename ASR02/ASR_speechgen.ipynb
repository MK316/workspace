{
  "nbformat": 4,
  "nbformat_minor": 0,
  "metadata": {
    "colab": {
      "private_outputs": true,
      "provenance": [],
      "authorship_tag": "ABX9TyMg1ZURbUBsD4AnRuoSaii3",
      "include_colab_link": true
    },
    "kernelspec": {
      "name": "python3",
      "display_name": "Python 3"
    },
    "language_info": {
      "name": "python"
    }
  },
  "cells": [
    {
      "cell_type": "markdown",
      "metadata": {
        "id": "view-in-github",
        "colab_type": "text"
      },
      "source": [
        "<a href=\"https://colab.research.google.com/github/MK316/workspace/blob/main/ASR02/ASR_speechgen.ipynb\" target=\"_parent\"><img src=\"https://colab.research.google.com/assets/colab-badge.svg\" alt=\"Open In Colab\"/></a>"
      ]
    },
    {
      "cell_type": "code",
      "execution_count": null,
      "metadata": {
        "cellView": "form",
        "id": "EWD7IThdLkcs"
      },
      "outputs": [],
      "source": [
        "\n",
        "#@markdown Setup\n",
        "\n",
        "!pip install gtts\n",
        "import gtts\n",
        "from gtts import gTTS\n",
        "import pandas as pd\n",
        "from IPython.display import Audio"
      ]
    },
    {
      "cell_type": "code",
      "source": [
        "#@markdown Define etts(), 'sample.mp3'\n",
        "def etts(mytext):\n",
        "    tts = gTTS(mytext)\n",
        "    tts.save('sample.wav')\n",
        "    return Audio('sample.wav', autoplay=True)\n",
        "def ktts(mytext):\n",
        "    tts = gTTS(mytext, lang = \"ko\")\n",
        "    tts.save('sample.wav')\n",
        "    return Audio('sample.wav', autoplay=True)"
      ],
      "metadata": {
        "cellView": "form",
        "id": "zl8fkId3Luwe"
      },
      "execution_count": null,
      "outputs": []
    },
    {
      "cell_type": "code",
      "source": [
        "txt = \"The programs about detectives and hospitals are my favorites.\"\n",
        "ktts(txt)\n",
        "Audio('sample.wav')"
      ],
      "metadata": {
        "id": "hMECUtUoL901"
      },
      "execution_count": null,
      "outputs": []
    },
    {
      "cell_type": "code",
      "source": [
        "etts(txt)\n",
        "Audio('sample.wav')"
      ],
      "metadata": {
        "id": "630tNxInMmAq"
      },
      "execution_count": null,
      "outputs": []
    },
    {
      "cell_type": "code",
      "source": [
        "#@markdown 🎯Install SR tool\n",
        "%%capture\n",
        "!pip install git+https://github.com/openai/whisper.git \n",
        "\n",
        "import whisper\n",
        "model = whisper.load_model('base.en') \n",
        "model2 = whisper.load_model('medium.en')"
      ],
      "metadata": {
        "id": "maFj6KyGKod6",
        "cellView": "form"
      },
      "execution_count": null,
      "outputs": []
    },
    {
      "cell_type": "markdown",
      "source": [
        "Speech file upload\n",
        "\n",
        "+ Ksent.wav  \n",
        "+ Esent.wav  "
      ],
      "metadata": {
        "id": "zPRQlO07OfVT"
      }
    },
    {
      "cell_type": "code",
      "source": [
        "#@markdown 🎯 Create a file list as a dataframe (df1)\n",
        "import os\n",
        "import pandas as pd\n",
        "\n",
        "filepath = input(\"Type the full file path to locate audio files. (e.g., /content/HE) \")\n",
        "dir_path = str(filepath)\n",
        "dir_files = os.listdir(dir_path)\n",
        "str1 = 'wav'\n",
        "flist = []\n",
        "\n",
        "for i in range(0, len(dir_files)):\n",
        "  str2 = dir_files[i]\n",
        "  if str1 in str2:\n",
        "    flist.append(str2)\n",
        "\n",
        "flist = sorted(flist)\n",
        "\n",
        "df1 = pd.DataFrame()\n",
        "n = len(flist)\n",
        "nt = n + 1\n",
        "fn = range(1, nt)\n",
        "df1['ID'] = fn\n",
        "df1['Filename'] = flist\n",
        "\n",
        "# print(df.to_string(index=False))\n",
        "df1.head()"
      ],
      "metadata": {
        "id": "dSppO46do8J2",
        "cellView": "form"
      },
      "execution_count": null,
      "outputs": []
    },
    {
      "cell_type": "code",
      "source": [
        "#@markdown 🎯Install {autotime} to measure runtime (From here, runtime appears automatically.)\n",
        "%%capture\n",
        "!pip install ipython-autotime\n",
        "%load_ext autotime"
      ],
      "metadata": {
        "id": "hqo20kUjqG7g",
        "cellView": "form"
      },
      "execution_count": null,
      "outputs": []
    },
    {
      "cell_type": "code",
      "source": [
        "df1.head()"
      ],
      "metadata": {
        "id": "CrZPRgqZOsPP"
      },
      "execution_count": null,
      "outputs": []
    },
    {
      "cell_type": "code",
      "source": [
        "#@markdown 🎯 Testing ASR (single file): Type a number between 1~19\n",
        "rname = input(\"Type ID: \")\n",
        "ind = int(rname) - 1\n",
        "myf = df1['Filename'][ind]\n",
        "result = model.transcribe(myf, language=\"en\",fp16=False)\n",
        "print('Filename: %s'%myf)\n",
        "print('='*30)\n",
        "\n",
        "print(\"Speech-to-text (recognized): %s\"%result[\"text\"])  "
      ],
      "metadata": {
        "cellView": "form",
        "id": "NW_f7RuKOpap"
      },
      "execution_count": null,
      "outputs": []
    },
    {
      "cell_type": "code",
      "source": [
        "#@markdown =======================================================================\n",
        "#@markdown ## 🎯Processing multiple files (19) and saving it as **df2**\n",
        "\n",
        "#@markdown ## **Note:** Current directory should be the folder having the audio files (e.g., spk01)\n",
        "#@markdown =======================================================================\n",
        "\n",
        "import os\n",
        "a = !pwd\n",
        "print(a)\n",
        "\n",
        "checkdir = input(\"Need to change current directory? (y for 'yes', n for 'no'\")\n",
        "\n",
        "if checkdir == 'y':\n",
        "\n",
        "  filepath = input(\"Change current directory to... /content/destination/\")\n",
        "  os.chdir(filepath)\n",
        "  b = !pwd\n",
        "  print(\"Current directory changed to: %s\"%b)\n",
        "else:\n",
        "  print('Okay, proceed ASR.')\n",
        "\n",
        "import time\n",
        "import pandas as pd\n",
        "\n",
        "fname = []\n",
        "rt = []\n",
        "rectext = []\n",
        "df2 = pd.DataFrame()\n",
        "\n",
        "def measure_time(function):\n",
        "  start = time.time()\n",
        "  function()\n",
        "  end = time.time()\n",
        "  return end - start\n",
        "\n",
        "nfiles = len(df1['Filename']) #19\n",
        "\n",
        "for i in range(0, nfiles):\n",
        "  rname = df1['ID'][i]\n",
        "  ind = int(rname)\n",
        "  myf = df1['Filename'][i]\n",
        "  fname.append(myf)\n",
        "\n",
        "  def code_to_measure():\n",
        "# your code here  \n",
        "    result = model.transcribe(myf, language=\"en\",fp16=False)\n",
        "    print('='*30)\n",
        "    print(\"Speech-to-text (recognized): %s\"%result['text']) \n",
        "    recresult = result['text']\n",
        "    rectext.append(recresult)\n",
        "\n",
        "  runtime = round(measure_time(code_to_measure),3)\n",
        "  rt.append(str(runtime))\n",
        "\n",
        "  print(f\"Runtime: {runtime} seconds\")\n",
        "  print('Filename: %s'%myf)\n",
        "\n",
        "df2['Filename'] = fname\n",
        "df2['Runtime'] = rt\n",
        "df2['Recognized'] = rectext\n",
        "\n",
        "df2.head()"
      ],
      "metadata": {
        "cellView": "form",
        "id": "tN63ZqZNslq9"
      },
      "execution_count": null,
      "outputs": []
    },
    {
      "cell_type": "code",
      "source": [
        "import pandas as pd\n",
        "\n",
        "sent = [\"The programs about detectives and hospitals are my favorites\",\"The programs about detectives and hospitals are my favorites\",\"The programs about detectives and hospitals are my favorites\"]\n",
        "sn = [\"SK\",\"SE\",\"HS\"]\n",
        "\n",
        "df = pd.DataFrame()\n",
        "df['SN'] = sn\n",
        "df['Sentence'] = sent\n",
        "df"
      ],
      "metadata": {
        "id": "SxwU7MpNP5I1"
      },
      "execution_count": null,
      "outputs": []
    },
    {
      "cell_type": "code",
      "source": [
        "# Add original text to the result file\n",
        "\n",
        "df2['Sentence'] = df['Sentence']\n",
        "df2['SN'] = df['SN']\n",
        "\n",
        "df2 = df2[['SN', 'Filename', 'Runtime', 'Sentence', 'Recognized']]\n",
        "cols = list(df2.columns.values)\n",
        "\n",
        "df2.head()"
      ],
      "metadata": {
        "id": "hUdAw8tTPgqC"
      },
      "execution_count": null,
      "outputs": []
    },
    {
      "cell_type": "code",
      "execution_count": null,
      "metadata": {
        "cellView": "form",
        "id": "WasNcDiXQ_56"
      },
      "outputs": [],
      "source": [
        "#@markdown + Install and import libraries\n",
        "%%capture\n",
        "!pip install Levenshtein\n",
        "import Levenshtein as lev\n",
        "import numpy as np\n",
        "import pandas as pd"
      ]
    },
    {
      "cell_type": "code",
      "source": [
        "#@markdown + Calculate WER and WER_lev and add columns to df\n",
        "# import numpy as np\n",
        "# import pandas as pd\n",
        "# import Levenshtein as lev\n",
        "#@markdown + Column names 'Original' and 'Recognized' for comparison\n",
        "def calculate_wer_word_level(s1, s2):\n",
        "    \"\"\"\n",
        "    Calculation of WER with Dynamic Time Warping algorithm at word level.\n",
        "    \"\"\"\n",
        "\n",
        "    # splitting the sentences into words\n",
        "    s1_words = s1.split()\n",
        "    s2_words = s2.split()\n",
        "\n",
        "    # preparing the matrix for the Dynamic Time Warping algorithm\n",
        "    dtw_matrix = np.zeros((len(s1_words)+1, len(s2_words)+1))\n",
        "    for i in range(len(s1_words)+1):\n",
        "        for j in range(len(s2_words)+1):\n",
        "            if i == 0:\n",
        "                dtw_matrix[0][j] = j\n",
        "            elif j == 0:\n",
        "                dtw_matrix[i][0] = i\n",
        "\n",
        "    # Dynamic Time Warping algorithm\n",
        "    for i in range(1, len(s1_words)+1):\n",
        "        for j in range(1, len(s2_words)+1):\n",
        "            cost = 0 if s1_words[i-1] == s2_words[j-1] else 1\n",
        "            dtw_matrix[i][j] = cost + min([dtw_matrix[i-1][j], dtw_matrix[i][j-1], dtw_matrix[i-1][j-1]])\n",
        "\n",
        "    wer = dtw_matrix[len(s1_words)][len(s2_words)] / len(s1_words)\n",
        "\n",
        "    return wer\n",
        "\n",
        "def calculate_wer_lev(s1, s2):\n",
        "    \"\"\"\n",
        "    Calculation of WER with Levenshtein distance at character level.\n",
        "    \"\"\"\n",
        "\n",
        "    # splitting the sentences into words\n",
        "    s1_words = s1.split()\n",
        "    s2_words = s2.split()\n",
        "\n",
        "    # calculating Levenshtein distance\n",
        "    edit_distance = lev.distance(' '.join(s1_words), ' '.join(s2_words))\n",
        "\n",
        "    # normalizing by the length of the original sentence (s1)\n",
        "    wer = edit_distance / len(s1_words)\n",
        "\n",
        "    return wer\n",
        "\n",
        "# Assuming df is your DataFrame and it has columns 'Sentence' and 'Recognized'\n",
        "wer_values_word_level = df2.apply(lambda row: calculate_wer_word_level(row['Sentence'], row['Recognized']), axis=1)\n",
        "wer_values_lev = df2.apply(lambda row: calculate_wer_lev(row['Sentence'], row['Recognized']), axis=1)\n",
        "\n",
        "# Adding WER values as new columns to the DataFrame\n",
        "df2['WER'] = wer_values_word_level\n",
        "df2['WER_lev'] = wer_values_lev\n",
        "\n",
        "df2\n"
      ],
      "metadata": {
        "cellView": "form",
        "id": "C8NMeuBkD-er"
      },
      "execution_count": null,
      "outputs": []
    },
    {
      "cell_type": "markdown",
      "source": [
        "---"
      ],
      "metadata": {
        "id": "ZqxC-4NDOoUK"
      }
    },
    {
      "cell_type": "code",
      "source": [
        "#@markdown   [1] Make a new folder: type a new folder name (e.g., myaudio)\n",
        "import os\n",
        "\n",
        "folder_name = input(\"Type a name for the new folder.\")\n",
        "\n",
        "if not os.path.exists(folder_name):\n",
        "  os.makedirs(folder_name)\n",
        "  print(f\"A new folder name '{folder_name}' has been created.\")\n",
        "else:\n",
        "  print(f\"{folder_name} already exists.\")"
      ],
      "metadata": {
        "cellView": "form",
        "id": "Zt8ptRS8Nfld"
      },
      "execution_count": null,
      "outputs": []
    },
    {
      "cell_type": "code",
      "source": [
        "#@markdown 🎯Mount Google drive and list files (e.g., \"asrdata\" folder in my case)\n",
        "from google.colab import drive \n",
        "import os\n",
        "\n",
        "drive.mount('/content/drive')\n",
        "\n",
        "mydir = input(\"Type the file directory in your google drive: e.g., asrdata  \")\n",
        "!ls \"/content/drive/MyDrive/{mydir}\"\n",
        "!pwd"
      ],
      "metadata": {
        "id": "Lk-Pb2xjBChC",
        "cellView": "form"
      },
      "execution_count": null,
      "outputs": []
    },
    {
      "cell_type": "code",
      "source": [
        "#@markdown 🎯 Unmount Google drive (clearing): optional\n",
        "\n",
        "from google.colab import drive\n",
        "drive.flush_and_unmount()"
      ],
      "metadata": {
        "cellView": "form",
        "id": "X-omdSMoLR_s"
      },
      "execution_count": null,
      "outputs": []
    }
  ]
}