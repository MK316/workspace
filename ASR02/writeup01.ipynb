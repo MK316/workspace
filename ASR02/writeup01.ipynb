{
  "nbformat": 4,
  "nbformat_minor": 0,
  "metadata": {
    "colab": {
      "private_outputs": true,
      "provenance": [],
      "authorship_tag": "ABX9TyPLVMxy09JjHUbk7nPQhcAC",
      "include_colab_link": true
    },
    "kernelspec": {
      "name": "python3",
      "display_name": "Python 3"
    },
    "language_info": {
      "name": "python"
    }
  },
  "cells": [
    {
      "cell_type": "markdown",
      "metadata": {
        "id": "view-in-github",
        "colab_type": "text"
      },
      "source": [
        "<a href=\"https://colab.research.google.com/github/MK316/workspace/blob/main/ASR02/writeup01.ipynb\" target=\"_parent\"><img src=\"https://colab.research.google.com/assets/colab-badge.svg\" alt=\"Open In Colab\"/></a>"
      ]
    },
    {
      "cell_type": "code",
      "source": [
        "import pandas as pd"
      ],
      "metadata": {
        "id": "eqtNlwBMjRup"
      },
      "execution_count": null,
      "outputs": []
    },
    {
      "cell_type": "code",
      "execution_count": null,
      "metadata": {
        "id": "CJHfWFFMjAUZ"
      },
      "outputs": [],
      "source": [
        "url = \"https://raw.githubusercontent.com/MK316/workspace/main/ASR02/results/data_combined_0519.csv\"\n",
        "df = pd.read_csv(url)\n",
        "df"
      ]
    },
    {
      "cell_type": "code",
      "source": [
        "correlation_matrix = df[['WER', 'Prof', 'Acc', 'Comp', 'Intel']].corr()\n",
        "print(correlation_matrix)\n"
      ],
      "metadata": {
        "id": "voOrjWxjjsVD"
      },
      "execution_count": null,
      "outputs": []
    },
    {
      "cell_type": "code",
      "source": [
        "# Correlation coefficient using Pearson R\n",
        "\n",
        "from scipy.stats import pearsonr\n",
        "\n",
        "# Calculate correlation coefficients and p-values\n",
        "corr_wer_comp, p_value_comp = pearsonr(df['WER'], df['Comp'])\n",
        "corr_wer_acc, p_value_acc = pearsonr(df['WER'], df['Acc'])\n",
        "corr_wer_intel, p_value_intel = pearsonr(df['WER'], df['Intel'])\n",
        "corr_wer_prof, p_value_prof = pearsonr(df['WER'], df['Prof'])\n",
        "\n",
        "# Print the correlation coefficients and p-values\n",
        "print(\"Correlation coefficient WER-Comp:\", corr_wer_comp)\n",
        "print(\"P-value WER-Comp:\", p_value_comp)\n",
        "\n",
        "print(\"Correlation coefficient WER-Acc:\", corr_wer_acc)\n",
        "print(\"P-value WER-Acc:\", p_value_acc)\n",
        "\n",
        "print(\"Correlation coefficient WER-Intel:\", corr_wer_intel)\n",
        "print(\"P-value WER-Intel:\", p_value_intel)\n",
        "\n",
        "print(\"Correlation coefficient WER-Intel:\", corr_wer_prof)\n",
        "print(\"P-value WER-Acc:\", p_value_intel)\n"
      ],
      "metadata": {
        "id": "66zM49gqsT2G"
      },
      "execution_count": null,
      "outputs": []
    },
    {
      "cell_type": "code",
      "source": [
        "import seaborn as sns\n",
        "import matplotlib.pyplot as plt\n",
        "\n",
        "plt.figure(figsize=(6, 3))\n",
        "sns.heatmap(correlation_matrix, annot=True, cmap='coolwarm')\n",
        "plt.title('Correlation Matrix')\n",
        "plt.show()\n"
      ],
      "metadata": {
        "id": "_oKWcSpPj9U4"
      },
      "execution_count": null,
      "outputs": []
    },
    {
      "cell_type": "markdown",
      "source": [],
      "metadata": {
        "id": "fwGaF1Zpxpnv"
      }
    },
    {
      "cell_type": "code",
      "source": [
        "corr_wer_prof = correlation_matrix.loc['WER', 'Prof']\n",
        "print(\"Correlation between WER and Prof:\", corr_wer_prof)\n"
      ],
      "metadata": {
        "id": "R95_7JTekQA1"
      },
      "execution_count": null,
      "outputs": []
    },
    {
      "cell_type": "markdown",
      "source": [
        "EPA result averaging across repetitions\n",
        "\n",
        "data: https://raw.githubusercontent.com/MK316/workspace/main/ASR02/results/EPA_results_all0519.csv"
      ],
      "metadata": {
        "id": "oDuOg75Ql7J7"
      }
    },
    {
      "cell_type": "code",
      "source": [
        "url = \"https://raw.githubusercontent.com/MK316/workspace/main/ASR02/results/EPA_results_all0519.csv\"\n",
        "epa = pd.read_csv(url)\n",
        "epa.tail()"
      ],
      "metadata": {
        "id": "_TreTzrHl_2a"
      },
      "execution_count": null,
      "outputs": []
    },
    {
      "cell_type": "code",
      "source": [
        "import pandas as pd\n",
        "\n",
        "# Assuming your 'epa' dataframe has columns: Reps, WER, WER_lev, Prof, Acc, Comp, Intel\n",
        "\n",
        "# Group by other columns and calculate the mean of the numeric columns\n",
        "epa1 = epa.groupby(['Raters','Stimuli', 'Cons']).mean()\n",
        "\n",
        "# Reset the index to convert the grouped columns back to regular columns\n",
        "epa1 = epa1.reset_index()\n",
        "\n",
        "# Print the reduced dataframe\n",
        "epa1\n"
      ],
      "metadata": {
        "id": "BVQgPDeBmHHS"
      },
      "execution_count": null,
      "outputs": []
    },
    {
      "cell_type": "markdown",
      "source": [
        "Read file"
      ],
      "metadata": {
        "id": "0QHCdN-xoWyU"
      }
    },
    {
      "cell_type": "code",
      "source": [
        "url = \"https://raw.githubusercontent.com/MK316/workspace/main/ASR02/results/EPA_WER_combined.csv\"\n",
        "newdata = pd.read_csv(url)\n",
        "newdata"
      ],
      "metadata": {
        "id": "aXho8BYPoM7n"
      },
      "execution_count": null,
      "outputs": []
    },
    {
      "cell_type": "code",
      "source": [
        "HR1 = newdata[newdata['Raters'] == 'HR1']\n",
        "HR2 = newdata[newdata['Raters'] == 'HR2']\n",
        "HR3 = newdata[newdata['Raters'] == 'HR3']\n",
        "HR4 = newdata[newdata['Raters'] == 'HR4']\n"
      ],
      "metadata": {
        "id": "fW8IweNfobNF"
      },
      "execution_count": null,
      "outputs": []
    },
    {
      "cell_type": "code",
      "source": [
        "corm1 = HR1[['WER', 'Prof', 'Acc', 'Comp', 'Intel']].corr()\n",
        "print(corm1)\n",
        "\n",
        "import seaborn as sns\n",
        "import matplotlib.pyplot as plt\n",
        "\n",
        "plt.figure(figsize=(6, 4))\n",
        "sns.heatmap(corm1, annot=True, cmap='coolwarm')\n",
        "plt.title('Rater 1 (HR1)')\n",
        "plt.show()"
      ],
      "metadata": {
        "id": "7OqmOn6po16O"
      },
      "execution_count": null,
      "outputs": []
    },
    {
      "cell_type": "code",
      "source": [
        "# Correlation coefficient using Pearson R\n",
        "\n",
        "from scipy.stats import pearsonr\n",
        "\n",
        "# Calculate correlation coefficients and p-values\n",
        "corr_wer_comp, p_value_comp = pearsonr(corm1['WER'], corm1['Comp'])\n",
        "corr_wer_acc, p_value_acc = pearsonr(corm1['WER'], corm1['Acc'])\n",
        "corr_wer_intel, p_value_intel = pearsonr(corm1['WER'], corm1['Intel'])\n",
        "\n",
        "# Print the correlation coefficients and p-values\n",
        "print(\"Correlation coefficient WER-Comp:\", corr_wer_comp)\n",
        "print(\"P-value WER-Comp:\", p_value_comp)\n",
        "\n",
        "print(\"Correlation coefficient WER-Acc:\", corr_wer_acc)\n",
        "print(\"P-value WER-Acc:\", p_value_acc)\n",
        "\n",
        "print(\"Correlation coefficient WER-Intel:\", corr_wer_intel)\n",
        "print(\"P-value WER-Intel:\", p_value_intel)\n",
        "\n"
      ],
      "metadata": {
        "id": "CMrxbfA9qyaT"
      },
      "execution_count": null,
      "outputs": []
    },
    {
      "cell_type": "code",
      "source": [
        "corm2 = HR2[['WER', 'Prof', 'Acc', 'Comp', 'Intel']].corr()\n",
        "print(corm2)\n",
        "\n",
        "import seaborn as sns\n",
        "import matplotlib.pyplot as plt\n",
        "\n",
        "plt.figure(figsize=(6,4))\n",
        "sns.heatmap(corm2, annot=True, cmap='coolwarm')\n",
        "plt.title('Rater 2 (HR2)')\n",
        "plt.show()"
      ],
      "metadata": {
        "id": "7ccl7V82pF9_"
      },
      "execution_count": null,
      "outputs": []
    },
    {
      "cell_type": "code",
      "source": [
        "# Correlation coefficient using Pearson R\n",
        "\n",
        "from scipy.stats import pearsonr\n",
        "\n",
        "# Calculate correlation coefficients and p-values\n",
        "corr_wer_comp, p_value_comp = pearsonr(corm2['WER'], corm2['Comp'])\n",
        "corr_wer_acc, p_value_acc = pearsonr(corm2['WER'], corm2['Acc'])\n",
        "corr_wer_intel, p_value_intel = pearsonr(corm2['WER'], corm2['Intel'])\n",
        "\n",
        "# Print the correlation coefficients and p-values\n",
        "print(\"Correlation coefficient WER-Comp:\", corr_wer_comp)\n",
        "print(\"P-value WER-Comp:\", p_value_comp)\n",
        "\n",
        "print(\"Correlation coefficient WER-Acc:\", corr_wer_acc)\n",
        "print(\"P-value WER-Acc:\", p_value_acc)\n",
        "\n",
        "print(\"Correlation coefficient WER-Intel:\", corr_wer_intel)\n",
        "print(\"P-value WER-Intel:\", p_value_intel)\n",
        "\n"
      ],
      "metadata": {
        "id": "4aXmTEncr-M-"
      },
      "execution_count": null,
      "outputs": []
    },
    {
      "cell_type": "code",
      "source": [
        "corm3 = HR3[['WER', 'Prof', 'Acc', 'Comp', 'Intel']].corr()\n",
        "print(corm3)\n",
        "\n",
        "import seaborn as sns\n",
        "import matplotlib.pyplot as plt\n",
        "\n",
        "plt.figure(figsize=(6,4))\n",
        "sns.heatmap(corm3, annot=True, cmap='coolwarm')\n",
        "plt.title('Rater 3 (HR3)')\n",
        "plt.show()"
      ],
      "metadata": {
        "id": "81Pv8qfBpOso"
      },
      "execution_count": null,
      "outputs": []
    },
    {
      "cell_type": "code",
      "source": [
        "corm4 = HR4[['WER', 'Prof', 'Acc', 'Comp', 'Intel']].corr()\n",
        "print(corm4)\n",
        "\n",
        "import seaborn as sns\n",
        "import matplotlib.pyplot as plt\n",
        "\n",
        "plt.figure(figsize=(6,4))\n",
        "sns.heatmap(corm4, annot=True, cmap='coolwarm')\n",
        "plt.title('Rater 4 (HR4)')\n",
        "plt.show()"
      ],
      "metadata": {
        "id": "_MVaQohBpU7e"
      },
      "execution_count": null,
      "outputs": []
    },
    {
      "cell_type": "markdown",
      "source": [
        "The correlation matrix shows the correlation coefficients between 'WER' and the other measures: 'Prof', 'Acc', 'Comp', and 'Intel'.\n",
        "\n",
        "Based on the correlation coefficients, we can make the following observations:\n",
        "\n",
        "The correlation coefficient between 'WER' and 'Prof' is -0.504, indicating a moderate negative correlation. This suggests that as 'WER' decreases, 'Prof' tends to increase.\n",
        "\n",
        "The correlation coefficient between 'WER' and 'Acc' is -0.500, indicating a moderate negative correlation. This suggests that as 'WER' decreases, 'Acc' tends to increase.\n",
        "\n",
        "The correlation coefficient between 'WER' and 'Comp' is -0.559, indicating a moderate negative correlation. This suggests that as 'WER' decreases, 'Comp' tends to increase.\n",
        "\n",
        "The correlation coefficient between 'WER' and 'Intel' is -0.521, indicating a moderate negative correlation. This suggests that as 'WER' decreases, 'Intel' tends to increase.\n",
        "\n",
        "In summary, all the correlation coefficients between 'WER' and the other measures are negative and moderate in magnitude. This implies that there is a consistent tendency for 'WER' to decrease as the other measures (Prof, Acc, Comp, Intel) increase. However, the statement of \"WER being relatively independent of the other measures\" may not hold true, as there are still significant correlations present."
      ],
      "metadata": {
        "id": "eWgc5zHdxzUp"
      }
    },
    {
      "cell_type": "markdown",
      "source": [
        "Yes, based on the correlation matrix, we can see that the correlation coefficient between 'WER' and the other measures (Prof, Acc, Comp, Intel) ranges from -0.504 to -0.559. These correlation coefficients indicate moderate negative correlations.\n",
        "\n",
        "A correlation coefficient close to -1 indicates a strong negative linear relationship. In this case, the correlation coefficients between 'WER' and the other measures are not close to -1, which suggests that there is not a strong linear relationship between 'WER' and the other measures.\n",
        "\n",
        "Furthermore, if we consider the magnitude of the correlation coefficients, we can see that the absolute values are all below 0.6. This indicates that the strength of the correlations is not very high.\n",
        "\n",
        "Based on these observations, it can be argued that 'WER' is relatively stable and consistent compared to the other measures. The moderate negative correlations suggest that there is a tendency for 'WER' to decrease as the other measures increase, but the correlations are not very strong. This supports the interpretation that 'WER' is relatively independent or less influenced by the other measures.\n",
        "\n",
        "It is important to note that correlation does not imply causation. The observed correlations provide insights into the relationships between variables, but further analysis and contextual understanding are needed to draw definitive conclusions."
      ],
      "metadata": {
        "id": "Yt-qb4D6xhFd"
      }
    },
    {
      "cell_type": "markdown",
      "source": [
        "Native Speaker Models: ASR systems often incorporate native speaker models as reference for pronunciation. Learners can compare their own pronunciation to that of native speakers and strive to achieve a similar level of pronunciation clarity and naturalness. This exposure to native-like pronunciation helps learners develop a more authentic and intelligible speech."
      ],
      "metadata": {
        "id": "7ek6nwAtzyjn"
      }
    },
    {
      "cell_type": "markdown",
      "source": [
        "Supplemental Resource for Teachers: ASR systems can serve as a valuable resource for language teachers. Teachers can assign specific pronunciation exercises through the system, track learners' progress, and provide targeted guidance based on the feedback generated by the ASR system. This integration of technology supports teachers in effectively addressing individual pronunciation needs within a classroom setting.\n",
        "\n",
        "the use of ASR systems for pronunciation practice offers immediate and objective feedback, enables targeted error correction, provides exposure to native speaker models, promotes independent practice, and serves as a valuable resource for teachers. By leveraging the benefits of ASR technology, learners can improve their pronunciation skills, moving closer to native-like speech and enhancing their overall communication effectiveness."
      ],
      "metadata": {
        "id": "XHWDn_QLz4S5"
      }
    },
    {
      "cell_type": "markdown",
      "source": [
        "In language learning, native-likeness refers to the ability of learners to produce speech that closely resembles that of native speakers. While native-likeness is not a strict requirement for effective communication, there are several reasons why getting closer to native speech can facilitate better understanding and communication:\n",
        "\n",
        "+ Pronunciation: Native-like pronunciation enhances intelligibility. When learners pronounce words and sounds accurately, it becomes easier for native speakers to comprehend their speech. Pronouncing words in a similar way to native speakers reduces the chances of miscommunication due to misunderstandings or unclear pronunciation.\n",
        "\n",
        "+ Accent and Intonation: Native-like accent and intonation patterns can improve comprehension. Accents influence the rhythm, stress, and melody of speech, and learners who adopt native-like intonation patterns are more likely to convey the intended meaning effectively. Native speakers are accustomed to hearing speech patterns specific to their language, and deviations from those patterns can sometimes cause difficulties in understanding.\n",
        "\n",
        "+ Reduced Cognitive Load: When learners have a higher level of proficiency and approach native-likeness, they can focus more on the content and meaning of their communication rather than on linguistic accuracy. Reduced cognitive load allows learners to express their thoughts more fluently, leading to smoother and more efficient communication."
      ],
      "metadata": {
        "id": "EXoUFhM60JmB"
      }
    },
    {
      "cell_type": "code",
      "source": [],
      "metadata": {
        "id": "p7HBfo7dxijA"
      },
      "execution_count": null,
      "outputs": []
    }
  ]
}