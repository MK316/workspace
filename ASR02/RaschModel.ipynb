{
  "nbformat": 4,
  "nbformat_minor": 0,
  "metadata": {
    "colab": {
      "private_outputs": true,
      "provenance": [],
      "authorship_tag": "ABX9TyPlNfu3UwqC99BWgrzbxaOU",
      "include_colab_link": true
    },
    "kernelspec": {
      "name": "python3",
      "display_name": "Python 3"
    },
    "language_info": {
      "name": "python"
    }
  },
  "cells": [
    {
      "cell_type": "markdown",
      "metadata": {
        "id": "view-in-github",
        "colab_type": "text"
      },
      "source": [
        "<a href=\"https://colab.research.google.com/github/MK316/workspace/blob/main/ASR02/RaschModel.ipynb\" target=\"_parent\"><img src=\"https://colab.research.google.com/assets/colab-badge.svg\" alt=\"Open In Colab\"/></a>"
      ]
    },
    {
      "cell_type": "markdown",
      "source": [
        "# Rasch Model"
      ],
      "metadata": {
        "id": "fgoy3cidWODF"
      }
    },
    {
      "cell_type": "markdown",
      "source": [
        "+ The Rasch model, also known as the Rasch measurement model or Rasch analysis, is a psychometric model used in the field of measurement theory. It is named after the Danish mathematician Georg Rasch, who developed the model in the 1960s.\n",
        "\n",
        "+ The Rasch model is used to analyze and interpret responses to items or questions in various domains, such as educational testing, health outcomes assessment, and social science research. It aims to estimate the ability or trait level of individuals based on their responses to a set of items. The model assumes that the probability of a person endorsing or achieving a certain item response is determined by the match between the person's ability and the difficulty of the item.\n",
        "\n",
        "+ In other words, the Rasch model helps to calibrate the difficulty of items and the ability of individuals on a common latent scale, often referred to as the logit scale. This allows for the comparison of individuals' abilities and the measurement of the difficulty of items in an objective and meaningful way.\n",
        "\n",
        "+ The Rasch model has gained popularity due to its ability to provide interval-level measurement and to establish item and person reliability estimates. It has applications in various fields, including educational assessment, health outcomes research, and social sciences, where accurate and precise measurement of latent traits or abilities is essential."
      ],
      "metadata": {
        "id": "iUJ4u6rhWI49"
      }
    },
    {
      "cell_type": "code",
      "execution_count": null,
      "metadata": {
        "id": "4qhKSyYDWF_i"
      },
      "outputs": [],
      "source": [
        "!pip install rasch"
      ]
    },
    {
      "cell_type": "code",
      "source": [
        "import pandas as pd"
      ],
      "metadata": {
        "id": "eqtNlwBMjRup"
      },
      "execution_count": null,
      "outputs": []
    },
    {
      "cell_type": "code",
      "execution_count": null,
      "metadata": {
        "id": "CJHfWFFMjAUZ"
      },
      "outputs": [],
      "source": [
        "url = \"https://raw.githubusercontent.com/MK316/workspace/main/ASR02/results/EPA_results_all0520_gender.csv\"\n",
        "df = pd.read_csv(url)\n",
        "df"
      ]
    },
    {
      "cell_type": "code",
      "source": [
        "!pip install pyirt"
      ],
      "metadata": {
        "id": "nLAUgVhyYIwU"
      },
      "execution_count": null,
      "outputs": []
    },
    {
      "cell_type": "code",
      "source": [
        "from pyirt import irt\n",
        "import pandas as pd"
      ],
      "metadata": {
        "id": "zxl8qqsSYMrk"
      },
      "execution_count": null,
      "outputs": []
    },
    {
      "cell_type": "code",
      "source": [
        "data = df[['Comp', 'Prof', 'Acc', 'Intel']].values\n"
      ],
      "metadata": {
        "id": "5ZUGHk9cYVYS"
      },
      "execution_count": null,
      "outputs": []
    },
    {
      "cell_type": "code",
      "source": [
        "result = irt(data)\n"
      ],
      "metadata": {
        "id": "fJO8pg6cYW3Q"
      },
      "execution_count": null,
      "outputs": []
    },
    {
      "cell_type": "code",
      "source": [
        "result"
      ],
      "metadata": {
        "id": "LKdH9ug6ZV60"
      },
      "execution_count": null,
      "outputs": []
    },
    {
      "cell_type": "code",
      "source": [
        "item_params = result[1]['beta']\n",
        "# person_params = result[0]['ability']"
      ],
      "metadata": {
        "id": "tQNIksSrYgJd"
      },
      "execution_count": null,
      "outputs": []
    },
    {
      "cell_type": "code",
      "source": [
        "from pyirt import irt\n",
        "import pandas as pd\n",
        "\n",
        "# Create a sample dataset\n",
        "data = pd.DataFrame({\n",
        "    'Person': ['Person1', 'Person2', 'Person3', 'Person4'],\n",
        "    'Item1': [1, 0, 1, 1],\n",
        "    'Item2': [0, 1, 1, 1],\n",
        "    'Item3': [1, 0, 0, 1],\n",
        "    'Item4': [0, 1, 1, 0],\n",
        "})\n",
        "\n",
        "# Convert the data to the required format (numpy array)\n",
        "data_array = data.drop('Person', axis=1).values\n",
        "\n",
        "# Fit the Rasch model to the data\n",
        "result = irt(data_array)\n",
        "\n",
        "# Access the estimated item and person parameters\n",
        "item_params = result[1][0]['a']\n",
        "person_params = result[0]['b']\n",
        "\n",
        "# Print the estimated item parameters\n",
        "print(\"Item Parameters:\")\n",
        "for item, param in enumerate(item_params):\n",
        "    print(f\"Item {item+1}: Difficulty = {param['b']:.2f}, Discrimination = {param['a']:.2f}\")\n",
        "\n",
        "# Print the estimated person parameters\n",
        "print(\"\\nPerson Parameters:\")\n",
        "for person, param in enumerate(person_params):\n",
        "    print(f\"Person {person+1}: Ability = {param:.2f}\")\n"
      ],
      "metadata": {
        "id": "wTmB57QSWteZ"
      },
      "execution_count": null,
      "outputs": []
    }
  ]
}