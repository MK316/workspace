{
  "nbformat": 4,
  "nbformat_minor": 0,
  "metadata": {
    "colab": {
      "private_outputs": true,
      "provenance": [],
      "authorship_tag": "ABX9TyMVQz/1P5RuRTqAR91X7dxz",
      "include_colab_link": true
    },
    "kernelspec": {
      "name": "python3",
      "display_name": "Python 3"
    },
    "language_info": {
      "name": "python"
    }
  },
  "cells": [
    {
      "cell_type": "markdown",
      "metadata": {
        "id": "view-in-github",
        "colab_type": "text"
      },
      "source": [
        "<a href=\"https://colab.research.google.com/github/MK316/workspace/blob/main/ASR02/ASR_stats01b.ipynb\" target=\"_parent\"><img src=\"https://colab.research.google.com/assets/colab-badge.svg\" alt=\"Open In Colab\"/></a>"
      ]
    },
    {
      "cell_type": "code",
      "source": [
        "import pandas as pd"
      ],
      "metadata": {
        "id": "eqtNlwBMjRup"
      },
      "execution_count": null,
      "outputs": []
    },
    {
      "cell_type": "markdown",
      "source": [
        "Add Gender column:\n",
        "\n",
        "[data](https://raw.githubusercontent.com/MK316/workspace/main/ASR02/results/data_combined_0520.csv)"
      ],
      "metadata": {
        "id": "TcRrV93mGj99"
      }
    },
    {
      "cell_type": "code",
      "execution_count": null,
      "metadata": {
        "id": "CJHfWFFMjAUZ"
      },
      "outputs": [],
      "source": [
        "url = \"https://raw.githubusercontent.com/MK316/workspace/main/ASR02/results/data_combined_0520.csv\"\n",
        "df = pd.read_csv(url)\n",
        "df.head()"
      ]
    },
    {
      "cell_type": "code",
      "source": [
        "dfw = df[['Subjects','Gender','Conditions','WER','WER_lev']]\n"
      ],
      "metadata": {
        "id": "vveqohqOFDZ9"
      },
      "execution_count": null,
      "outputs": []
    },
    {
      "cell_type": "code",
      "source": [
        "# Select the data based on the condition\n",
        "# dfsub = dfw.loc[(dfw['Conditions'] == 'PRE') & (dfw['WER'] > threshold)]\n",
        "dfsub = dfw.groupby('Subjects').filter(lambda x: x['WER'].loc[x['Conditions'] == 'PRE'].values[0] > 0.12)\n",
        "\n",
        "\n",
        "# Print the selected data\n",
        "print(dfsub)\n",
        "print(len(dfsub['Subjects']))\n"
      ],
      "metadata": {
        "id": "bpdh8o8QNpZK"
      },
      "execution_count": null,
      "outputs": []
    },
    {
      "cell_type": "code",
      "source": [
        "import statsmodels.api as sm\n",
        "import statsmodels.formula.api as smf\n",
        "\n",
        "# Fit the linear mixed model\n",
        "\n",
        "model = smf.mixedlm(\"WER ~ Conditions + Gender\", data=dfsub, groups=dfsub[\"Subjects\"])\n",
        "\n",
        "\n",
        "result = model.fit()\n",
        "\n",
        "# Print the summary of the model\n",
        "print(result.summary())\n"
      ],
      "metadata": {
        "id": "GphwTUZLFtui"
      },
      "execution_count": null,
      "outputs": []
    },
    {
      "cell_type": "markdown",
      "source": [
        "boxplot by Gender and Conditions"
      ],
      "metadata": {
        "id": "mUpwQoZdJPlY"
      }
    },
    {
      "cell_type": "code",
      "source": [
        "import seaborn as sns\n",
        "import matplotlib.pyplot as plt\n",
        "\n",
        "# Set the figure size\n",
        "plt.figure(figsize=(8, 6))\n",
        "\n",
        "# Create the boxplot\n",
        "sns.boxplot(x=\"Conditions\", y=\"WER\", data=dfsub) # , hue=\"Gender\"\n",
        "\n",
        "# Set labels and title\n",
        "plt.xlabel(\"Conditions\")\n",
        "plt.ylabel(\"WER\")\n",
        "plt.ylim(0,0.6)\n",
        "plt.title(\"Boxplot of WER by Gender and Conditions\")\n",
        "\n",
        "# Show the plot\n",
        "plt.show()\n"
      ],
      "metadata": {
        "id": "7gXzgftTJRz_"
      },
      "execution_count": null,
      "outputs": []
    },
    {
      "cell_type": "code",
      "source": [
        "import seaborn as sns\n",
        "import matplotlib.pyplot as plt\n",
        "\n",
        "# Set the figure size\n",
        "plt.figure(figsize=(7, 4))\n",
        "\n",
        "# Define the order of the conditions\n",
        "condition_order = ['PRE', 'POST']\n",
        "\n",
        "# Create the boxplot with notches\n",
        "sns.boxplot(x=\"Conditions\", y=\"WER\", data=dfsub, order=condition_order, notch=True) # , hue=\"Gender\"\n",
        "\n",
        "# Set labels and title\n",
        "plt.xlabel(\"Conditions\")\n",
        "plt.ylabel(\"WER\")\n",
        "plt.ylim(0, 0.6)\n",
        "plt.title(\"Boxplot of WER by Conditions\")\n",
        "\n",
        "# Save the plot as a PNG file\n",
        "plt.savefig(\"boxplot_WERsub01.png\")\n",
        "\n",
        "# Show the plot\n",
        "plt.show()\n"
      ],
      "metadata": {
        "id": "4ZyPE6pEQ5xQ"
      },
      "execution_count": null,
      "outputs": []
    },
    {
      "cell_type": "code",
      "source": [
        "import seaborn as sns\n",
        "import matplotlib.pyplot as plt\n",
        "\n",
        "# Encode the 'Conditions' column into numerical values\n",
        "conditions_mapping = {'PRE': 0, 'POST': 1}\n",
        "dfsub['Conditions_encoded'] = dfsub['Conditions'].map(conditions_mapping)\n",
        "\n",
        "# Set the figure size\n",
        "plt.figure(figsize=(8, 6))\n",
        "\n",
        "# Create the linear regression plot\n",
        "sns.lmplot(x=\"Conditions_encoded\", y=\"WER\", hue=\"Gender\", data=dfsub)\n",
        "\n",
        "# Set labels and title\n",
        "plt.xlabel(\"Conditions\")\n",
        "plt.ylabel(\"WER\")\n",
        "plt.title(\"Linear Regression Plot of WER by Conditions and Gender\")\n",
        "\n",
        "# Show the plot\n",
        "plt.show()\n"
      ],
      "metadata": {
        "id": "tkLNXOecKYvJ"
      },
      "execution_count": null,
      "outputs": []
    },
    {
      "cell_type": "code",
      "source": [
        "import seaborn as sns\n",
        "import matplotlib.pyplot as plt\n",
        "\n",
        "# Encode the 'Conditions' column with numeric labels\n",
        "condition_labels = dfsub['Conditions'].unique()\n",
        "condition_mapping = {label: i for i, label in enumerate(condition_labels)}\n",
        "dfsub['Condition_Label'] = dfsub['Conditions'].map(condition_mapping)\n",
        "\n",
        "# Set the figure size\n",
        "plt.figure(figsize=(8, 6))\n",
        "\n",
        "# Create the linear regression plot\n",
        "sns.lmplot(x='Condition_Label', y='WER', hue='Subjects', data=dfsub)\n",
        "\n",
        "# Set labels and title\n",
        "plt.xlabel('Conditions')\n",
        "plt.ylabel('WER')\n",
        "plt.title('Linear Regression of WER by Conditions (Grouped by Subjects)')\n",
        "\n",
        "# Show the plot\n",
        "plt.show()\n"
      ],
      "metadata": {
        "id": "jGAloNY7Ljsr"
      },
      "execution_count": null,
      "outputs": []
    },
    {
      "cell_type": "code",
      "source": [
        "import seaborn as sns\n",
        "import matplotlib.pyplot as plt\n",
        "\n",
        "# Manually reorder the categories in 'Conditions' column\n",
        "dfsub['Conditions'] = pd.Categorical(dfsub['Conditions'], categories=['PRE', 'POST'], ordered=True)\n",
        "\n",
        "# Encode the 'Conditions' column with numeric labels\n",
        "dfsub['Condition_Label'] = dfsub['Conditions'].cat.codes\n",
        "\n",
        "# Set the figure size\n",
        "plt.figure(figsize=(12, 4))\n",
        "\n",
        "# Create the linear regression plot\n",
        "sns.lmplot(x='Condition_Label', y='WER', hue='Subjects', data=dfsub)\n",
        "\n",
        "# Set x-axis tick labels\n",
        "plt.xticks([0, 1], ['PRE', 'POST'])\n",
        "\n",
        "# Set labels and title\n",
        "plt.xlabel('Conditions')\n",
        "plt.ylabel('WER')\n",
        "plt.title('Linear Regression of WER by Conditions (Grouped by Subjects)')\n",
        "\n",
        "# Show the plot\n",
        "plt.show()\n"
      ],
      "metadata": {
        "id": "HZ0vgT9vgkzu"
      },
      "execution_count": null,
      "outputs": []
    },
    {
      "cell_type": "code",
      "source": [
        "#@markdown + Individual plots for subjects (skip)\n",
        "# import seaborn as sns\n",
        "# import matplotlib.pyplot as plt\n",
        "\n",
        "# # Set the figure size\n",
        "# plt.figure(figsize=(12, 10))\n",
        "\n",
        "# # Loop over each subject\n",
        "# for subject in dfw['Subjects'].unique():\n",
        "#     # Filter the data for the current subject\n",
        "#     subject_data = dfw[dfw['Subjects'] == subject]\n",
        "    \n",
        "#     # Create the box plot for the current subject\n",
        "#     sns.boxplot(x='Conditions', y='WER', data=subject_data)\n",
        "#     plt.title(f'Box Plot of WER by Conditions for Subject {subject}')\n",
        "#     plt.xlabel('Conditions')\n",
        "#     plt.ylabel('WER')\n",
        "    \n",
        "#     # Show the plot\n",
        "#     plt.show()\n"
      ],
      "metadata": {
        "cellView": "form",
        "id": "jGUrCuEiMMeC"
      },
      "execution_count": null,
      "outputs": []
    },
    {
      "cell_type": "code",
      "source": [
        "#@markdown + Individual plots in one figure (skip)\n",
        "import matplotlib.pyplot as plt\n",
        "\n",
        "# Define the number of rows and columns in the subplot grid\n",
        "num_rows = 6\n",
        "num_cols = 5\n",
        "\n",
        "# Create a figure and a grid of subplots\n",
        "fig, axes = plt.subplots(num_rows, num_cols, figsize=(15, 15))\n",
        "\n",
        "# Flatten the axes array for easier indexing\n",
        "axes = axes.flatten()\n",
        "\n",
        "# Loop over each subject\n",
        "for i, subject in enumerate(dfsub['Subjects'].unique()):\n",
        "    # Filter the data for the current subject\n",
        "    subject_data = dfsub[dfsub['Subjects'] == subject]\n",
        "    \n",
        "    # Select the subplot for the current subject\n",
        "    ax = axes[i]\n",
        "    \n",
        "    # Create the scatter plot for the current subject\n",
        "    ax.scatter(x='Conditions', y='WER', data=subject_data)\n",
        "    ax.set_title(f' {subject}')\n",
        "    ax.set_ylim(0,1)\n",
        "    ax.set_xlabel('Conditions')\n",
        "    ax.set_ylabel('WER')\n",
        "\n",
        "# Remove any unused subplots\n",
        "for j in range(i+1, num_rows*num_cols):\n",
        "    fig.delaxes(axes[j])\n",
        "\n",
        "# Adjust the spacing between subplots\n",
        "fig.tight_layout()\n",
        "\n",
        "# Show the plot\n",
        "plt.show()\n"
      ],
      "metadata": {
        "cellView": "form",
        "id": "9wGyiV8wMdGc"
      },
      "execution_count": null,
      "outputs": []
    },
    {
      "cell_type": "markdown",
      "source": [
        "# Perception result analysis (re-try)"
      ],
      "metadata": {
        "id": "AIP53Lb-kCv-"
      }
    },
    {
      "cell_type": "markdown",
      "source": [
        "[EPA data 0520](https://raw.githubusercontent.com/MK316/workspace/main/ASR02/results/EPA_results_all0520_gender.csv) + WER, REPs"
      ],
      "metadata": {
        "id": "nqcjrws4kG5W"
      }
    },
    {
      "cell_type": "code",
      "source": [
        "import pandas as pd\n",
        "import numpy as np\n",
        "url = \"https://raw.githubusercontent.com/MK316/workspace/main/ASR02/results/EPA_results_all0520_gender.csv\"\n",
        "\n",
        "df2 = pd.read_csv(url)\n",
        "df2.tail()"
      ],
      "metadata": {
        "id": "I3tbaR89kWrK"
      },
      "execution_count": null,
      "outputs": []
    },
    {
      "cell_type": "markdown",
      "source": [
        "Linear mixed model"
      ],
      "metadata": {
        "id": "zlg23ljxoS41"
      }
    },
    {
      "cell_type": "code",
      "source": [
        "# Proficiency\n",
        "import statsmodels.formula.api as smf\n",
        "\n",
        "model = smf.mixedlm(\"Prof ~ Cons + Gender + Reps\", data=df2, groups=df2[\"Stimuli\"])\n",
        "result = model.fit()\n",
        "\n",
        "\n",
        "print(result.summary())\n"
      ],
      "metadata": {
        "id": "R5EgCvlZkuGw"
      },
      "execution_count": null,
      "outputs": []
    },
    {
      "cell_type": "code",
      "source": [
        "# Accuracy\n",
        "import statsmodels.formula.api as smf\n",
        "\n",
        "model = smf.mixedlm(\"Acc ~ Cons + Gender + Reps\", data=df2, groups=df2[\"Stimuli\"])\n",
        "result = model.fit()\n",
        "\n",
        "\n",
        "print(result.summary())"
      ],
      "metadata": {
        "id": "AgeHs9_srI3c"
      },
      "execution_count": null,
      "outputs": []
    },
    {
      "cell_type": "code",
      "source": [
        "# Intelligibility\n",
        "import statsmodels.formula.api as smf\n",
        "\n",
        "model = smf.mixedlm(\"Intel ~ Cons + Gender + Reps\", data=df2, groups=df2[\"Stimuli\"])\n",
        "result = model.fit()\n",
        "\n",
        "\n",
        "print(result.summary())"
      ],
      "metadata": {
        "id": "UVZwQ2BMr35m"
      },
      "execution_count": null,
      "outputs": []
    },
    {
      "cell_type": "code",
      "source": [
        "# Intelligibility\n",
        "import statsmodels.formula.api as smf\n",
        "\n",
        "model = smf.mixedlm(\"Comp ~ Cons + Gender + Reps\", data=df2, groups=df2[\"Stimuli\"])\n",
        "result = model.fit()\n",
        "\n",
        "\n",
        "print(result.summary())"
      ],
      "metadata": {
        "id": "kMbVg84AsMRh"
      },
      "execution_count": null,
      "outputs": []
    },
    {
      "cell_type": "markdown",
      "source": [
        "# [1] EPA subdata Prof < 6\n",
        "\n",
        "data: df2"
      ],
      "metadata": {
        "id": "uRkD268ivsUQ"
      }
    },
    {
      "cell_type": "code",
      "source": [
        "# Select the data based on the condition\n",
        "# dfsub = dfw.loc[(dfw['Conditions'] == 'PRE') & (dfw['WER'] > threshold)]\n",
        "df2prof = df2.groupby('Stimuli').filter(lambda x: x['Prof'].loc[x['Cons'] == 'PRE'].values[0] < 6)\n",
        "df2comp = df2.groupby('Stimuli').filter(lambda x: (x['Comp'].loc[x['Cons'] == 'PRE'].values[0] < 6) and ('POST' in x['Cons'].values))\n",
        "df2acc = df2.groupby('Stimuli').filter(lambda x: (x['Acc'].loc[x['Cons'] == 'PRE'].values[0] < 6) and ('POST' in x['Cons'].values))\n",
        "df2intel = df2.groupby('Stimuli').filter(lambda x: (x['Intel'].loc[x['Cons'] == 'PRE'].values[0] < 6) and ('POST' in x['Cons'].values))\n",
        "\n",
        "# Print the selected data\n",
        "print(len(df2prof['Stimuli']))\n",
        "print(len(df2comp['Stimuli']))\n",
        "print(len(df2acc['Stimuli']))\n",
        "print(len(df2intel['Stimuli']))\n",
        "summary = df2prof.groupby(['Gender', 'Raters']).size().reset_index(name='Count')\n",
        "print(summary)"
      ],
      "metadata": {
        "id": "VsdCtrj1vvGL"
      },
      "execution_count": null,
      "outputs": []
    },
    {
      "cell_type": "code",
      "source": [
        "# Proficiency\n",
        "import statsmodels.formula.api as smf\n",
        "\n",
        "model_intel = smf.mixedlm(\"Intel ~ Cons + Gender + Reps\", data=df2intel, groups=df2intel[\"Stimuli\"])\n",
        "result = model_intel.fit()\n",
        "\n",
        "\n",
        "print(result.summary())"
      ],
      "metadata": {
        "id": "BprwQZHLAlZQ"
      },
      "execution_count": null,
      "outputs": []
    },
    {
      "cell_type": "code",
      "source": [
        "import seaborn as sns\n",
        "import matplotlib.pyplot as plt\n",
        "\n",
        "# Set the figure size\n",
        "plt.figure(figsize=(4, 4))\n",
        "\n",
        "# Define the order of the conditions\n",
        "condition_order = ['PRE', 'POST']\n",
        "\n",
        "# Create the boxplot with notches\n",
        "sns.boxplot(x=\"Cons\", y=\"Prof\", data=df2prof, hue = \"Gender\", order=condition_order, notch=True) # , hue=\"Gender\" \n",
        "\n",
        "# Set labels and title\n",
        "plt.xlabel(\"Conditions\")\n",
        "plt.ylabel(\"Proficiency ratings\")\n",
        "plt.ylim(0, 7.5)\n",
        "plt.title(\"Proficiency ratings by Conditions\")\n",
        "\n",
        "# Save the plot as a PNG file\n",
        "plt.savefig(\"boxplot_Profsub.png\")\n",
        "\n",
        "# Show the plot\n",
        "plt.show()"
      ],
      "metadata": {
        "id": "UmMLOWAzDgm0"
      },
      "execution_count": null,
      "outputs": []
    },
    {
      "cell_type": "code",
      "source": [
        "mean_prof_by_cons = df2prof.groupby('Cons')['Prof'].mean()\n",
        "mean_prof_by_cons"
      ],
      "metadata": {
        "id": "2Nz1_0tDILE6"
      },
      "execution_count": null,
      "outputs": []
    },
    {
      "cell_type": "code",
      "source": [
        "mean_prof_by_cons_gender = df2prof.groupby(['Cons', 'Gender'])['Prof'].mean()\n",
        "mean_prof_by_cons_gender"
      ],
      "metadata": {
        "id": "UjF6JdZVIoCS"
      },
      "execution_count": null,
      "outputs": []
    },
    {
      "cell_type": "markdown",
      "source": [
        "# [2] EPA data by comprehensibility"
      ],
      "metadata": {
        "id": "whhqYqKFKDvt"
      }
    },
    {
      "cell_type": "code",
      "source": [
        "# Select the data based on the condition\n",
        "# dfsub = dfw.loc[(dfw['Conditions'] == 'PRE') & (dfw['WER'] > threshold)]\n",
        "# df2prof = df2.groupby('Stimuli').filter(lambda x: x['Prof'].loc[x['Cons'] == 'PRE'].values[0] < 6)\n",
        "df2comp = df2.groupby('Stimuli').filter(lambda x: (x['Comp'].loc[x['Cons'] == 'PRE'].values[0] < 6) and ('POST' in x['Cons'].values))\n",
        "\n",
        "\n",
        "# Print the selected data\n",
        "print(len(df2comp['Stimuli']))\n",
        "summary = df2prof.groupby(['Gender', 'Raters']).size().reset_index(name='Count')\n",
        "print(summary)"
      ],
      "metadata": {
        "id": "fo0O9uepKQN8"
      },
      "execution_count": null,
      "outputs": []
    },
    {
      "cell_type": "code",
      "source": [
        "# Proficiency\n",
        "import statsmodels.formula.api as smf\n",
        "\n",
        "model = smf.mixedlm(\"Comp ~ Cons + Gender + Reps\", data=df2comp, groups=df2comp[\"Stimuli\"])\n",
        "result = model.fit()\n",
        "\n",
        "\n",
        "print(result.summary())"
      ],
      "metadata": {
        "id": "prmcXUbeKQN9"
      },
      "execution_count": null,
      "outputs": []
    },
    {
      "cell_type": "markdown",
      "source": [
        "Intercept: The intercept coefficient is 4.789 with a standard error of 0.161. The z-score of 29.716 indicates a highly significant effect (p < 0.001). This suggests that the expected value of the 'Comp' variable when all other predictors are zero is 4.789.\n",
        "\n",
        "Cons[T.PRE]: The coefficient for the 'Cons' variable (PRE vs POST) is -0.213 with a standard error of 0.082. The z-score of -2.589 indicates a significant effect (p = 0.010). This suggests that there is a significant difference in the 'Comp' variable between the PRE and POST conditions.\n",
        "\n",
        "Gender[T.Male]: The coefficient for the 'Gender' variable (Male vs Female) is -0.504 with a standard error of 0.200. The z-score of -2.517 indicates a significant effect (p = 0.012). This suggests that there is a significant difference in the 'Comp' variable between males and females.\n",
        "\n",
        "Reps[T.R2]: The coefficient for the 'Reps' variable (R2 vs R1) is 0.155 with a standard error of 0.101. The z-score of 1.536 indicates that the effect is not statistically significant (p = 0.125). This suggests that there is no significant difference in the 'Comp' variable between the R2 and R1 repetitions.\n",
        "\n",
        "Reps[T.R3]: The coefficient for the 'Reps' variable (R3 vs R1) is 0.215 with a standard error of 0.101. The z-score of 2.130 indicates a significant effect (p = 0.033). This suggests that there is a significant difference in the 'Comp' variable between the R3 and R1 repetitions.\n",
        "\n",
        "Overall, these results indicate that the 'Cons' variable (PRE vs POST) and the 'Gender' variable have significant effects on the 'Comp' variable. However, the 'Reps' variable does not have a significant effect."
      ],
      "metadata": {
        "id": "dFo8x5rILKUK"
      }
    },
    {
      "cell_type": "code",
      "source": [
        "import seaborn as sns\n",
        "import matplotlib.pyplot as plt\n",
        "\n",
        "# Set the figure size\n",
        "plt.figure(figsize=(7, 4))\n",
        "\n",
        "# Define the order of the conditions\n",
        "condition_order = ['PRE', 'POST']\n",
        "\n",
        "# Create the boxplot with notches\n",
        "sns.boxplot(x=\"Cons\", y=\"Prof\", data=df2comp, hue = \"Gender\", order=condition_order, notch=True) # , hue=\"Gender\" \n",
        "\n",
        "# Set labels and title\n",
        "plt.xlabel(\"Conditions\")\n",
        "plt.ylabel(\"Comprehensibility ratings\")\n",
        "plt.ylim(0, 7.5)\n",
        "plt.title(\"Comprehensibility ratings by Conditions\")\n",
        "\n",
        "# Save the plot as a PNG file\n",
        "plt.savefig(\"boxplot_Compsub.png\")\n",
        "\n",
        "# Show the plot\n",
        "plt.show()"
      ],
      "metadata": {
        "id": "MWamZJjlKQN9"
      },
      "execution_count": null,
      "outputs": []
    },
    {
      "cell_type": "code",
      "source": [
        "mean_prof_by_cons = df2prof.groupby('Cons')['Prof'].mean()\n",
        "mean_prof_by_cons"
      ],
      "metadata": {
        "id": "ylP32Dg8KQN9"
      },
      "execution_count": null,
      "outputs": []
    },
    {
      "cell_type": "code",
      "source": [
        "mean_prof_by_cons_gender = df2prof.groupby(['Cons', 'Gender'])['Prof'].mean()\n",
        "mean_prof_by_cons_gender"
      ],
      "metadata": {
        "id": "GkkZcXjiKQN9"
      },
      "execution_count": null,
      "outputs": []
    },
    {
      "cell_type": "markdown",
      "source": [
        "# Reaction time calculations"
      ],
      "metadata": {
        "id": "h_pjusRsxeLH"
      }
    },
    {
      "cell_type": "code",
      "source": [
        "import pandas as pd\n",
        "\n",
        "url = \"https://raw.githubusercontent.com/MK316/workspace/main/ASR02/results/EPA_results_all0520_gender.csv\"\n",
        "\n",
        "df3 = pd.read_csv(url)\n",
        "df3.tail()"
      ],
      "metadata": {
        "id": "5HZC4s2DxgdY"
      },
      "execution_count": null,
      "outputs": []
    },
    {
      "cell_type": "code",
      "source": [
        "t1 = df3.groupby('Raters')['RT1'].mean()\n",
        "t1"
      ],
      "metadata": {
        "id": "ec661yC6xyrD"
      },
      "execution_count": null,
      "outputs": []
    },
    {
      "cell_type": "code",
      "source": [
        "import pandas as pd\n",
        "import seaborn as sns\n",
        "import matplotlib.pyplot as plt\n"
      ],
      "metadata": {
        "id": "4hmZ-QYGyTZ4"
      },
      "execution_count": null,
      "outputs": []
    },
    {
      "cell_type": "code",
      "source": [
        "import pandas as pd\n",
        "import seaborn as sns\n",
        "import matplotlib.pyplot as plt\n",
        "\n",
        "plt.figure(figsize=(8, 4))\n",
        "sns.boxplot(x='Raters', y='RT1', data=df3, notch=True)\n",
        "plt.title('Notched Boxplot of RT1 by Raters')\n",
        "plt.show()\n"
      ],
      "metadata": {
        "id": "juztkfWmyUIu"
      },
      "execution_count": null,
      "outputs": []
    }
  ]
}