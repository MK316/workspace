{
  "nbformat": 4,
  "nbformat_minor": 0,
  "metadata": {
    "colab": {
      "private_outputs": true,
      "provenance": [],
      "authorship_tag": "ABX9TyPj3WAQ7Da34NHS9Psq+zdj",
      "include_colab_link": true
    },
    "kernelspec": {
      "name": "python3",
      "display_name": "Python 3"
    },
    "language_info": {
      "name": "python"
    }
  },
  "cells": [
    {
      "cell_type": "markdown",
      "metadata": {
        "id": "view-in-github",
        "colab_type": "text"
      },
      "source": [
        "<a href=\"https://colab.research.google.com/github/MK316/workspace/blob/main/SR01/SR_manipulation.ipynb\" target=\"_parent\"><img src=\"https://colab.research.google.com/assets/colab-badge.svg\" alt=\"Open In Colab\"/></a>"
      ]
    },
    {
      "cell_type": "markdown",
      "source": [
        "# 2nd trial"
      ],
      "metadata": {
        "id": "SNq-Ah77kiEc"
      }
    },
    {
      "cell_type": "code",
      "source": [
        "!pip install gtts pydub\n",
        "!apt install ffmpeg"
      ],
      "metadata": {
        "id": "idq-V3_-kj9H"
      },
      "execution_count": null,
      "outputs": []
    },
    {
      "cell_type": "markdown",
      "source": [
        "## Steps to take to modify speech rate"
      ],
      "metadata": {
        "id": "QWaqEqVpmBJf"
      }
    },
    {
      "cell_type": "markdown",
      "source": [
        "```\n",
        "def generate_and_play(text, rate=1.0):\n",
        "    # Convert text to audio\n",
        "    tts = gTTS(text=text, lang='en')\n",
        "    filename = \"temp_audio.mp3\"\n",
        "    tts.save(filename)\n",
        "```\n",
        "\n",
        "- This part of the code uses the gTTS (Google Text-to-Speech) library. It converts the provided text into speech. The speech is saved as an MP3 file named \"temp_audio.mp3\".\n",
        "\n",
        "- Here, we're using pydub to load the generated MP3 file into an AudioSegment object. This object allows us to manipulate various properties of the audio, including the frame rate, which we'll use to change the speech rate.\n",
        "\n",
        "- This part is crucial for adjusting the speech rate:\n",
        "\n",
        "> audio._spawn(audio.raw_data, overrides={...}): This is a somewhat low-level method in pydub. It creates a new AudioSegment instance (or \"spawns\" a new segment) using the raw audio data from the original audio object but with overridden properties as specified in the overrides dictionary.\n",
        "\n",
        "> \"frame_rate\": int(audio.frame_rate * rate): This is where the speech rate manipulation happens. The frame rate of the new audio segment is set to be the frame rate of the original audio multiplied by the desired rate. For instance, if the original frame rate is 44,100 Hz (common for many audio files) and rate=0.5, then the new frame rate will be 22,050 Hz. This effectively slows down the audio by half.\n",
        "\n",
        "> .set_frame_rate(audio.frame_rate): After changing the frame rate to manipulate the speech rate, this method sets the frame rate of the modified audio back to the original frame rate. This ensures that the audio plays at the correct pitch.\n",
        "\n",
        "- After modifying the audio's frame rate (and thus its speech rate), the code exports the modified AudioSegment object to a new MP3 file named \"modified_audio.mp3\".\n",
        "\n",
        "-     return IPAudio(modified_filename)\n"
      ],
      "metadata": {
        "id": "ZmnklKRwlkWC"
      }
    },
    {
      "cell_type": "code",
      "source": [
        "from gtts import gTTS\n",
        "from pydub import AudioSegment\n",
        "from pydub.playback import play\n",
        "from IPython.display import display, Audio as IPAudio\n",
        "\n",
        "def generate_and_play(text, rate=1.0):\n",
        "    # Convert text to audio\n",
        "    tts = gTTS(text=text, lang='en')\n",
        "    filename = \"temp_audio.mp3\"\n",
        "    tts.save(filename)\n",
        "\n",
        "    # Load audio using pydub\n",
        "    audio = AudioSegment.from_file(filename, format=\"mp3\")\n",
        "\n",
        "    # Change frame rate to adjust playback speed\n",
        "    modified_audio = audio._spawn(audio.raw_data, overrides={\n",
        "        \"frame_rate\": int(audio.frame_rate * rate)\n",
        "    }).set_frame_rate(audio.frame_rate)\n",
        "\n",
        "    modified_filename = \"modified_audio.mp3\"\n",
        "    modified_audio.export(modified_filename, format=\"mp3\")\n",
        "\n",
        "    # Display in Colab\n",
        "    return IPAudio(modified_filename)\n",
        "\n"
      ],
      "metadata": {
        "id": "_sOVrVdnkn8e"
      },
      "execution_count": null,
      "outputs": []
    },
    {
      "cell_type": "code",
      "source": [
        "# Default rate\n",
        "audio = generate_and_play(\"This is the default speech rate.\")\n",
        "display(audio)\n",
        "\n",
        "# Half speed\n",
        "audio = generate_and_play(\"This is at 0.9 the speech rate.\", rate=0.9)\n",
        "display(audio)\n",
        "\n",
        "# Double speed\n",
        "audio = generate_and_play(\"This is at 1.1 the speech rate.\", rate=1.1)\n",
        "display(audio)\n"
      ],
      "metadata": {
        "id": "FJSG2y4Gks0c"
      },
      "execution_count": null,
      "outputs": []
    },
    {
      "cell_type": "markdown",
      "source": [
        "# Create and save the audio"
      ],
      "metadata": {
        "id": "kFNX5vi1m_8j"
      }
    },
    {
      "cell_type": "code",
      "source": [
        "!pip install gtts pydub\n",
        "!apt install ffmpeg"
      ],
      "metadata": {
        "id": "jEfjJsbjnCQZ"
      },
      "execution_count": null,
      "outputs": []
    },
    {
      "cell_type": "code",
      "source": [
        "from gtts import gTTS\n",
        "from pydub import AudioSegment\n",
        "from IPython.display import display, Audio as IPAudio\n",
        "\n",
        "def generate_and_play(text, rate=1.0):\n",
        "    # Convert text to audio\n",
        "    tts = gTTS(text=text, lang='en')\n",
        "    temp_filename = \"temp_audio.mp3\"\n",
        "    tts.save(temp_filename)\n",
        "\n",
        "    # Load audio using pydub\n",
        "    audio = AudioSegment.from_file(temp_filename, format=\"mp3\")\n",
        "\n",
        "    # Change frame rate to adjust playback speed\n",
        "    modified_audio = audio._spawn(audio.raw_data, overrides={\n",
        "        \"frame_rate\": int(audio.frame_rate * rate)\n",
        "    }).set_frame_rate(audio.frame_rate)\n",
        "\n",
        "    # Define the modified filename based on rate\n",
        "    modified_filename = f\"modified_audio_rate_{rate}.wav\"\n",
        "    modified_audio.export(modified_filename, format=\"wav\")\n",
        "\n",
        "    # Display in Colab\n",
        "    return IPAudio(modified_filename)\n"
      ],
      "metadata": {
        "id": "hLyGTTRPnDzc"
      },
      "execution_count": null,
      "outputs": []
    },
    {
      "cell_type": "code",
      "source": [
        "# Default rate\n",
        "audio = generate_and_play(\"This is the default speech rate.\", rate=1.0)\n",
        "display(audio)\n",
        "\n",
        "# Half speed\n",
        "audio = generate_and_play(\"This is at half the speech rate.\", rate=0.95)\n",
        "display(audio)\n",
        "\n",
        "# Double speed\n",
        "audio = generate_and_play(\"This is at double the speech rate.\", rate=1.05)\n",
        "display(audio)\n"
      ],
      "metadata": {
        "id": "uGpFlzBGnHHA"
      },
      "execution_count": null,
      "outputs": []
    }
  ]
}