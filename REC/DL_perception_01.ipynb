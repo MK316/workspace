{
  "nbformat": 4,
  "nbformat_minor": 0,
  "metadata": {
    "colab": {
      "private_outputs": true,
      "provenance": [],
      "authorship_tag": "ABX9TyOf+ZQsptnTR+TJx2QDMrjH",
      "include_colab_link": true
    },
    "kernelspec": {
      "name": "python3",
      "display_name": "Python 3"
    },
    "language_info": {
      "name": "python"
    }
  },
  "cells": [
    {
      "cell_type": "markdown",
      "metadata": {
        "id": "view-in-github",
        "colab_type": "text"
      },
      "source": [
        "<a href=\"https://colab.research.google.com/github/MK316/workspace/blob/main/REC/DL_perception_01.ipynb\" target=\"_parent\"><img src=\"https://colab.research.google.com/assets/colab-badge.svg\" alt=\"Open In Colab\"/></a>"
      ]
    },
    {
      "cell_type": "markdown",
      "source": [
        "# DL perception 228 data\n",
        "\n",
        "asof Nov.13"
      ],
      "metadata": {
        "id": "zZsGmF-RjZyH"
      }
    },
    {
      "cell_type": "markdown",
      "source": [
        "# Data: total 228 participants\n",
        "\n",
        "+ May to September 2023"
      ],
      "metadata": {
        "id": "vu1iBjHvjnvy"
      }
    },
    {
      "cell_type": "code",
      "execution_count": null,
      "metadata": {
        "id": "MHh_bz9-jSWY"
      },
      "outputs": [],
      "source": [
        "import pandas as pd"
      ]
    },
    {
      "cell_type": "code",
      "source": [
        "df = pd.read_csv(\"/content/DLtotal_1113.csv\")\n",
        "df[-1:]\n",
        "\n",
        "info = pd.read_csv(\"/content/DLtotal_1113_heads.csv\")\n",
        "info[-1:]"
      ],
      "metadata": {
        "id": "jnnRAFxGkGhW"
      },
      "execution_count": null,
      "outputs": []
    },
    {
      "cell_type": "code",
      "source": [
        "# Get the column names as a list\n",
        "column_names = list(df.columns)\n",
        "\n",
        "print(column_names)"
      ],
      "metadata": {
        "id": "4fo9oppskTYQ"
      },
      "execution_count": null,
      "outputs": []
    },
    {
      "cell_type": "markdown",
      "source": [
        "## Descriptive statistics"
      ],
      "metadata": {
        "id": "GfGgEo8OmKOQ"
      }
    },
    {
      "cell_type": "code",
      "source": [
        "descriptive_stats = df.describe()\n",
        "descriptive_stats"
      ],
      "metadata": {
        "id": "LJbz-BT1mNLA"
      },
      "execution_count": null,
      "outputs": []
    },
    {
      "cell_type": "code",
      "source": [
        "# Total summary of frequency data\n",
        "# import pandas as pd\n",
        "\n",
        "# # Assuming you have a DataFrame 'df' with multiple columns\n",
        "# # df = pd.read_csv('yourfile.csv') or create your DataFrame\n",
        "\n",
        "# # Identify categorical columns (assuming 'object' dtype as categorical)\n",
        "# categorical_cols = df.select_dtypes(include=['object']).columns\n",
        "\n",
        "# # Create a dictionary to hold frequency data for categorical columns\n",
        "# frequency_summary = {}\n",
        "\n",
        "# for col in categorical_cols:\n",
        "#     frequency_summary[col] = df[col].value_counts()\n",
        "\n",
        "# # Now 'frequency_summary' dictionary contains the frequency counts for each categorical column\n",
        "# # To print the summary for each categorical column:\n",
        "# for col, freq_table in frequency_summary.items():\n",
        "#     print(f\"Frequency table for column: {col}\")\n",
        "#     print(freq_table)\n",
        "#     print(\"\\n\")  # Print a newline for better readability between tables\n"
      ],
      "metadata": {
        "id": "ZE3-aey7nd9w"
      },
      "execution_count": null,
      "outputs": []
    },
    {
      "cell_type": "markdown",
      "source": [
        "## Column summary (Frequency)"
      ],
      "metadata": {
        "id": "KKI31KVqqJ24"
      }
    },
    {
      "cell_type": "code",
      "source": [
        "info"
      ],
      "metadata": {
        "id": "Y-npqqdXqkTi"
      },
      "execution_count": null,
      "outputs": []
    },
    {
      "cell_type": "code",
      "source": [
        "#@markdown Column summary table\n",
        "import pandas as pd\n",
        "\n",
        "# Assuming 'df' is your DataFrame and 'column_name' is the column you want to analyze\n",
        "# df = pd.DataFrame(...) # your data frame creation here\n",
        "# column_name = 'your_column' # replace with the column you want to analyze\n",
        "\n",
        "def frequency_table_with_percentage(df, column_name):\n",
        "    # Calculate frequency counts for the column\n",
        "    frequency_counts = df[column_name].value_counts(dropna=False)\n",
        "\n",
        "    # Calculate the percentage of each unique value\n",
        "    percentage = (frequency_counts / frequency_counts.sum()) * 100\n",
        "\n",
        "    # Create a DataFrame with the frequency and percentage\n",
        "    frequency_df = pd.DataFrame({'Frequency': frequency_counts, 'Percentage': percentage})\n",
        "\n",
        "    # Resetting the column name to a proper 'Value' heading for clarity\n",
        "    frequency_df = frequency_df.reset_index().rename(columns={'index': 'Value'})\n",
        "\n",
        "    return frequency_df\n",
        "\n",
        "# User input for the column name\n",
        "column_to_analyze = input(\"Enter the column name to create a frequency table with percentage: \")\n",
        "\n",
        "# Display the freque\n",
        "freq_table_df = frequency_table_with_percentage(df, column_to_analyze)\n",
        "print(freq_table_df)"
      ],
      "metadata": {
        "cellView": "form",
        "id": "9CmMDeMLqIrP"
      },
      "execution_count": null,
      "outputs": []
    },
    {
      "cell_type": "markdown",
      "source": [
        "Teaching_plan categorically"
      ],
      "metadata": {
        "id": "JZrCoL2UGNFU"
      }
    },
    {
      "cell_type": "code",
      "source": [
        "#@markdown Summary frequency table (likely to be a teacher?)\n",
        "import pandas as pd\n",
        "\n",
        "# Assuming 'df' is your dataframe and 'Teaching_plan' is the column with categorical points from 1 to 6\n",
        "\n",
        "# Map the 'Teaching_plan' values to the new categories\n",
        "df['Likelihood'] = df['Teaching_plan'].map(lambda x: 'not likely' if x in [1, 2, 3] else 'more likely or definitely')\n",
        "\n",
        "# Calculate frequency for each category\n",
        "likelihood_counts = df['Likelihood'].value_counts().reset_index()\n",
        "likelihood_counts.columns = ['Category', 'Count']\n",
        "\n",
        "# Calculate percentage for each category\n",
        "likelihood_percentage = df['Likelihood'].value_counts(normalize=True).mul(100).reset_index()\n",
        "likelihood_percentage.columns = ['Category', 'Percentage']\n",
        "\n",
        "# Merge the counts and percentages into one dataframe for a comprehensive summary\n",
        "summary_table = pd.merge(likelihood_counts, likelihood_percentage, on='Category')\n",
        "\n",
        "# Display the table with percentages rounded to two decimal places\n",
        "summary_table['Percentage'] = summary_table['Percentage'].round(2)\n",
        "\n",
        "print(summary_table)\n"
      ],
      "metadata": {
        "cellView": "form",
        "id": "LAezK6sBGRd4"
      },
      "execution_count": null,
      "outputs": []
    },
    {
      "cell_type": "code",
      "source": [
        "import pandas as pd\n",
        "\n",
        "# Assuming 'df' is your DataFrame with 'Teaching_plan' and 'A1' as columns.\n",
        "\n",
        "# Select rows where 'Teaching_plan' value is 4, 5, or 6\n",
        "selected_df = df[df['Teaching_plan'].isin([4,5,6])]\n",
        "\n",
        "# Get the frequency count of 'A1' column values in the filtered data\n",
        "a1_counts = selected_df['A1'].value_counts()\n",
        "\n",
        "# Convert the frequency count to a DataFrame\n",
        "a1_counts_df = a1_counts.reset_index()\n",
        "a1_counts_df.columns = ['A1_Response', 'Frequency']\n",
        "\n",
        "# If you need to display the ratio as well, calculate it using the total counts\n",
        "a1_counts_df['Percentage'] = (a1_counts_df['Frequency'] / a1_counts_df['Frequency'].sum()) * 100\n",
        "\n",
        "# Optionally, you can round the percentages to two decimal places\n",
        "a1_counts_df['Percentage'] = a1_counts_df['Percentage'].round(2)\n",
        "\n",
        "print(a1_counts_df)\n"
      ],
      "metadata": {
        "id": "74jQlwS3Hxja"
      },
      "execution_count": null,
      "outputs": []
    },
    {
      "cell_type": "code",
      "source": [
        "selected_df.head()"
      ],
      "metadata": {
        "id": "kgpi3Z_kOdBO"
      },
      "execution_count": null,
      "outputs": []
    }
  ]
}