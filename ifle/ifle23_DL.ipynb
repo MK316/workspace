{
  "nbformat": 4,
  "nbformat_minor": 0,
  "metadata": {
    "colab": {
      "private_outputs": true,
      "provenance": [],
      "authorship_tag": "ABX9TyOJisqwdf1Ut1ZRtLQyrvfZ",
      "include_colab_link": true
    },
    "kernelspec": {
      "name": "python3",
      "display_name": "Python 3"
    },
    "language_info": {
      "name": "python"
    }
  },
  "cells": [
    {
      "cell_type": "markdown",
      "metadata": {
        "id": "view-in-github",
        "colab_type": "text"
      },
      "source": [
        "<a href=\"https://colab.research.google.com/github/MK316/workspace/blob/main/ifle/ifle23_DL.ipynb\" target=\"_parent\"><img src=\"https://colab.research.google.com/assets/colab-badge.svg\" alt=\"Open In Colab\"/></a>"
      ]
    },
    {
      "cell_type": "markdown",
      "source": [
        "# DL course design\n",
        "\n",
        "Kim & Nam (2023) in preparation"
      ],
      "metadata": {
        "id": "w27k0mY1X0wA"
      }
    },
    {
      "cell_type": "code",
      "execution_count": null,
      "metadata": {
        "id": "96Ezct9EXxzV"
      },
      "outputs": [],
      "source": [
        "import pandas as pd"
      ]
    },
    {
      "cell_type": "code",
      "source": [
        "df = pd.read_csv(\"/content/reflection7.csv\")\n",
        "df.head()"
      ],
      "metadata": {
        "id": "ieI9JQeVNdLR"
      },
      "execution_count": null,
      "outputs": []
    },
    {
      "cell_type": "code",
      "source": [
        "import pandas as pd\n",
        "import matplotlib.pyplot as plt\n",
        "\n",
        "# Ensure that 'Log' is sorted in ascending order for correct plotting\n",
        "df['Log'] = pd.Categorical(df['Log'], categories=['Log1', 'Log2', 'Log3', 'Log4', 'Log5', 'Log6', 'Log7'], ordered=True)\n",
        "df = df.sort_values('Log')\n",
        "\n",
        "grouped = df.groupby('Log')['Course_diff'].mean()\n",
        "\n",
        "plt.figure(figsize=(10,6))\n",
        "plt.ylim(1,6)\n",
        "grouped.plot(kind='line')\n",
        "plt.xlabel('Log')\n",
        "plt.ylabel('Course_diff')\n",
        "plt.title('Course_diff Grouped by Log')\n",
        "# plt.grid(True)\n",
        "plt.show()\n"
      ],
      "metadata": {
        "id": "cOL9ZJoyNoVT"
      },
      "execution_count": null,
      "outputs": []
    },
    {
      "cell_type": "code",
      "source": [
        "import pandas as pd\n",
        "import matplotlib.pyplot as plt\n",
        "\n",
        "# Set global font size\n",
        "plt.rcParams.update({'font.size': 16})\n",
        "\n",
        "# Ensure that 'Log' is sorted in ascending order for correct plotting\n",
        "df['Log'] = pd.Categorical(df['Log'], categories=['Log1', 'Log2', 'Log3', 'Log4', 'Log5', 'Log6', 'Log7'], ordered=True)\n",
        "df = df.sort_values('Log')\n",
        "\n",
        "grouped = df.groupby('Log')['Course_diff'].mean()\n",
        "\n",
        "plt.figure(figsize=(10,6))\n",
        "plt.ylim(1,6)\n",
        "grouped.plot(kind='line', marker='o')  # Add 'marker' parameter\n",
        "plt.xlabel('Logs (every two weeks)')\n",
        "plt.ylabel('Course difficulty rating (1~6)')\n",
        "plt.title('Course Difficulty Grouped by Self-log (1~7)')\n",
        "plt.tight_layout() # to ensure the whole labels are included in the saved image\n",
        "\n",
        "# Save image in high quality\n",
        "plt.savefig('Course_diff_Grouped_by_Log.png', dpi=1200)\n",
        "plt.show()\n"
      ],
      "metadata": {
        "id": "M5vvE5Q8SeV5"
      },
      "execution_count": null,
      "outputs": []
    },
    {
      "cell_type": "code",
      "source": [
        "import pandas as pd\n",
        "import matplotlib.pyplot as plt\n",
        "from scipy.stats import sem\n",
        "\n",
        "# Set global font size\n",
        "plt.rcParams.update({'font.size': 16})\n",
        "\n",
        "# Ensure that 'Log' is sorted in ascending order for correct plotting\n",
        "df['Log'] = pd.Categorical(df['Log'], categories=['Log1', 'Log2', 'Log3', 'Log4', 'Log5', 'Log6', 'Log7'], ordered=True)\n",
        "df = df.sort_values('Log')\n",
        "\n",
        "grouped_mean = df.groupby('Log')['Course_diff'].mean()\n",
        "grouped_sem = df.groupby('Log')['Course_diff'].apply(sem)\n",
        "\n",
        "plt.figure(figsize=(10,6))\n",
        "plt.ylim(1,6)\n",
        "\n",
        "# Include yerr parameter for error bars\n",
        "plt.errorbar(grouped_mean.index, grouped_mean, yerr=grouped_sem, fmt='-o', capsize=5)\n",
        "plt.xlabel('Logs (every two weeks)')\n",
        "plt.ylabel('Course difficulty rating (1~6)')\n",
        "plt.title('Course Difficulty Grouped by Self-log (1~7)')\n",
        "plt.tight_layout() # to ensure the whole labels are included in the saved image\n",
        "\n",
        "# Save image in high quality\n",
        "plt.savefig('Coursediff_by_Log_errorbar.png', dpi=1200)\n",
        "plt.show()\n"
      ],
      "metadata": {
        "id": "J8qpSsPZaGVx"
      },
      "execution_count": null,
      "outputs": []
    },
    {
      "cell_type": "markdown",
      "source": [
        "Summary"
      ],
      "metadata": {
        "id": "u6yxJNL5O5-w"
      }
    },
    {
      "cell_type": "code",
      "source": [
        "df['Course_diff'].describe()"
      ],
      "metadata": {
        "id": "6zc3UjDRO5YU"
      },
      "execution_count": null,
      "outputs": []
    },
    {
      "cell_type": "markdown",
      "source": [
        "Boxplot"
      ],
      "metadata": {
        "id": "JxXmi0xXPkRf"
      }
    },
    {
      "cell_type": "code",
      "source": [
        "import seaborn as sns\n",
        "\n",
        "# Boxplot\n",
        "sns.boxplot(x='Log', y='Course_diff', data=df, order=['Log1', 'Log2', 'Log3', 'Log4', 'Log5', 'Log6', 'Log7'])\n",
        "plt.title('Boxplot of Course_diff Grouped by Log')\n",
        "plt.ylim(1,6)\n",
        "plt.show()\n",
        "\n",
        "# Violin plot\n",
        "sns.violinplot(x='Log', y='Course_diff', data=df, order=['Log1', 'Log2', 'Log3', 'Log4', 'Log5', 'Log6', 'Log7'])\n",
        "plt.title('Violin plot of Course_diff Grouped by Log')\n",
        "plt.show()\n"
      ],
      "metadata": {
        "id": "nFx0z_fJPjcy"
      },
      "execution_count": null,
      "outputs": []
    },
    {
      "cell_type": "code",
      "source": [
        "import seaborn as sns\n",
        "\n",
        "# Boxplot\n",
        "sns.boxplot(y='Course_diff', data=df)\n",
        "plt.title('Boxplot of Course_diff')\n",
        "plt.show()\n",
        "\n",
        "# Violin plot\n",
        "sns.violinplot(y='Course_diff', data=df)\n",
        "plt.title('Violin Plot of Course_diff')\n",
        "plt.show()\n"
      ],
      "metadata": {
        "id": "tVVl0i3HQYcs"
      },
      "execution_count": null,
      "outputs": []
    },
    {
      "cell_type": "markdown",
      "source": [
        "# Q2. DL and English language learning"
      ],
      "metadata": {
        "id": "fwg4aF1JXU28"
      }
    },
    {
      "cell_type": "code",
      "source": [
        "df['DL_helpful'].describe()"
      ],
      "metadata": {
        "id": "dphVv-woXYLp"
      },
      "execution_count": null,
      "outputs": []
    },
    {
      "cell_type": "code",
      "source": [
        "import pandas as pd\n",
        "import matplotlib.pyplot as plt\n",
        "from scipy.stats import sem\n",
        "\n",
        "# Set global font size\n",
        "plt.rcParams.update({'font.size': 16})\n",
        "\n",
        "# Ensure that 'Log' is sorted in ascending order for correct plotting\n",
        "df['Log'] = pd.Categorical(df['Log'], categories=['Log1', 'Log2', 'Log3', 'Log4', 'Log5', 'Log6', 'Log7'], ordered=True)\n",
        "df = df.sort_values('Log')\n",
        "\n",
        "grouped_mean = df.groupby('Log')['DL_helpful'].mean()\n",
        "grouped_sem = df.groupby('Log')['DL_helpful'].apply(sem)\n",
        "\n",
        "plt.figure(figsize=(10,6))\n",
        "plt.ylim(1,6)\n",
        "\n",
        "# Include yerr parameter for error bars\n",
        "plt.errorbar(grouped_mean.index, grouped_mean, yerr=grouped_sem, fmt='-o', capsize=5)\n",
        "plt.xlabel('Logs (every two weeks)')\n",
        "plt.ylabel('Digital Literacy Training rating (1~6)')\n",
        "plt.title('Helpful Digital Literacy Training?')\n",
        "plt.tight_layout() # to ensure the whole labels are included in the saved image\n",
        "\n",
        "# Save image in high quality\n",
        "plt.savefig('DLHelpful_by_Log.png', dpi=1200)\n",
        "plt.show()\n"
      ],
      "metadata": {
        "id": "DGfq6BvuZsSf"
      },
      "execution_count": null,
      "outputs": []
    },
    {
      "cell_type": "markdown",
      "source": [
        "Q3&4"
      ],
      "metadata": {
        "id": "KCjoql8ifWje"
      }
    },
    {
      "cell_type": "code",
      "source": [
        "df['EL_helpful'].describe()"
      ],
      "metadata": {
        "id": "FPIA4nWGfXtF"
      },
      "execution_count": null,
      "outputs": []
    },
    {
      "cell_type": "code",
      "source": [
        "df['ET_helpful'].describe()"
      ],
      "metadata": {
        "id": "W4zNqdnifcqj"
      },
      "execution_count": null,
      "outputs": []
    },
    {
      "cell_type": "code",
      "source": [
        "import pandas as pd\n",
        "import matplotlib.pyplot as plt\n",
        "\n",
        "# Set global font size\n",
        "plt.rcParams.update({'font.size': 16})\n",
        "\n",
        "# Ensure that 'Log' is sorted in ascending order for correct plotting\n",
        "df['Log'] = pd.Categorical(df['Log'], categories=['Log1', 'Log2', 'Log3', 'Log4', 'Log5', 'Log6', 'Log7'], ordered=True)\n",
        "df = df.sort_values('Log')\n",
        "\n",
        "# Group by Log and calculate the mean for EL_helpful and ET_helpful\n",
        "grouped_EL = df.groupby('Log')['EL_helpful'].mean()\n",
        "grouped_ET = df.groupby('Log')['ET_helpful'].mean()\n",
        "\n",
        "plt.figure(figsize=(10,6))\n",
        "plt.ylim(1,6)\n",
        "\n",
        "# Plot the mean values with different colors\n",
        "grouped_EL.plot(kind='line', marker='o', color='blue', label='English Learning')\n",
        "grouped_ET.plot(kind='line', marker='*', color='red', label='English Teaching')\n",
        "\n",
        "# Add labels and title\n",
        "plt.xlabel('Logs (every two weeks)')\n",
        "plt.ylabel('Helpfulness Rating (1~6)')\n",
        "plt.title('Helpfulness of Course Content for English Learning and Teaching')\n",
        "\n",
        "# Add legend\n",
        "plt.legend()\n",
        "\n",
        "plt.tight_layout() # to ensure the whole labels are included in the saved image\n",
        "\n",
        "# Save image in high quality\n",
        "plt.savefig('Helpfulness_by_Log.png', dpi=1200)\n",
        "\n",
        "plt.show()\n"
      ],
      "metadata": {
        "id": "NrdYyB48f4ks"
      },
      "execution_count": null,
      "outputs": []
    },
    {
      "cell_type": "code",
      "source": [
        "import pandas as pd\n",
        "import seaborn as sns\n",
        "import matplotlib.pyplot as plt\n",
        "\n",
        "# Set global font size\n",
        "plt.rcParams.update({'font.size': 16})\n",
        "\n",
        "# Ensure that 'Log' is sorted in ascending order for correct plotting\n",
        "df['Log'] = pd.Categorical(df['Log'], categories=['Log1', 'Log2', 'Log3', 'Log4', 'Log5', 'Log6', 'Log7'], ordered=True)\n",
        "df = df.sort_values('Log')\n",
        "\n",
        "plt.figure(figsize=(10,6))\n",
        "sns.lineplot(x='Log', y='EL_helpful', data=df, label='English Learning', ci=95)\n",
        "sns.lineplot(x='Log', y='ET_helpful', data=df, label='English Teaching', ci=95)\n",
        "\n",
        "plt.xlabel('Logs (every two weeks)')\n",
        "plt.ylabel('Helpfulness Rating (1~6)')\n",
        "plt.title('Helpfulness of Course Content for English Learning and Teaching')\n",
        "plt.legend()\n",
        "\n",
        "plt.tight_layout()  # to ensure the whole labels are included in the saved image\n",
        "\n",
        "# Save image in high quality\n",
        "plt.savefig('Helpfulness_by_Log_with_errorbars.png', dpi=1200)\n",
        "\n",
        "plt.show()\n"
      ],
      "metadata": {
        "id": "AKlKeeLngqQl"
      },
      "execution_count": null,
      "outputs": []
    }
  ]
}