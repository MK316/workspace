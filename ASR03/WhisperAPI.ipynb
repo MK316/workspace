{
  "nbformat": 4,
  "nbformat_minor": 0,
  "metadata": {
    "colab": {
      "private_outputs": true,
      "provenance": [],
      "authorship_tag": "ABX9TyOQvZt+aPb6o7fZI5s43UTu",
      "include_colab_link": true
    },
    "kernelspec": {
      "name": "python3",
      "display_name": "Python 3"
    },
    "language_info": {
      "name": "python"
    }
  },
  "cells": [
    {
      "cell_type": "markdown",
      "metadata": {
        "id": "view-in-github",
        "colab_type": "text"
      },
      "source": [
        "<a href=\"https://colab.research.google.com/github/MK316/workspace/blob/main/ASR03/WhisperAPI.ipynb\" target=\"_parent\"><img src=\"https://colab.research.google.com/assets/colab-badge.svg\" alt=\"Open In Colab\"/></a>"
      ]
    },
    {
      "cell_type": "markdown",
      "source": [
        "# [1] Setting: openai install"
      ],
      "metadata": {
        "id": "5rlcomSRlGXe"
      }
    },
    {
      "cell_type": "code",
      "execution_count": null,
      "metadata": {
        "id": "y8_RTHFIUhly"
      },
      "outputs": [],
      "source": [
        "%%capture\n",
        "!pip install openai"
      ]
    },
    {
      "cell_type": "code",
      "source": [
        "import openai\n",
        "openai.api_key = input('openai API key here')"
      ],
      "metadata": {
        "id": "xyXTUe1sUmyG"
      },
      "execution_count": null,
      "outputs": []
    },
    {
      "cell_type": "markdown",
      "source": [
        "# [2] File to read"
      ],
      "metadata": {
        "id": "9YSPk78jlMJ6"
      }
    },
    {
      "cell_type": "code",
      "source": [
        "import os\n",
        "url = \"https://raw.githubusercontent.com/MK316/workspace/main/ASR01/audio/F01_post.wav\"\n",
        "os.system(\"curl \" + url + \" > test.wav\")"
      ],
      "metadata": {
        "id": "1V8DiFVVUpSp"
      },
      "execution_count": null,
      "outputs": []
    },
    {
      "cell_type": "code",
      "source": [
        "audio_file = open(\"test.wav\", \"rb\")\n",
        "transcript = openai.Audio.transcribe(\"whisper-1\", audio_file)\n",
        "print(transcript)"
      ],
      "metadata": {
        "id": "bUlZUki1lUL2"
      },
      "execution_count": null,
      "outputs": []
    },
    {
      "cell_type": "markdown",
      "source": [
        "Translation"
      ],
      "metadata": {
        "id": "xQt2-nEeleqp"
      }
    },
    {
      "cell_type": "code",
      "source": [
        "audio_file = open(\"test.wav\", \"rb\")\n",
        "translation = openai.Audio.translate(\"whisper-1\", audio_file)\n",
        "print(translation)"
      ],
      "metadata": {
        "id": "fa92uY9rld8p"
      },
      "execution_count": null,
      "outputs": []
    },
    {
      "cell_type": "code",
      "source": [
        "print(translation['text'])"
      ],
      "metadata": {
        "id": "whQ6s7iXljFN"
      },
      "execution_count": null,
      "outputs": []
    },
    {
      "cell_type": "markdown",
      "source": [
        "# [3] Applying to my data"
      ],
      "metadata": {
        "id": "rLyfOg2rlYUx"
      }
    },
    {
      "cell_type": "code",
      "source": [
        "import os"
      ],
      "metadata": {
        "id": "zJkJ8oiplq9o"
      },
      "execution_count": null,
      "outputs": []
    },
    {
      "cell_type": "markdown",
      "source": [
        "File: gTTS synthesized speech"
      ],
      "metadata": {
        "id": "45DJymSrmAsw"
      }
    },
    {
      "cell_type": "code",
      "source": [
        "url = \"https://raw.githubusercontent.com/MK316/workspace/main/ASR01/audio/SK_sentences.wav\"\n",
        "os.system(\"curl \" + url + \" > test1.wav\")"
      ],
      "metadata": {
        "id": "ON8X2Tl_WDlm"
      },
      "execution_count": null,
      "outputs": []
    },
    {
      "cell_type": "code",
      "source": [
        "audio_file = open(\"test1.wav\", \"rb\")\n",
        "transcript = openai.Audio.transcribe(\"whisper-1\", audio_file)\n",
        "print(transcript)"
      ],
      "metadata": {
        "id": "ddiLtZhcUs5X"
      },
      "execution_count": null,
      "outputs": []
    },
    {
      "cell_type": "markdown",
      "source": [
        "File2: Recording wav format (learner): F01_post.wav"
      ],
      "metadata": {
        "id": "ufx7LJeAnhQ2"
      }
    },
    {
      "cell_type": "code",
      "source": [
        "url = \"https://raw.githubusercontent.com/MK316/workspace/main/ASR01/audio/F01_post.wav\"\n",
        "os.system(\"curl \" + url + \" > test1.wav\")"
      ],
      "metadata": {
        "id": "ckZUm2lUmQHG"
      },
      "execution_count": null,
      "outputs": []
    },
    {
      "cell_type": "code",
      "source": [
        "audio_file = open(\"test1.wav\", \"rb\")\n",
        "transcript = openai.Audio.transcribe(\"whisper-1\", audio_file)\n",
        "print(transcript)"
      ],
      "metadata": {
        "id": "0U5GBxnDnstB"
      },
      "execution_count": null,
      "outputs": []
    },
    {
      "cell_type": "markdown",
      "source": [
        "File 3: Accented speech (online)"
      ],
      "metadata": {
        "id": "H5sonofDnwwr"
      }
    },
    {
      "cell_type": "code",
      "source": [
        "url = \"https://raw.githubusercontent.com/MK316/workspace/main/ASR03/audio/korean3.mp3\"\n",
        "os.system(\"curl \" + url + \" > test1.mp3\")"
      ],
      "metadata": {
        "id": "Scfx-yjzn2Q0"
      },
      "execution_count": null,
      "outputs": []
    },
    {
      "cell_type": "code",
      "source": [
        "audio_file = open(\"test1.mp3\", \"rb\")\n",
        "transcript = openai.Audio.transcribe(\"whisper-1\", audio_file)\n",
        "# print(transcript)\n",
        "print(transcript['text'])"
      ],
      "metadata": {
        "id": "JnXVOucroESm"
      },
      "execution_count": null,
      "outputs": []
    },
    {
      "cell_type": "markdown",
      "source": [
        "# File format change"
      ],
      "metadata": {
        "id": "z0g4p0OioVYx"
      }
    },
    {
      "cell_type": "code",
      "source": [
        "!apt install -y ffmpeg\n",
        "!pip install pydub\n"
      ],
      "metadata": {
        "id": "_YpfAiwCYv_w"
      },
      "execution_count": null,
      "outputs": []
    },
    {
      "cell_type": "code",
      "source": [
        "from pydub import AudioSegment\n",
        "\n",
        "def convert_wav_to_mp3(wav_file, mp3_file):\n",
        "    audio = AudioSegment.from_wav(wav_file)\n",
        "    audio.export(mp3_file, format=\"mp3\")\n",
        "\n",
        "# Use the function to convert a wav file to mp3\n",
        "convert_wav_to_mp3(\"test3.wav\", \"test3.mp3\")\n"
      ],
      "metadata": {
        "id": "vaRPOfhrYyB6"
      },
      "execution_count": null,
      "outputs": []
    }
  ]
}