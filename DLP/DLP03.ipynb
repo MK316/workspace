{
  "nbformat": 4,
  "nbformat_minor": 0,
  "metadata": {
    "colab": {
      "private_outputs": true,
      "provenance": [],
      "authorship_tag": "ABX9TyMum/OwD7iivce1OYczYKmM",
      "include_colab_link": true
    },
    "kernelspec": {
      "name": "python3",
      "display_name": "Python 3"
    },
    "language_info": {
      "name": "python"
    }
  },
  "cells": [
    {
      "cell_type": "markdown",
      "metadata": {
        "id": "view-in-github",
        "colab_type": "text"
      },
      "source": [
        "<a href=\"https://colab.research.google.com/github/MK316/workspace/blob/main/DLP/DLP03.ipynb\" target=\"_parent\"><img src=\"https://colab.research.google.com/assets/colab-badge.svg\" alt=\"Open In Colab\"/></a>"
      ]
    },
    {
      "cell_type": "markdown",
      "source": [
        "# Digital Literacy Perception study (23.6~)\n"
      ],
      "metadata": {
        "id": "tGv7ggwV5opz"
      }
    },
    {
      "cell_type": "markdown",
      "source": [
        "#1. Demographic info"
      ],
      "metadata": {
        "id": "F0kfL4dE5ua1"
      }
    },
    {
      "cell_type": "code",
      "source": [
        "import matplotlib.pyplot as plt\n",
        "import pandas as pd"
      ],
      "metadata": {
        "id": "qX5kkAV67TFq"
      },
      "execution_count": null,
      "outputs": []
    },
    {
      "cell_type": "code",
      "execution_count": null,
      "metadata": {
        "id": "QwGOnJbz5lmN"
      },
      "outputs": [],
      "source": [
        "url = \"https://raw.githubusercontent.com/MK316/workspace/main/DLP/data/data05.csv\"\n",
        "df = pd.read_csv(url)\n",
        "df.head()"
      ]
    },
    {
      "cell_type": "code",
      "source": [
        "# Assuming that 'df' is your DataFrame and 'Major' and 'LGP' are your columns\n",
        "summary = df.groupby(['Major', 'Q2']).size().reset_index(name='Frequency')\n",
        "\n",
        "# Print the resulting DataFrame\n",
        "print(summary)\n"
      ],
      "metadata": {
        "id": "za24DEOLfypw"
      },
      "execution_count": null,
      "outputs": []
    },
    {
      "cell_type": "code",
      "source": [
        "df.describe()"
      ],
      "metadata": {
        "id": "Y41vhgnJ2ltW"
      },
      "execution_count": null,
      "outputs": []
    },
    {
      "cell_type": "markdown",
      "source": [
        "## Pie chart for demographic info"
      ],
      "metadata": {
        "id": "-9FVGw30Wp6A"
      }
    },
    {
      "cell_type": "code",
      "source": [
        "\n",
        "import pandas as pd\n",
        "import matplotlib.pyplot as plt\n",
        "from mpl_toolkits.mplot3d import Axes3D\n",
        "import matplotlib as mpl\n",
        "\n",
        "# Assuming your DataFrame is named df and column of interest is 'Q2'\n",
        "\n",
        "# Create a dictionary that maps old labels to new ones\n",
        "labels = {'1st': 'Freshmen', '2nd': 'Sophomore', '3rd': 'Junior', '4th': 'Senior'}\n",
        "\n",
        "# Use the .replace() method to change the labels\n",
        "df['Q2'] = df['Q2'].replace(labels)\n",
        "\n",
        "data = df['Q2'].value_counts()\n",
        "\n",
        "# Set global font size\n",
        "mpl.rcParams['font.size'] = 16  # change the number as per your requirements\n",
        "\n",
        "# Create a 2D pie chart\n",
        "plt.figure(figsize=(10,10), dpi=600)\n",
        "plt.pie(data, labels = data.index, autopct='%1.1f%%')\n",
        "plt.title('2D Pie Chart for Q2')\n",
        "plt.savefig('2D_pie_chart.png')\n",
        "plt.show()\n"
      ],
      "metadata": {
        "id": "ULPfnCgXV_6x"
      },
      "execution_count": null,
      "outputs": []
    },
    {
      "cell_type": "code",
      "source": [
        "import matplotlib.pyplot as plt\n",
        "\n",
        "# count the occurrence of each class\n",
        "count_series = df['Major'].value_counts()\n",
        "\n",
        "# specify the colors\n",
        "colors = ['lightblue', 'orange']\n",
        "\n",
        "# create a pie chart\n",
        "count_series.plot(kind='pie', autopct='%1.1f%%', colors=colors)\n",
        "# Set global font size\n",
        "mpl.rcParams['font.size'] = 16\n",
        "# set the title\n",
        "plt.title('Majors Distribution')\n",
        "\n",
        "# save the plot as an image file\n",
        "plt.savefig('majors_distribution.png', dpi=800)\n",
        "\n",
        "# show the plot\n",
        "plt.show()\n",
        "\n"
      ],
      "metadata": {
        "id": "mumipI667dn9"
      },
      "execution_count": null,
      "outputs": []
    },
    {
      "cell_type": "code",
      "source": [
        "import matplotlib.pyplot as plt\n",
        "import matplotlib as mpl\n",
        "\n",
        "# count the occurrence of each class\n",
        "count_series = df['Major'].value_counts()\n",
        "\n",
        "# specify the colors\n",
        "colors = ['lightblue', 'orange']\n",
        "\n",
        "# create a pie chart\n",
        "plt.figure(figsize=(10, 10))  # increase figure size\n",
        "\n",
        "# Add labeldistance parameter in the pie() function\n",
        "count_series.plot(kind='pie', autopct='%1.1f%%', colors=colors, labeldistance=0.8)\n",
        "\n",
        "# Set global font size\n",
        "mpl.rcParams['font.size'] = 16\n",
        "\n",
        "# set the title\n",
        "plt.title('Majors Distribution')\n",
        "\n",
        "# Use a tight layout\n",
        "plt.tight_layout()\n",
        "\n",
        "# save the plot as an image file (make sure labels are not cut off)\n",
        "plt.savefig('majors_distribution.png', dpi=800, bbox_inches='tight')\n",
        "\n",
        "# show the plot\n",
        "plt.show()\n"
      ],
      "metadata": {
        "id": "w1iLwZtgaoLY"
      },
      "execution_count": null,
      "outputs": []
    },
    {
      "cell_type": "code",
      "source": [
        "import matplotlib.pyplot as plt\n",
        "\n",
        "# Update default font size for all text elements in the figure\n",
        "plt.rcParams.update({'font.size': 14})\n",
        "\n",
        "# count the occurrence of each class\n",
        "count_series = df['Major'].value_counts()\n",
        "\n",
        "# specify the colors\n",
        "colors = ['lightblue', 'orange'] * (len(count_series) // 2)\n",
        "\n",
        "# create a new figure with specified size\n",
        "plt.figure(figsize=(800/96, 600/96))  # Converting pixels to inches\n",
        "\n",
        "# create a bar plot\n",
        "bars = count_series.plot.bar(color=colors)\n",
        "\n",
        "# set the title\n",
        "plt.title('Majors Distribution')\n",
        "\n",
        "# set y-axis label\n",
        "plt.ylabel('Frequency')\n",
        "\n",
        "# rotate x-axis labels to horizontal\n",
        "plt.xticks(rotation=0)\n",
        "\n",
        "# add counts inside each bar\n",
        "for rect in bars.patches:\n",
        "    height = rect.get_height()\n",
        "    plt.text(rect.get_x() + rect.get_width() / 2, height, int(height), ha='center', va='bottom')\n",
        "\n",
        "# save the plot as an image file with high dpi\n",
        "plt.savefig('majors_distribution.png', dpi=600)\n",
        "\n",
        "# show the plot\n",
        "plt.show()\n"
      ],
      "metadata": {
        "id": "Q517yDVw98t6"
      },
      "execution_count": null,
      "outputs": []
    },
    {
      "cell_type": "code",
      "source": [
        "major_counts = df['Major'].value_counts()\n",
        "print(major_counts)"
      ],
      "metadata": {
        "id": "j5eZwyeG8Ub2"
      },
      "execution_count": null,
      "outputs": []
    },
    {
      "cell_type": "markdown",
      "source": [
        "## A-3 Are you currently taking any course introducing digital literacy training?"
      ],
      "metadata": {
        "id": "yTDrSqsiFLKZ"
      }
    },
    {
      "cell_type": "code",
      "source": [
        "# Update default font size for all text elements in the figure\n",
        "plt.rcParams.update({'font.size': 16})\n",
        "\n",
        "# count the occurrence of each class\n",
        "count_series = df['Coding_exp_current'].value_counts()\n",
        "\n",
        "# specify the colors\n",
        "colors = ['lightblue', 'orange'] * (len(count_series) // 2)\n",
        "\n",
        "# create a new figure with specified size\n",
        "plt.figure(figsize=(8, 4))  # size in inches\n",
        "\n",
        "# create a bar plot\n",
        "bars = count_series.plot.bar(color=colors)\n",
        "# set the title\n",
        "plt.title('A-3. Currently taking digital literacy related course?')\n",
        "\n",
        "# set y-axis label\n",
        "plt.ylabel('Frequency')\n",
        "\n",
        "# expand the ylim to 100\n",
        "plt.ylim(0, 110)\n",
        "\n",
        "# rotate x-axis labels to horizontal\n",
        "plt.xticks(rotation=0)\n",
        "\n",
        "# calculate total number for percentage\n",
        "total = sum(count_series)\n",
        "\n",
        "# add counts inside each bar\n",
        "for rect in bars.patches:\n",
        "    height = rect.get_height()\n",
        "    # calculate the percentage and format it\n",
        "    percentage = '{:.1f}%'.format(100 * height/total)\n",
        "    # add percentage as text inside the bar\n",
        "    plt.text(rect.get_x() + rect.get_width() / 2, height, f'{int(height)} ({percentage})', ha='center', va='bottom')\n",
        "\n",
        "# save the plot as an image file with high dpi\n",
        "plt.savefig('A-3.png', dpi=1200)\n",
        "\n",
        "# show the plot\n",
        "plt.show()\n"
      ],
      "metadata": {
        "id": "OQTkXjEhFRCB"
      },
      "execution_count": null,
      "outputs": []
    },
    {
      "cell_type": "markdown",
      "source": [
        "## A-4"
      ],
      "metadata": {
        "id": "0GJEz9O2HbfW"
      }
    },
    {
      "cell_type": "code",
      "source": [
        "# Update default font size for all text elements in the figure\n",
        "plt.rcParams.update({'font.size': 16})\n",
        "\n",
        "# count the occurrence of each class\n",
        "count_series = df['Coding_exp'].value_counts()\n",
        "\n",
        "# specify the colors\n",
        "colors = ['lightblue', 'orange'] * (len(count_series) // 2)\n",
        "\n",
        "# create a new figure with specified size\n",
        "plt.figure(figsize=(8, 4))  # size in inches\n",
        "\n",
        "# create a bar plot\n",
        "bars = count_series.plot.bar(color=colors)\n",
        "# set the title\n",
        "plt.title('A-4. Learned coding before?')\n",
        "\n",
        "# set y-axis label\n",
        "plt.ylabel('Frequency')\n",
        "\n",
        "# expand the ylim to 100\n",
        "plt.ylim(0, 150)\n",
        "\n",
        "# rotate x-axis labels to horizontal\n",
        "plt.xticks(rotation=0)\n",
        "\n",
        "# calculate total number for percentage\n",
        "total = sum(count_series)\n",
        "\n",
        "# add counts inside each bar\n",
        "for rect in bars.patches:\n",
        "    height = rect.get_height()\n",
        "    # calculate the percentage and format it\n",
        "    percentage = '{:.1f}%'.format(100 * height/total)\n",
        "    # add percentage as text inside the bar\n",
        "    plt.text(rect.get_x() + rect.get_width() / 2, height, f'{int(height)} ({percentage})', ha='center', va='bottom')\n",
        "\n",
        "# save the plot as an image file with high dpi\n",
        "plt.savefig('A-4.png', dpi=1200)\n",
        "\n",
        "# show the plot\n",
        "plt.show()"
      ],
      "metadata": {
        "id": "5rc769C1Hcnx"
      },
      "execution_count": null,
      "outputs": []
    },
    {
      "cell_type": "code",
      "source": [
        "# Update default font size for all text elements in the figure\n",
        "plt.rcParams.update({'font.size': 16})\n",
        "\n",
        "# count the occurrence of each class\n",
        "count_series = df['When'].value_counts()\n",
        "\n",
        "# specify the colors\n",
        "colors = ['lightblue', 'orange'] * (len(count_series) // 2)\n",
        "\n",
        "# create a new figure with specified size\n",
        "plt.figure(figsize=(8, 4))  # size in inches\n",
        "\n",
        "# create a bar plot\n",
        "bars = count_series.plot.bar(color=colors)\n",
        "# set the title\n",
        "plt.title('A-5. Learned coding when?')\n",
        "\n",
        "# set y-axis label\n",
        "plt.ylabel('Frequency')\n",
        "\n",
        "# expand the ylim to 100\n",
        "plt.ylim(0, 150)\n",
        "\n",
        "# rotate x-axis labels to horizontal\n",
        "plt.xticks(rotation=0)\n",
        "\n",
        "# calculate total number for percentage\n",
        "total = sum(count_series)\n",
        "\n",
        "# add counts inside each bar\n",
        "for rect in bars.patches:\n",
        "    height = rect.get_height()\n",
        "    # calculate the percentage and format it\n",
        "    percentage = '{:.1f}%'.format(100 * height/total)\n",
        "    # add percentage as text inside the bar\n",
        "    plt.text(rect.get_x() + rect.get_width() / 2, height, f'{int(height)} ({percentage})', ha='center', va='bottom')\n",
        "\n",
        "# save the plot as an image file with high dpi\n",
        "plt.savefig('A-5.png', dpi=1200)\n",
        "\n",
        "# show the plot\n",
        "plt.show()"
      ],
      "metadata": {
        "id": "WLSZB_zZJPNT"
      },
      "execution_count": null,
      "outputs": []
    },
    {
      "cell_type": "code",
      "source": [
        "# Update default font size for all text elements in the figure\n",
        "plt.rcParams.update({'font.size': 16})\n",
        "\n",
        "# create new DataFrame without 'NO' in 'When' column\n",
        "df_no = df[df['When'] != 'NO']\n",
        "\n",
        "# count the occurrence of each class in the new DataFrame\n",
        "count_series = df_no['When'].value_counts()\n",
        "\n",
        "# specify the colors\n",
        "colors = ['lightblue', 'orange'] * (len(count_series) // 2)\n",
        "\n",
        "# create a new figure with specified size\n",
        "plt.figure(figsize=(8, 4))  # size in inches\n",
        "\n",
        "# create a bar plot\n",
        "bars = count_series.plot.bar(color=colors)\n",
        "\n",
        "# set the title\n",
        "plt.title('A-5. Learned coding when?')\n",
        "\n",
        "# set y-axis label\n",
        "plt.ylabel('Frequency')\n",
        "\n",
        "# expand the ylim to 100\n",
        "plt.ylim(0, 30)\n",
        "\n",
        "# rotate x-axis labels to horizontal\n",
        "plt.xticks(rotation=0)\n",
        "\n",
        "# calculate total number for percentage\n",
        "total = sum(count_series)\n",
        "\n",
        "# add counts inside each bar\n",
        "for rect in bars.patches:\n",
        "    height = rect.get_height()\n",
        "    # calculate the percentage and format it\n",
        "    percentage = '{:.1f}%'.format(100 * height/total)\n",
        "    # add percentage as text inside the bar\n",
        "    plt.text(rect.get_x() + rect.get_width() / 2, height, f'{int(height)} ({percentage})', ha='center', va='bottom')\n",
        "\n",
        "# save the plot as an image file with high dpi\n",
        "plt.savefig('A-5.png', dpi=1200)\n",
        "\n",
        "# show the plot\n",
        "plt.show()\n"
      ],
      "metadata": {
        "id": "WZXvt6BxKejr"
      },
      "execution_count": null,
      "outputs": []
    },
    {
      "cell_type": "markdown",
      "source": [
        "#1. Self-assessment"
      ],
      "metadata": {
        "id": "nERrKL5da-oz"
      }
    },
    {
      "cell_type": "code",
      "source": [
        "import matplotlib.pyplot as plt\n",
        "\n",
        "# Count the occurrence of each unique concept\n",
        "count_series = df['Current_DL'].value_counts()\n",
        "\n",
        "# Manually reorder the series\n",
        "order = [\"Beginner\", \"Intermediate\", \"Advanced\"]\n",
        "count_series = count_series.loc[order]\n",
        "\n",
        "# specify the colors\n",
        "colors = ['lightblue', 'orange', 'purple']\n",
        "\n",
        "# create a new figure with specified size\n",
        "plt.figure(figsize=(8, 4))  # Size in inches\n",
        "\n",
        "# create a bar plot\n",
        "bars = count_series.plot.bar(color=colors)\n",
        "\n",
        "# set the title and y-axis label\n",
        "plt.title('B-1. Self-assessed Digital Literacy Levels')\n",
        "plt.ylabel('Frequency')\n",
        "\n",
        "# expand the ylim to 100\n",
        "plt.ylim(0, 90)\n",
        "\n",
        "# rotate x-axis labels to horizontal\n",
        "plt.xticks(rotation=0)\n",
        "\n",
        "# set total number for percentage\n",
        "total = 160\n",
        "\n",
        "# add counts and percentage inside each bar\n",
        "for rect in bars.patches:\n",
        "    height = rect.get_height()\n",
        "    # calculate the percentage and format it\n",
        "    percentage = '{:.1f}%'.format(100 * height/total)\n",
        "    # add frequency and percentage as text inside the bar\n",
        "    plt.text(rect.get_x() + rect.get_width() / 2, height, f'{int(height)} ({percentage})', ha='center', va='bottom')\n",
        "\n",
        "# save the plot as an image file with high dpi\n",
        "plt.savefig('B-1.png', dpi=1200)\n",
        "\n",
        "# show the plot\n",
        "plt.show()\n"
      ],
      "metadata": {
        "id": "wL3GSrDRbA00"
      },
      "execution_count": null,
      "outputs": []
    },
    {
      "cell_type": "markdown",
      "source": [
        "## B-2 Digital literacy concept"
      ],
      "metadata": {
        "id": "WPMRb8VSNUhb"
      }
    },
    {
      "cell_type": "code",
      "source": [
        "import matplotlib.pyplot as plt\n",
        "\n",
        "# Split the 'Concept' column on comma and expand the lists into separate rows\n",
        "split_concepts = df['Concept'].str.split(',', expand=True).stack()\n",
        "\n",
        "# Strip leading and trailing whitespace from each concept\n",
        "stripped_concepts = split_concepts.str.strip()\n",
        "\n",
        "# Count the occurrence of each unique concept\n",
        "count_series = stripped_concepts.value_counts()\n",
        "\n",
        "# Sort the index in ascending order\n",
        "count_series = count_series.sort_index()\n",
        "\n",
        "# specify the colors\n",
        "colors = ['lightblue', 'orange'] * (len(count_series) // 2)\n",
        "\n",
        "# create a new figure with specified size\n",
        "plt.figure(figsize=(12, 6))  # Size in inches\n",
        "\n",
        "# create a bar plot\n",
        "bars = count_series.plot.bar(color=colors)\n",
        "\n",
        "# set the title and y-axis label\n",
        "plt.title('B-1. Digital literacy concepts')\n",
        "plt.ylabel('Frequency')\n",
        "# expand the ylim to 100\n",
        "plt.ylim(0, 85)\n",
        "# rotate x-axis labels to horizontal\n",
        "plt.xticks(rotation=0)\n",
        "\n",
        "# set total number for percentage\n",
        "total = 160\n",
        "\n",
        "# add counts and percentage inside each bar\n",
        "for rect in bars.patches:\n",
        "    height = rect.get_height()\n",
        "    # calculate the percentage and format it\n",
        "    percentage = '{:.1f}%'.format(100 * height/total)\n",
        "    # add frequency and percentage as text inside the bar\n",
        "    plt.text(rect.get_x() + rect.get_width() / 2, height, f'{int(height)} ({percentage})', ha='center', va='bottom')\n",
        "\n",
        "# save the plot as an image file with high dpi\n",
        "plt.savefig('B-1.png', dpi=1200)\n",
        "\n",
        "# show the plot\n",
        "plt.show()\n"
      ],
      "metadata": {
        "id": "OYcD7xEgNX92"
      },
      "execution_count": null,
      "outputs": []
    },
    {
      "cell_type": "markdown",
      "source": [
        "## B-2 by B-1"
      ],
      "metadata": {
        "id": "HFnx8Z8geLFy"
      }
    },
    {
      "cell_type": "code",
      "source": [
        "import matplotlib.pyplot as plt\n",
        "import seaborn as sns\n",
        "\n",
        "# Split the 'Concept' column on comma and expand the lists into separate rows\n",
        "df_expanded = df.assign(Concept=df['Concept'].str.split(',')).explode('Concept')\n",
        "\n",
        "# Strip leading and trailing whitespace from each concept\n",
        "df_expanded['Concept'] = df_expanded['Concept'].str.strip()\n",
        "\n",
        "# Group by 'Current_DL' and 'Concept', then count the occurrences\n",
        "grouped_counts = df_expanded.groupby(['Current_DL', 'Concept']).size().reset_index(name='counts')\n",
        "\n",
        "# create a new figure with specified size\n",
        "plt.figure(figsize=(12, 6))  # Size in inches\n",
        "\n",
        "# create a bar plot\n",
        "sns.barplot(x='Concept', y='counts', hue='Current_DL', data=grouped_counts)\n",
        "\n",
        "# set the title and y-axis label\n",
        "plt.title('B-1. Digital literacy concepts by self-assessed digital literacy level')\n",
        "plt.ylabel('Frequency')\n",
        "\n",
        "# expand the ylim to 100\n",
        "plt.ylim(0, 50)\n",
        "\n",
        "# rotate x-axis labels to horizontal\n",
        "plt.xticks(rotation=0)\n",
        "\n",
        "# save the plot as an image file with high dpi\n",
        "plt.savefig('B-2a.png', dpi=1200)\n",
        "\n",
        "# show the plot\n",
        "plt.show()\n"
      ],
      "metadata": {
        "id": "NPFeNqIheN_O"
      },
      "execution_count": null,
      "outputs": []
    },
    {
      "cell_type": "code",
      "source": [
        "import matplotlib.pyplot as plt\n",
        "import seaborn as sns\n",
        "\n",
        "# Split the 'Concept' column on comma and expand the lists into separate rows\n",
        "df_expanded = df.assign(Concept=df['Concept'].str.split(',')).explode('Concept')\n",
        "\n",
        "# Strip leading and trailing whitespace from each concept\n",
        "df_expanded['Concept'] = df_expanded['Concept'].str.strip()\n",
        "\n",
        "# Group by 'Current_DL' and 'Concept', then count the occurrences\n",
        "grouped_counts = df_expanded.groupby(['Current_DL', 'Concept']).size().reset_index(name='counts')\n",
        "\n",
        "# create a new figure with specified size\n",
        "plt.figure(figsize=(12, 6))  # Size in inches\n",
        "\n",
        "# create a bar plot\n",
        "sns.barplot(x='Concept', y='counts', hue='Current_DL', data=grouped_counts)\n",
        "\n",
        "# set the title and y-axis label\n",
        "plt.title('B-1. Digital literacy concepts by self-assessed digital literacy level')\n",
        "plt.ylabel('Frequency')\n",
        "\n",
        "# rotate x-axis labels to horizontal\n",
        "plt.xticks(rotation=90)  # Rotate labels to prevent overlapping if there are many concepts\n",
        "\n",
        "# save the plot as an image file with high dpi\n",
        "plt.savefig('B-2a.png', dpi=1200)\n",
        "\n",
        "# show the plot\n",
        "plt.show()\n"
      ],
      "metadata": {
        "id": "V0BEJqG1gcxW"
      },
      "execution_count": null,
      "outputs": []
    },
    {
      "cell_type": "code",
      "source": [
        "from scipy.stats import chi2_contingency\n",
        "import pandas as pd\n",
        "\n",
        "# Generate a frequency table of 'Concept' and 'Current_DL'\n",
        "contingency_table = pd.crosstab(df_expanded['Concept'], df_expanded['Current_DL'])\n",
        "\n",
        "# Perform the chi-square test\n",
        "chi2, p, dof, expected = chi2_contingency(contingency_table)\n",
        "\n",
        "print(f\"Chi-square statistic: {chi2}\")\n",
        "print(f\"p-value: {p}\")\n"
      ],
      "metadata": {
        "id": "MMr-Si1ZizNM"
      },
      "execution_count": null,
      "outputs": []
    },
    {
      "cell_type": "code",
      "source": [
        "# Create a DataFrame for expected counts\n",
        "expected_df = pd.DataFrame(expected, columns=contingency_table.columns, index=contingency_table.index)\n",
        "\n",
        "# Plot observed counts\n",
        "sns.barplot(x='Concept', y='counts', hue='Current_DL', data=grouped_counts)\n",
        "plt.title('Observed counts')\n",
        "plt.show()\n",
        "\n",
        "# Plot expected counts\n",
        "expected_counts = expected_df.reset_index().melt(id_vars='Concept', value_name='counts')\n",
        "sns.barplot(x='Concept', y='counts', hue='Current_DL', data=expected_counts)\n",
        "plt.title('Expected counts')\n",
        "plt.show()\n"
      ],
      "metadata": {
        "id": "t2yVCXtVi4uA"
      },
      "execution_count": null,
      "outputs": []
    },
    {
      "cell_type": "code",
      "source": [
        "import matplotlib.pyplot as plt\n",
        "import seaborn as sns\n",
        "\n",
        "# Create a DataFrame for expected counts\n",
        "expected_df = pd.DataFrame(expected, columns=contingency_table.columns, index=contingency_table.index)\n",
        "\n",
        "# Melt the DataFrames to long format for easier plotting\n",
        "observed_long = contingency_table.reset_index().melt(id_vars='Concept', var_name='Current_DL', value_name='observed')\n",
        "expected_long = expected_df.reset_index().melt(id_vars='Concept', var_name='Current_DL', value_name='expected')\n",
        "\n",
        "# Calculate the differences (residuals)\n",
        "residuals = observed_long.copy()\n",
        "residuals['residual'] = residuals['observed'] - expected_long['expected']\n",
        "\n",
        "# Generate the bar plot for observed frequencies\n",
        "plt.figure(figsize=(12, 6))\n",
        "sns.barplot(data=observed_long, x='Concept', y='observed', hue='Current_DL', alpha=0.5)\n",
        "plt.title('Observed frequencies')\n",
        "\n",
        "# Overlay the scatter plot for residuals\n",
        "sns.scatterplot(data=residuals, x='Concept', y='residual', hue='Current_DL', palette='dark')\n",
        "\n",
        "# Draw the zero line for residuals\n",
        "plt.axhline(0, color='black')\n",
        "\n",
        "# Adjust the legend\n",
        "plt.legend(bbox_to_anchor=(1.05, 1), loc=2, borderaxespad=0.)\n",
        "\n",
        "plt.show()\n"
      ],
      "metadata": {
        "id": "e0Y3-wpcjKGk"
      },
      "execution_count": null,
      "outputs": []
    },
    {
      "cell_type": "code",
      "source": [
        "a1 = df['Concept']\n",
        "b1 = df['Current_DL']\n",
        "\n",
        "data = []\n",
        "data2 = []\n",
        "\n",
        "for i in range(0, len(df['Concept'])):\n",
        "  d1 = df['Concept'][0]\n",
        "  d2 = d1.split(', ')\n",
        "  n = len(d2)\n",
        "  d3 = df['Current_DL'][0]\n",
        "  d4 = [d3]*n\n",
        "  data = data+d4\n",
        "  data2 = data2 + d2\n",
        "print(len(data))\n",
        "print(len(data2))\n",
        "\n",
        "df2 = pd.DataFrame()\n",
        "df2['DL'] = data\n",
        "df2['Concept'] = data2\n",
        "df2.tail()"
      ],
      "metadata": {
        "id": "vv6fP_euj-Ue"
      },
      "execution_count": null,
      "outputs": []
    },
    {
      "cell_type": "code",
      "source": [
        "import pandas as pd\n",
        "import matplotlib.pyplot as plt\n",
        "from scipy.stats import chi2_contingency\n",
        "from statsmodels.graphics.mosaicplot import mosaic\n",
        "\n",
        "# Suppose df2 is your dataframe\n",
        "df2 = pd.DataFrame({\n",
        "    'DL': ['Beginner', 'Intermediate', 'Advanced', 'Beginner', 'Advanced'],\n",
        "    'Concept': ['A1', 'A1', 'A2', 'A2', 'A1']\n",
        "})\n",
        "\n",
        "# Generate a contingency table\n",
        "contingency_table = pd.crosstab(df2['DL'], df2['Concept'])\n",
        "\n",
        "# Perform Chi-square test\n",
        "chi2, p, dof, expected = chi2_contingency(contingency_table)\n",
        "\n",
        "print(f\"Chi-square statistic: {chi2}\")\n",
        "print(f\"p-value: {p}\")\n",
        "\n",
        "# Create an association plot\n",
        "mosaic(df2, ['DL', 'Concept'])\n",
        "plt.show()\n"
      ],
      "metadata": {
        "id": "L0tiUaTwzQ4-"
      },
      "execution_count": null,
      "outputs": []
    },
    {
      "cell_type": "code",
      "source": [
        "import seaborn as sns\n",
        "import matplotlib.pyplot as plt\n",
        "\n",
        "# Create the barplot\n",
        "plt.figure(figsize=(8,6))\n",
        "sns.countplot(data=df2, x='Concept', hue='DL')\n",
        "\n",
        "plt.title('Concept Count by DL')\n",
        "plt.xlabel('Concept')\n",
        "plt.ylabel('Count')\n",
        "plt.show()\n"
      ],
      "metadata": {
        "id": "C-JdXQyw4r9E"
      },
      "execution_count": null,
      "outputs": []
    },
    {
      "cell_type": "code",
      "source": [
        "import pandas as pd\n",
        "import scipy.stats as stats\n",
        "import seaborn as sns\n",
        "from scipy.stats import chi2_contingency\n",
        "import matplotlib.pyplot as plt\n",
        "\n",
        "# Calculate a 2d histogram to use as a contingency table\n",
        "contingency_table = pd.crosstab(df['Concept'], df['Current_DL'])\n",
        "\n",
        "# Perform a chi-square test\n",
        "chi2, p, dof, expected = chi2_contingency(contingency_table)\n",
        "\n",
        "# Print the p-value\n",
        "print(f\"Chi-square test p-value: {p}\")\n",
        "\n",
        "# Calculate the residuals\n",
        "residuals = (contingency_table - expected) / np.sqrt(expected)\n",
        "\n",
        "# Plot the associate plot (residual plot)\n",
        "plt.figure(figsize=(12,8))\n",
        "sns.heatmap(residuals, annot=True, fmt='.2f', cmap='coolwarm', center=0)\n",
        "plt.title(\"Associate plot showing the residuals of the chi-square test\")\n",
        "plt.show()\n"
      ],
      "metadata": {
        "id": "hrUz3uZIkST4"
      },
      "execution_count": null,
      "outputs": []
    },
    {
      "cell_type": "code",
      "source": [
        "import pandas as pd\n",
        "\n",
        "# Combine all the results in 'Concept' and split each by a comma\n",
        "concept_list = df['Concept'].str.cat(sep=',').split(',')\n",
        "\n",
        "# Convert the list to a pandas Series\n",
        "concept_series = pd.Series(concept_list)\n",
        "\n",
        "# Strip leading and trailing whitespace from each concept\n",
        "concept_series = concept_series.str.strip()\n",
        "\n",
        "# Count A1 to A6 and display the frequency table\n",
        "frequency_table = concept_series.value_counts()\n",
        "print(frequency_table)\n"
      ],
      "metadata": {
        "id": "1qdRFcS1o0Kd"
      },
      "execution_count": null,
      "outputs": []
    },
    {
      "cell_type": "code",
      "source": [
        "import numpy as np\n",
        "from scipy.stats import chisquare\n",
        "\n",
        "observed_frequencies = np.array([71, 68, 61, 40, 35, 32])\n",
        "# If we expect the categories to be equally likely, the expected frequencies would be:\n",
        "expected_frequencies = np.full(6, observed_frequencies.sum() / 6)\n",
        "\n",
        "chi2, p = chisquare(observed_frequencies, expected_frequencies)\n",
        "\n",
        "print('Chi-square statistic:', chi2)\n",
        "print('p-value:', p)\n"
      ],
      "metadata": {
        "id": "rLfbZhhMuLww"
      },
      "execution_count": null,
      "outputs": []
    },
    {
      "cell_type": "code",
      "source": [
        "# Sample frequencies\n",
        "frequencies = {'A1': 40, 'A2': 61, 'A3': 35, 'A4': 68, 'A5': 32, 'A6': 71}\n",
        "\n",
        "# Calculate total number of observations\n",
        "total = sum(frequencies.values())\n",
        "\n",
        "# Calculate expected frequency\n",
        "expected = total / len(frequencies)\n",
        "\n",
        "# Calculate standardized residuals\n",
        "residuals = {category: (observed - expected) / (expected ** 0.5) for category, observed in frequencies.items()}\n",
        "\n",
        "print(residuals)\n"
      ],
      "metadata": {
        "id": "-iw0yJYHuqH9"
      },
      "execution_count": null,
      "outputs": []
    },
    {
      "cell_type": "code",
      "source": [
        "import matplotlib.pyplot as plt\n",
        "\n",
        "# create a new figure with specified size\n",
        "plt.figure(figsize=(12, 6))\n",
        "\n",
        "# Plot the frequencies\n",
        "frequency_table.plot(kind='bar')\n",
        "\n",
        "plt.xlabel('Concept')\n",
        "plt.ylabel('Frequency')\n",
        "plt.title('Frequency of Concepts')\n",
        "plt.show()\n"
      ],
      "metadata": {
        "id": "sBohZSuDpAb2"
      },
      "execution_count": null,
      "outputs": []
    },
    {
      "cell_type": "code",
      "source": [
        "import matplotlib.pyplot as plt\n",
        "import pandas as pd\n",
        "\n",
        "# Create a new figure\n",
        "fig, ax = plt.subplots(nrows=1, ncols=2, figsize=(16, 6))\n",
        "\n",
        "# Boxplot\n",
        "df['DL_level'].plot(kind='box', ax=ax[0])\n",
        "ax[0].set_title('Boxplot of Digital Literacy Level')\n",
        "ax[0].set_xticklabels(['DL_level'])\n",
        "ax[0].set_ylabel('Level')\n",
        "ax[0].set_ylim([0, 7])  # Set y-axis limit for boxplot\n",
        "\n",
        "# Barplot\n",
        "counts = df['DL_level'].astype(str).value_counts().sort_index()\n",
        "# Reindex the data\n",
        "counts = counts.reindex([str(i) for i in range(1, 7)], fill_value=0)\n",
        "counts.plot(kind='bar', ax=ax[1])\n",
        "\n",
        "ax[1].set_title('Counts of Digital Literacy Level')\n",
        "ax[1].set_xlabel('Level')\n",
        "ax[1].set_ylabel('Counts')\n",
        "ax[1].set_ylim([0, 80])  # Set y-axis limit for barplot\n",
        "\n",
        "# save the plot as an image file with high dpi\n",
        "plt.savefig('selfassess.png', dpi=800)\n",
        "\n",
        "plt.tight_layout()\n",
        "plt.show()\n"
      ],
      "metadata": {
        "id": "DC_3htGDcNQN"
      },
      "execution_count": null,
      "outputs": []
    },
    {
      "cell_type": "code",
      "source": [
        "df.describe()"
      ],
      "metadata": {
        "id": "AmiHhac6dFTV"
      },
      "execution_count": null,
      "outputs": []
    },
    {
      "cell_type": "code",
      "source": [
        "import matplotlib.pyplot as plt\n",
        "\n",
        "# Create a new column 'group' based on the condition\n",
        "df['group'] = df['DL_level'].apply(lambda x: 'A' if x < 4 else 'B')\n",
        "\n",
        "# Create a new figure\n",
        "fig, ax = plt.subplots(nrows=1, ncols=2, figsize=(16, 6))\n",
        "\n",
        "# Pie chart\n",
        "group_counts = df['group'].value_counts()\n",
        "group_counts.plot(kind='pie', autopct='%1.1f%%', ax=ax[0], colors=['lightyellow', 'lightblue'])\n",
        "ax[0].set_title('Distribution of Groups')\n",
        "ax[0].set_ylabel('')  # Hide y-label\n",
        "\n",
        "# Barplot\n",
        "group_counts.plot(kind='bar', ax=ax[1], color=['lightyellow', 'lightblue'])\n",
        "ax[1].set_title('Counts of Groups')\n",
        "ax[1].set_xlabel('Group')\n",
        "ax[1].set_ylabel('Counts')\n",
        "\n",
        "# Add percent to barplot\n",
        "total = len(df)\n",
        "for i in range(len(group_counts)):\n",
        "    count = group_counts[i]\n",
        "    percentage = '{:.1f}%'.format(100 * count / total)\n",
        "    ax[1].text(i, count + 2, percentage, ha='center')\n",
        "\n",
        "plt.tight_layout()\n",
        "plt.show()\n"
      ],
      "metadata": {
        "id": "LHIdbrrBdO7q"
      },
      "execution_count": null,
      "outputs": []
    },
    {
      "cell_type": "code",
      "source": [
        "import matplotlib.pyplot as plt\n",
        "import seaborn as sns\n",
        "\n",
        "# Define 'group' in the DataFrame\n",
        "df['group'] = df['DL_level'].apply(lambda x: 'Below Average' if x < 4 else 'Above Average')\n",
        "\n",
        "# Get counts of 'group'\n",
        "group_counts = df['group'].value_counts()\n",
        "\n",
        "# Create a new figure\n",
        "fig, ax = plt.subplots(nrows=1, ncols=2, figsize=(16, 6))\n",
        "\n",
        "# Boxplot\n",
        "sns.boxplot(x='Major', y='DL_level', data=df, ax=ax[0])\n",
        "ax[0].set_title('Digital Literacy level by Major')\n",
        "ax[0].set_ylim([0, 7])  # Set y-limits\n",
        "ax[0].set_xlabel('Major')\n",
        "ax[0].set_ylabel('Digital Literacy levels')\n",
        "\n",
        "# Barplot\n",
        "group_counts.plot(kind='bar', ax=ax[1], color=['lightblue', 'orange'])\n",
        "ax[1].set_title('Counts of Digital Literacy level Categories')\n",
        "ax[1].set_xlabel('DL level Category')\n",
        "ax[1].set_ylabel('Counts')\n",
        "ax[1].set_ylim([0, 100])  # Set y-limits\n",
        "\n",
        "\n",
        "ax[0].legend()  # Show legend\n",
        "\n",
        "# Add percent to barplot\n",
        "total = len(df)\n",
        "for i in range(len(group_counts)):\n",
        "    count = group_counts[i]\n",
        "    percentage = '{:.1f}%'.format(100 * count / total)\n",
        "    ax[1].text(i, count + 2, percentage, ha='center')\n",
        "plt.xticks(rotation=0)\n",
        "\n",
        "plt.savefig('selfDL_2figures.png', dpi=800)\n",
        "\n",
        "plt.tight_layout()\n",
        "plt.show()\n"
      ],
      "metadata": {
        "id": "exYZITrtenYw"
      },
      "execution_count": null,
      "outputs": []
    },
    {
      "cell_type": "code",
      "source": [
        "import matplotlib.pyplot as plt\n",
        "import seaborn as sns\n",
        "\n",
        "# Define 'group' in the DataFrame\n",
        "df['group'] = df['DL_level'].apply(lambda x: 'Below Average' if x < 4 else 'Above Average')\n",
        "\n",
        "# Get counts of 'group'\n",
        "group_counts = df['group'].value_counts()\n",
        "\n",
        "# Create a new figure\n",
        "fig, ax = plt.subplots(nrows=1, ncols=2, figsize=(16, 6))\n",
        "\n",
        "# Violinplot\n",
        "sns.violinplot(x='Major', y='DL_level', data=df, ax=ax[0])\n",
        "ax[0].set_title('Distribution of DL level by Major')\n",
        "ax[0].set_ylim([0, 7])  # Set y-limits\n",
        "ax[0].set_xlabel('Major')\n",
        "ax[0].set_ylabel('DL level')\n",
        "\n",
        "# Barplot\n",
        "group_counts.plot(kind='bar', ax=ax[1], color=['orange', 'lightblue'])\n",
        "ax[1].set_title('Counts of DL level Categories')\n",
        "ax[1].set_xlabel('DL level Category')\n",
        "ax[1].set_ylabel('Counts')\n",
        "ax[1].set_ylim([0, 100])  # Set y-limits\n",
        "\n",
        "plt.xticks(rotation=0)\n",
        "\n",
        "plt.savefig('selfDL_2figures.png', dpi=800)\n",
        "\n",
        "# Add percent to barplot\n",
        "total = len(df)\n",
        "for i in range(len(group_counts)):\n",
        "    count = group_counts[i]\n",
        "    percentage = '{:.1f}%'.format(100 * count / total)\n",
        "    ax[1].text(i, count + 2, percentage, ha='center')\n",
        "\n",
        "plt.tight_layout()\n",
        "plt.show()\n"
      ],
      "metadata": {
        "id": "vzM9r_-xgTAO"
      },
      "execution_count": null,
      "outputs": []
    },
    {
      "cell_type": "code",
      "source": [
        "import matplotlib.pyplot as plt\n",
        "import seaborn as sns\n",
        "\n",
        "# Define 'group' in the DataFrame\n",
        "df['group'] = df['DL_level'].apply(lambda x: 'Below Average' if x < 4 else 'Above Average')\n",
        "\n",
        "# Get counts of 'group'\n",
        "group_counts = df['group'].value_counts()\n",
        "\n",
        "# Create a new figure\n",
        "fig, ax = plt.subplots(nrows=1, ncols=2, figsize=(16, 6))\n",
        "\n",
        "# Define colors for violinplot\n",
        "colors = ['lightblue', 'lightgreen']\n",
        "\n",
        "# Violinplot with colors\n",
        "sns.violinplot(x='Major', y='DL_level', data=df, palette=colors, ax=ax[0])\n",
        "ax[0].set_title('Distribution of DL level by Major')\n",
        "ax[0].set_ylim([0, 8])  # Set y-limits\n",
        "ax[0].set_xlabel('Major')\n",
        "ax[0].set_ylabel('DL level')\n",
        "\n",
        "# Barplot\n",
        "group_counts.plot(kind='bar', ax=ax[1], color=['lightgreen', 'lightblue'])\n",
        "ax[1].set_title('Counts of DL level Categories')\n",
        "ax[1].set_xlabel('DL level Category')\n",
        "ax[1].set_ylabel('Counts')\n",
        "ax[1].set_ylim([0, 100])  # Set y-limits\n",
        "\n",
        "# Add percent to barplot\n",
        "total = len(df)\n",
        "for i in range(len(group_counts)):\n",
        "    count = group_counts[i]\n",
        "    percentage = '{:.1f}%'.format(100 * count / total)\n",
        "    ax[1].text(i, count + 2, percentage, ha='center')\n",
        "\n",
        "plt.xticks(rotation=0)\n",
        "\n",
        "plt.savefig('selfDL_2figures.png', dpi=800)\n",
        "\n",
        "plt.tight_layout()\n",
        "plt.show()\n"
      ],
      "metadata": {
        "id": "tOlRWwxchz4e"
      },
      "execution_count": null,
      "outputs": []
    },
    {
      "cell_type": "markdown",
      "source": [
        "# Self-assessment: categorical"
      ],
      "metadata": {
        "id": "AIc96mXimLrB"
      }
    },
    {
      "cell_type": "code",
      "source": [
        "import matplotlib.pyplot as plt\n",
        "import seaborn as sns\n",
        "\n",
        "# Create a new figure\n",
        "fig, ax = plt.subplots(nrows=1, ncols=2, figsize=(16, 6))\n",
        "\n",
        "# Barplot of 'Current_DL'\n",
        "sns.countplot(x='Current_DL', data=df, ax=ax[0])\n",
        "ax[0].set_title('Count of Current_DL')\n",
        "ax[0].set_xlabel('Current_DL')\n",
        "ax[0].set_ylabel('Counts')\n",
        "ax[0].set_ylim([0, 100])  # set y limit to 100 for the first plot\n",
        "\n",
        "# Barplot of 'Current_DL' by 'Major'\n",
        "sns.countplot(x='Current_DL', hue='Major', data=df, ax=ax[1])\n",
        "ax[1].set_title('Count of Current_DL by Major')\n",
        "ax[1].set_xlabel('Current_DL')\n",
        "ax[1].set_ylabel('Counts')\n",
        "ax[1].set_ylim([0, 100])  # set y limit to 50 for the second plot\n",
        "\n",
        "plt.tight_layout()\n",
        "plt.show()\n"
      ],
      "metadata": {
        "id": "-L12EiDgltIz"
      },
      "execution_count": null,
      "outputs": []
    },
    {
      "cell_type": "code",
      "source": [
        "import matplotlib.pyplot as plt\n",
        "import seaborn as sns\n",
        "\n",
        "# Create a new figure\n",
        "fig, ax = plt.subplots(nrows=1, ncols=2, figsize=(16, 6))\n",
        "\n",
        "# Define a grayscale color palette\n",
        "gray_scale_colors = [\"#999999\", \"#666666\", \"#333333\"]\n",
        "\n",
        "# Barplot of 'Current_DL'\n",
        "sns.countplot(x='Current_DL', data=df, ax=ax[0], palette=gray_scale_colors)\n",
        "ax[0].set_title('Count of Current_DL')\n",
        "ax[0].set_xlabel('Current_DL')\n",
        "ax[0].set_ylabel('Counts')\n",
        "ax[0].set_ylim([0, 100])  # set y limit to 100 for the first plot\n",
        "\n",
        "# Barplot of 'Current_DL' by 'Major'\n",
        "sns.countplot(x='Current_DL', hue='Major', data=df, ax=ax[1])\n",
        "ax[1].set_title('Count of Current_DL by Major')\n",
        "ax[1].set_xlabel('Current_DL')\n",
        "ax[1].set_ylabel('Counts')\n",
        "ax[1].set_ylim([0, 100])  # set y limit to 50 for the second plot\n",
        "\n",
        "plt.tight_layout()\n",
        "plt.show()\n"
      ],
      "metadata": {
        "id": "_9vAKkCOnmIs"
      },
      "execution_count": null,
      "outputs": []
    },
    {
      "cell_type": "code",
      "source": [
        "import matplotlib.pyplot as plt\n",
        "import seaborn as sns\n",
        "\n",
        "fig, ax = plt.subplots(nrows=1, ncols=2, figsize=(16, 6))\n",
        "\n",
        "gray_scale_colors = [\"#999999\", \"#666666\", \"#333333\"]\n",
        "\n",
        "# Left plot\n",
        "sns.countplot(x='Current_DL', data=df, ax=ax[0], palette=gray_scale_colors)\n",
        "ax[0].set_title('Count of Current_DL')\n",
        "ax[0].set_xlabel('Current_DL')\n",
        "ax[0].set_ylabel('Counts')\n",
        "ax[0].set_ylim([0, 100])\n",
        "\n",
        "# Add percent text on the bars of left plot\n",
        "for p in ax[0].patches:\n",
        "    width = p.get_width()\n",
        "    height = p.get_height()\n",
        "    x, y = p.get_xy()\n",
        "    ax[0].annotate(f'{height/df.shape[0]:.0%}', (x + width/2, y + height*1.02), ha='center')\n",
        "\n",
        "# Right plot\n",
        "sns.countplot(x='Current_DL', hue='Major', data=df, ax=ax[1])\n",
        "ax[1].set_title('Count of Current_DL by Major')\n",
        "ax[1].set_xlabel('Current_DL')\n",
        "ax[1].set_ylabel('Counts')\n",
        "ax[1].set_ylim([0, 100])\n",
        "\n",
        "# Add percent text on the bars of right plot\n",
        "for p in ax[1].patches:\n",
        "    width = p.get_width()\n",
        "    height = p.get_height()\n",
        "    x, y = p.get_xy()\n",
        "    ax[1].annotate(f'{height/df.shape[0]:.0%}', (x + width/2, y + height*1.02), ha='center')\n",
        "\n",
        "plt.xticks(rotation=0)\n",
        "plt.savefig('selfDL_Cat_2figures.png', dpi=1000)\n",
        "\n",
        "plt.tight_layout()\n",
        "plt.show()\n"
      ],
      "metadata": {
        "id": "xunS1i_4oGLx"
      },
      "execution_count": null,
      "outputs": []
    },
    {
      "cell_type": "markdown",
      "source": [
        "# 3. Coding and language"
      ],
      "metadata": {
        "id": "BEi63RYqptXO"
      }
    },
    {
      "cell_type": "code",
      "source": [
        "import matplotlib.pyplot as plt\n",
        "import pandas as pd\n",
        "\n",
        "# Create a new figure\n",
        "fig, ax = plt.subplots(nrows=1, ncols=2, figsize=(16, 6))\n",
        "\n",
        "# Boxplot\n",
        "df['Coding_LG'].plot(kind='box', ax=ax[0])\n",
        "ax[0].set_title('Boxplot of Coding and Language education')\n",
        "# ax[0].set_xticklabels(['DL_level'])\n",
        "ax[0].set_ylabel('Agreement')\n",
        "ax[0].set_ylim([0, 6])  # Set y-axis limit for boxplot\n",
        "\n",
        "# Barplot\n",
        "counts = df['Coding_LG'].astype(str).value_counts().sort_index()\n",
        "# Reindex the data\n",
        "counts = counts.reindex([str(i) for i in range(1, 8)], fill_value=0)\n",
        "counts.plot(kind='bar', ax=ax[1])\n",
        "\n",
        "ax[1].set_title('Counts of Coding & Language Education')\n",
        "ax[1].set_xlabel('Agreementl')\n",
        "ax[1].set_ylabel('Counts')\n",
        "ax[1].set_ylim([0, 80])  # Set y-axis limit for barplot\n",
        "\n",
        "# save the plot as an image file with high dpi\n",
        "plt.savefig('Coding_LG.png', dpi=800)\n",
        "\n",
        "plt.tight_layout()\n",
        "plt.show()\n"
      ],
      "metadata": {
        "id": "fmkFYa97pwmU"
      },
      "execution_count": null,
      "outputs": []
    },
    {
      "cell_type": "code",
      "source": [
        "import matplotlib.pyplot as plt\n",
        "import pandas as pd\n",
        "\n",
        "# Create a new figure\n",
        "fig, ax = plt.subplots(nrows=1, ncols=2, figsize=(16, 6))\n",
        "\n",
        "# Boxplot\n",
        "df['Coding_LG'].plot(kind='box', ax=ax[0])\n",
        "ax[0].set_title('Boxplot of Coding and Language Education')\n",
        "ax[0].set_ylabel('Agreement')\n",
        "ax[0].set_ylim([0, 6.5])  # Set y-axis limit for boxplot\n",
        "\n",
        "# Add median line\n",
        "median_value = df['Coding_LG'].median()\n",
        "ax[0].axhline(median_value, color='gray', linestyle='--', label='Median')\n",
        "\n",
        "# Add mean point\n",
        "mean_value = df['Coding_LG'].mean()\n",
        "ax[0].plot(1, mean_value, marker='o', markersize=10, color='blue', label='Mean')\n",
        "\n",
        "ax[0].legend()  # Show legend\n",
        "\n",
        "# Barplot\n",
        "counts = df['Coding_LG'].astype(str).value_counts().sort_index()\n",
        "# Reindex the data\n",
        "counts = counts.reindex([str(i) for i in range(1, 7)], fill_value=0)\n",
        "counts.plot(kind='bar', ax=ax[1])\n",
        "\n",
        "ax[1].set_title('Counts of Coding & Language Education')\n",
        "ax[1].set_xlabel('Agreement')\n",
        "ax[1].set_ylabel('Counts')\n",
        "ax[1].set_ylim([0, 80])  # Set y-axis limit for barplot\n",
        "\n",
        "# save the plot as an image file with high dpi\n",
        "plt.savefig('Coding_LG.png', dpi=1200)\n",
        "\n",
        "plt.tight_layout()\n",
        "plt.show()\n"
      ],
      "metadata": {
        "id": "h66KIxU5tFus"
      },
      "execution_count": null,
      "outputs": []
    },
    {
      "cell_type": "markdown",
      "source": [
        "Change fontsize"
      ],
      "metadata": {
        "id": "WXLMgyB0370k"
      }
    },
    {
      "cell_type": "code",
      "source": [
        "import matplotlib.pyplot as plt\n",
        "import pandas as pd\n",
        "\n",
        "# Create a new figure\n",
        "fig, ax = plt.subplots(nrows=1, ncols=2, figsize=(16, 6))\n",
        "\n",
        "# Specify the font size\n",
        "fontsize = 16\n",
        "\n",
        "# Boxplot\n",
        "ax[0].boxplot(df['Coding_LG'].dropna(), labels=['Coding & Language Education'])\n",
        "ax[0].set_title('Boxplot of Coding and Language Education', fontsize=fontsize)\n",
        "ax[0].set_ylabel('Agreement', fontsize=fontsize)\n",
        "ax[0].tick_params(axis='both', labelsize=fontsize)\n",
        "ax[0].set_ylim([0, 6.5])  # Set y-axis limit for boxplot\n",
        "\n",
        "# Add median line\n",
        "median_value = df['Coding_LG'].median()\n",
        "ax[0].axhline(median_value, color='gray', linestyle='--', label='Median')\n",
        "\n",
        "# Add mean point\n",
        "mean_value = df['Coding_LG'].mean()\n",
        "ax[0].plot(1, mean_value, marker='o', markersize=10, color='blue', label='Mean')\n",
        "\n",
        "ax[0].legend(fontsize=fontsize)  # Show legend with specified fontsize\n",
        "\n",
        "# Barplot\n",
        "counts = df['Coding_LG'].astype(str).value_counts().sort_index()\n",
        "# Reindex the data\n",
        "counts = counts.reindex([str(i) for i in range(1, 7)], fill_value=0)\n",
        "counts.plot(kind='bar', ax=ax[1])\n",
        "\n",
        "ax[1].set_title('Counts of Coding & Language Education', fontsize=fontsize)\n",
        "ax[1].set_xlabel('Agreement', fontsize=fontsize)\n",
        "ax[1].set_ylabel('Counts', fontsize=fontsize)\n",
        "ax[1].tick_params(axis='both', labelsize=fontsize)\n",
        "ax[1].set_ylim([0, 80])  # Set y-axis limit for barplot\n",
        "\n",
        "# save the plot as an image file with high dpi\n",
        "plt.savefig('Coding_LG.png', dpi=1200)\n",
        "\n",
        "plt.tight_layout()\n",
        "plt.show()\n"
      ],
      "metadata": {
        "id": "UNz3Nh_a37AG"
      },
      "execution_count": null,
      "outputs": []
    },
    {
      "cell_type": "markdown",
      "source": [
        "Add numbers in the figure"
      ],
      "metadata": {
        "id": "a0KfPaGH669W"
      }
    },
    {
      "cell_type": "code",
      "source": [
        "import matplotlib.pyplot as plt\n",
        "import pandas as pd\n",
        "\n",
        "# Create a new figure\n",
        "fig, ax = plt.subplots(nrows=1, ncols=2, figsize=(16, 6))\n",
        "\n",
        "# Specify the font size\n",
        "fontsize = 16\n",
        "\n",
        "# Boxplot\n",
        "ax[0].boxplot(df['Coding_LG'].dropna(), labels=['Coding & Language Education'])\n",
        "ax[0].set_title('a. Boxplot of Coding and Language Education', fontsize=fontsize)\n",
        "ax[0].set_ylabel('Agreement', fontsize=fontsize)\n",
        "ax[0].tick_params(axis='both', labelsize=fontsize)\n",
        "ax[0].set_ylim([0, 6.5])  # Set y-axis limit for boxplot\n",
        "\n",
        "# Add median line\n",
        "median_value = df['Coding_LG'].median()\n",
        "ax[0].axhline(median_value, color='gray', linestyle='--', label='Median')\n",
        "\n",
        "# Add mean point\n",
        "mean_value = df['Coding_LG'].mean()\n",
        "ax[0].plot(1, mean_value, marker='o', markersize=10, color='blue', label='Mean')\n",
        "\n",
        "ax[0].legend(fontsize=fontsize)  # Show legend with specified fontsize\n",
        "\n",
        "# Barplot\n",
        "counts = df['Coding_LG'].astype(str).value_counts().sort_index()\n",
        "# Reindex the data\n",
        "counts = counts.reindex([str(i) for i in range(1, 7)], fill_value=0)\n",
        "bars = counts.plot(kind='bar', ax=ax[1])\n",
        "\n",
        "ax[1].set_title('b. Counts of Coding & Language Education', fontsize=fontsize)\n",
        "ax[1].set_xlabel('Agreement', fontsize=fontsize)\n",
        "ax[1].set_ylabel('Counts', fontsize=fontsize)\n",
        "ax[1].tick_params(axis='both', labelsize=fontsize)\n",
        "ax[1].set_ylim([0, 80])  # Set y-axis limit for barplot\n",
        "\n",
        "# Adding counts and percentages over the bars\n",
        "total = counts.sum()\n",
        "for bar in bars.patches:\n",
        "    yval = bar.get_height()\n",
        "    percent = yval/total*100\n",
        "    ax[1].text(bar.get_x() + bar.get_width() / 2, yval + 3, f'{int(yval)} ({percent:.1f}%)', ha='center', va='center', fontsize=fontsize-2)\n",
        "\n",
        "# save the plot as an image file with high dpi\n",
        "plt.savefig('Coding_LG.png', dpi=1200)\n",
        "\n",
        "plt.tight_layout()\n",
        "plt.show()\n"
      ],
      "metadata": {
        "id": "vNiF3y1_656h"
      },
      "execution_count": null,
      "outputs": []
    },
    {
      "cell_type": "code",
      "source": [
        "a = 22.6 + 42.1 + 15.1\n",
        "print(a)"
      ],
      "metadata": {
        "id": "y6ZH_oSE8-JE"
      },
      "execution_count": null,
      "outputs": []
    },
    {
      "cell_type": "markdown",
      "source": [
        "Current_DL, Current_DL_Scale"
      ],
      "metadata": {
        "id": "SN1Jvsd4Bg4S"
      }
    },
    {
      "cell_type": "code",
      "source": [
        "# Group the data by 'Current_DL' and calculate mean and standard deviation\n",
        "mean_std = df.groupby('Current_DL')['Current_DL_Scale'].agg(['mean', 'std'])\n",
        "\n",
        "# Print the result\n",
        "print(mean_std)\n"
      ],
      "metadata": {
        "id": "DGG84tcfBgTI"
      },
      "execution_count": null,
      "outputs": []
    },
    {
      "cell_type": "markdown",
      "source": [
        "Concept by groups 'Current_DL'"
      ],
      "metadata": {
        "id": "-GEHZt10SAM-"
      }
    },
    {
      "cell_type": "code",
      "source": [
        "# Select subsets of the dataframe based on 'Current_DL'\n",
        "df1 = df[df['Current_DL'] == 'Beginner']\n",
        "df2 = df[df['Current_DL'] == 'Intermediate']\n",
        "df3 = df[df['Current_DL'] == 'Advanced']\n"
      ],
      "metadata": {
        "id": "kkb3tKS6SDya"
      },
      "execution_count": null,
      "outputs": []
    },
    {
      "cell_type": "code",
      "source": [
        "df1"
      ],
      "metadata": {
        "id": "zui5-P1YSFi-"
      },
      "execution_count": null,
      "outputs": []
    },
    {
      "cell_type": "code",
      "source": [
        "df2"
      ],
      "metadata": {
        "id": "98K_P1RNSL4f"
      },
      "execution_count": null,
      "outputs": []
    },
    {
      "cell_type": "code",
      "source": [
        "df3"
      ],
      "metadata": {
        "id": "14vX4sTmSObR"
      },
      "execution_count": null,
      "outputs": []
    },
    {
      "cell_type": "code",
      "source": [
        "# Split each string in 'Concept' by a comma and then combine all the strings into one string\n",
        "all_concepts_df1 = ','.join(df1['Concept'].str.split(',').sum())\n",
        "all_concepts_df1\n",
        "\n",
        "import pandas as pd\n",
        "import matplotlib.pyplot as plt\n",
        "\n",
        "# Split the all_concepts_df1 string by comma\n",
        "concepts = all_concepts_df1.split(',')\n",
        "\n",
        "# Remove leading and trailing spaces from each concept\n",
        "concepts = [concept.strip() for concept in concepts]\n",
        "\n",
        "# Convert the list of concepts into a pandas Series\n",
        "concepts_series = pd.Series(concepts)\n",
        "\n",
        "# Count the frequency of each concept\n",
        "concept_counts = concepts_series.value_counts()\n",
        "\n",
        "# Sort the index (Concept labels) in a specified order\n",
        "concept_counts = concept_counts.reindex(['A1', 'A2', 'A3', 'A4', 'A5', 'A6'])\n",
        "\n",
        "# Plot the frequency of each concept as a bar chart\n",
        "plt.figure(figsize=(10,6))  # Set figure size\n",
        "ax = concept_counts.plot(kind='bar')\n",
        "plt.title('Frequency of Concepts by Beginners')\n",
        "plt.xlabel('Concepts')\n",
        "plt.ylabel('Frequency')\n",
        "plt.xticks(rotation=0)  # No rotation of x-axis labels\n",
        "plt.ylim(0, 50)\n",
        "\n",
        "# Adding counts and percentages above each bar\n",
        "total = float(len(concepts))  # total concepts for percentage calculation\n",
        "for p in ax.patches:\n",
        "    height = p.get_height()\n",
        "    ax.text(p.get_x()+p.get_width()/2.,\n",
        "            height + 0.1,\n",
        "            '{:1.0f}, ({:1.1f}%)'.format(height, (height/total)*100),\n",
        "            ha=\"center\")\n",
        "\n",
        "plt.show()\n",
        "\n",
        "\n"
      ],
      "metadata": {
        "id": "kZm60a3FSvq0"
      },
      "execution_count": null,
      "outputs": []
    },
    {
      "cell_type": "code",
      "source": [
        "# Split each string in 'Concept' by a comma and then combine all the strings into one string\n",
        "all_concepts_df2 = ','.join(df2['Concept'].str.split(',').sum())\n",
        "all_concepts_df2\n",
        "\n",
        "import pandas as pd\n",
        "import matplotlib.pyplot as plt\n",
        "\n",
        "# Split the all_concepts_df1 string by comma\n",
        "concepts = all_concepts_df2.split(',')\n",
        "\n",
        "# Remove leading and trailing spaces from each concept\n",
        "concepts = [concept.strip() for concept in concepts]\n",
        "\n",
        "# Convert the list of concepts into a pandas Series\n",
        "concepts_series = pd.Series(concepts)\n",
        "\n",
        "# Count the frequency of each concept\n",
        "concept_counts = concepts_series.value_counts()\n",
        "\n",
        "# Sort the index (Concept labels) in a specified order\n",
        "concept_counts = concept_counts.reindex(['A1', 'A2', 'A3', 'A4', 'A5', 'A6'])\n",
        "\n",
        "# Plot the frequency of each concept as a bar chart\n",
        "plt.figure(figsize=(10,6))  # Set figure size\n",
        "ax = concept_counts.plot(kind='bar')\n",
        "plt.title('Frequency of Concepts by Intermediates')\n",
        "plt.xlabel('Concepts')\n",
        "plt.ylabel('Frequency')\n",
        "plt.xticks(rotation=0)  # No rotation of x-axis labels\n",
        "plt.ylim(0, 50)\n",
        "\n",
        "# Adding counts and percentages above each bar\n",
        "total = float(len(concepts))  # total concepts for percentage calculation\n",
        "for p in ax.patches:\n",
        "    height = p.get_height()\n",
        "    ax.text(p.get_x()+p.get_width()/2.,\n",
        "            height + 0.1,\n",
        "            '{:1.0f}, ({:1.1f}%)'.format(height, (height/total)*100),\n",
        "            ha=\"center\")\n",
        "\n",
        "plt.show()\n",
        "\n",
        "\n"
      ],
      "metadata": {
        "id": "1kpqLla7UMgr"
      },
      "execution_count": null,
      "outputs": []
    },
    {
      "cell_type": "code",
      "source": [
        "# Split each string in 'Concept' by a comma and then combine all the strings into one string\n",
        "all_concepts_df3 = ','.join(df3['Concept'].str.split(',').sum())\n",
        "all_concepts_df3\n",
        "\n",
        "import pandas as pd\n",
        "import matplotlib.pyplot as plt\n",
        "\n",
        "# Split the all_concepts_df1 string by comma\n",
        "concepts = all_concepts_df3.split(',')\n",
        "\n",
        "# Remove leading and trailing spaces from each concept\n",
        "concepts = [concept.strip() for concept in concepts]\n",
        "\n",
        "# Convert the list of concepts into a pandas Series\n",
        "concepts_series = pd.Series(concepts)\n",
        "\n",
        "# Count the frequency of each concept\n",
        "concept_counts = concepts_series.value_counts()\n",
        "\n",
        "# Sort the index (Concept labels) in a specified order\n",
        "concept_counts = concept_counts.reindex(['A1', 'A2', 'A3', 'A4', 'A5', 'A6'])\n",
        "\n",
        "# Plot the frequency of each concept as a bar chart\n",
        "plt.figure(figsize=(10,6))  # Set figure size\n",
        "ax = concept_counts.plot(kind='bar')\n",
        "plt.title('Frequency of Concepts by Advanced')\n",
        "plt.xlabel('Concepts')\n",
        "plt.ylabel('Frequency')\n",
        "plt.xticks(rotation=0)  # No rotation of x-axis labels\n",
        "plt.ylim(0, 50)\n",
        "\n",
        "# Adding counts and percentages above each bar\n",
        "total = float(len(concepts))  # total concepts for percentage calculation\n",
        "for p in ax.patches:\n",
        "    height = p.get_height()\n",
        "    ax.text(p.get_x()+p.get_width()/2.,\n",
        "            height + 0.1,\n",
        "            '{:1.0f}, ({:1.1f}%)'.format(height, (height/total)*100),\n",
        "            ha=\"center\")\n",
        "\n",
        "plt.show()\n",
        "\n",
        "\n"
      ],
      "metadata": {
        "id": "wKrlvoA7UeBa"
      },
      "execution_count": null,
      "outputs": []
    },
    {
      "cell_type": "markdown",
      "source": [
        "Count data:  \n",
        "df1 = [18, 14, 13, 33, 9, 36]  \n",
        "df2 = [14, 31, 15, 23, 10, 28]  \n",
        "df3 = [8, 16, 7, 12, 13, 7]"
      ],
      "metadata": {
        "id": "kSPz5SjNYLRR"
      }
    },
    {
      "cell_type": "markdown",
      "source": [
        "Percent:  \n",
        "d1 = [14.6, 11.4, 10.6, 26.8, 7.3, 29.3]  \n",
        "d2 = [11.6, 25.6, 12.4, 19.0, 8.3, 23.1]  \n",
        "d3 = [12.7, 25.4, 11.1, 19.0, 20.6, 11.1]  \n"
      ],
      "metadata": {
        "id": "BRi-HIQ4VeND"
      }
    },
    {
      "cell_type": "code",
      "source": [
        "import matplotlib.pyplot as plt\n",
        "import numpy as np\n",
        "\n",
        "# Assume this is your data (percent)\n",
        "# data = {\n",
        "#     'Group1': [14.6, 11.4, 10.6, 26.8, 7.3, 29.3],\n",
        "#     'Group2': [11.6, 25.6, 12.4, 19.0, 8.3, 23.1],\n",
        "#     'Group3':  [12.7, 25.4, 11.1, 19.0, 20.6, 11.1]\n",
        "# }\n",
        "\n",
        "# Assume this is your data (percent)\n",
        "data = {\n",
        "    'Group1': [18, 14, 13, 33, 9, 36],\n",
        "    'Group2':  [14, 31, 15, 23, 10, 28],\n",
        "    'Group3':  [8, 16, 7, 12, 13, 7]\n",
        "}\n",
        "\n",
        "df = pd.DataFrame(data, index=['A1', 'A2', 'A3', 'A4', 'A5', 'A6'])\n",
        "\n",
        "# Calculate percentages\n",
        "df = df.div(df.sum(axis=1), axis=0)*100\n",
        "\n",
        "# Create bar plot\n",
        "barWidth = 0.25\n",
        "r1 = np.arange(len(df))\n",
        "r2 = [x + barWidth for x in r1]\n",
        "r3 = [x + barWidth for x in r2]\n",
        "\n",
        "plt.bar(r1, df['Group1'], color='b', width=barWidth, edgecolor='grey', label='Group1')\n",
        "plt.bar(r2, df['Group2'], color='g', width=barWidth, edgecolor='grey', label='Group2')\n",
        "plt.bar(r3, df['Group3'], color='r', width=barWidth, edgecolor='grey', label='Group3')\n",
        "\n",
        "plt.xlabel('Items', fontweight='bold')\n",
        "plt.xticks([r + barWidth for r in range(len(df))], ['A1', 'A2', 'A3', 'A4', 'A5', 'A6'])\n",
        "\n",
        "plt.legend()\n",
        "plt.show()\n"
      ],
      "metadata": {
        "id": "bxn9xwb_VQKA"
      },
      "execution_count": null,
      "outputs": []
    },
    {
      "cell_type": "code",
      "source": [
        "import pandas as pd\n",
        "from scipy.stats import chi2_contingency\n",
        "\n",
        "# Assume this is your count data\n",
        "# Assume this is your data (percent)\n",
        "data = {\n",
        "    'Group1': [18, 14, 13, 33, 9, 36],\n",
        "    'Group2':  [14, 31, 15, 23, 10, 28],\n",
        "    'Group3':  [8, 16, 7, 12, 13, 7]\n",
        "}\n",
        "\n",
        "df = pd.DataFrame(data, index=['A1', 'A2', 'A3', 'A4', 'A5', 'A6'])\n",
        "\n",
        "# Conduct Chi-Square test\n",
        "chi2, p_val, dof, expected = chi2_contingency(df)\n",
        "\n",
        "print(\"Chi-Square Statistic: \", chi2)\n",
        "print(\"Degrees of Freedom: \", dof)\n",
        "print(\"P-Value: \", p_val)\n",
        "print(\"Expected Counts: \\n\", expected)\n"
      ],
      "metadata": {
        "id": "XRCpwal8Y7UX"
      },
      "execution_count": null,
      "outputs": []
    },
    {
      "cell_type": "markdown",
      "source": [
        "The Chi-square statistic of 24.02 reflects the difference between your observed data and what would be expected if the 'group' and 'item' variables were independent of each other.\n",
        "\n",
        "The degrees of freedom (df) is the number of values in the final calculation of a statistic that are free to vary. In this case, the df is 10. The degrees of freedom for a test of independence equals the product of the number of categories in each variable minus 1. In this case, (3-1)*(6-1) = 10.\n",
        "\n",
        "The p-value of 0.00754 is the probability of obtaining the observed data (or data more extreme) if the null hypothesis is true. The null hypothesis for this test is that there is no association between the two variables - that is, the variables are independent. A common threshold for significance is 0.05. If the p-value is less than 0.05 (as it is in this case), you would reject the null hypothesis and conclude that there is evidence of an association between the two variables.\n",
        "\n",
        "The expected counts are the counts that we would expect if there was no association between the variables. Each expected count is calculated as (row total * column total) / grand total. These expected counts are compared to the observed counts to compute the Chi-square statistic.\n",
        "\n",
        "In summary, your test results suggest that there is a statistically significant association between the 'group' variable and the 'item' variable because the p-value is less than 0.05. That means, the distribution of items is different among the groups. However, it's important to note that while the Chi-square test tells you if there's a relationship, it doesn't tell you what the relationship is. You would need to inspect the data (both observed and expected) to understand how 'group' and 'item' are related."
      ],
      "metadata": {
        "id": "IARM3FMZZgne"
      }
    },
    {
      "cell_type": "code",
      "source": [
        "# calculate standardized residuals\n",
        "residuals = (df - expected) / np.sqrt(expected)\n",
        "print(residuals)\n",
        "\n",
        "# calculate contributions to chi-square statistic\n",
        "chi_contributions = (residuals**2)\n",
        "print(chi_contributions)\n"
      ],
      "metadata": {
        "id": "M-8JrbPMZhGY"
      },
      "execution_count": null,
      "outputs": []
    },
    {
      "cell_type": "code",
      "source": [
        "# calculate proportions\n",
        "proportions = df / df.sum()\n",
        "print(proportions)\n"
      ],
      "metadata": {
        "id": "yVVSjgKrZrHd"
      },
      "execution_count": null,
      "outputs": []
    },
    {
      "cell_type": "markdown",
      "source": [
        "The data frame you provided represents the proportion of counts in each item category for each group. Here's how to interpret this:\n",
        "\n",
        "Group1:\n",
        "\n",
        "About 14.63% of the counts in Group1 are in item category A1.\n",
        "11.38% of the counts in Group1 are in item category A2.\n",
        "10.57% of the counts in Group1 are in item category A3.\n",
        "26.83% of the counts in Group1 are in item category A4. This is the highest proportion among all item categories in Group1.\n",
        "7.32% of the counts in Group1 are in item category A5.\n",
        "About 29.27% of the counts in Group1 are in item category A6. This is the second highest proportion in Group1.\n",
        "Group2:\n",
        "\n",
        "About 11.57% of the counts in Group2 are in item category A1.\n",
        "25.62% of the counts in Group2 are in item category A2. This is the highest proportion among all item categories in Group2.\n",
        "12.40% of the counts in Group2 are in item category A3.\n",
        "19.01% of the counts in Group2 are in item category A4.\n",
        "8.26% of the counts in Group2 are in item category A5.\n",
        "23.14% of the counts in Group2 are in item category A6. This is the second highest proportion in Group2.\n",
        "Group3:\n",
        "\n",
        "12.70% of the counts in Group3 are in item category A1.\n",
        "25.40% of the counts in Group3 are in item category A2. This is the highest proportion among all item categories in Group3.\n",
        "11.11% of the counts in Group3 are in item category A3.\n",
        "19.05% of the counts in Group3 are in item category A4.\n",
        "20.63% of the counts in Group3 are in item category A5. This is the second highest proportion in Group3.\n",
        "11.11% of the counts in Group3 are in item category A6.\n",
        "From this data, it seems that Group1 has a different distribution of counts among the item categories compared to Group2 and Group3, with higher proportions of counts in categories A4 and A6. Group2 and Group3 both have the highest proportions in category A2, but Group3 also has a high proportion in category A5, unlike Group2. This indicates differences in the distribution of items among the groups.\n",
        "\n",
        "\n",
        "\n",
        "\n"
      ],
      "metadata": {
        "id": "NT7GdThgaACL"
      }
    },
    {
      "cell_type": "code",
      "source": [
        "import seaborn as sns\n",
        "import matplotlib.pyplot as plt\n",
        "\n",
        "# Assume this is your Chi-square contributions or proportions data\n",
        "contributions = {\n",
        "    'Beginner': [0.493084, -2.111745, -0.273133, 1.102708, -1.067091, 1.416282],\n",
        "    'Intermediate': [-0.444639, 1.418974, 0.324493, -0.734268, -0.735593, 0.003079],\n",
        "    'Advanced': [-0.072763, 0.984177, -0.068064, -0.523187, 2.510456, -1.983204]\n",
        "}\n",
        "\n",
        "df_contributions = pd.DataFrame(contributions, index=['A1', 'A2', 'A3', 'A4', 'A5', 'A6'])\n",
        "\n",
        "# Create a heatmap\n",
        "plt.figure(figsize=(8, 6))\n",
        "sns.heatmap(df_contributions, annot=True, cmap='coolwarm', fmt=\".2f\")\n",
        "plt.title('Chi-Square Contributions', fontsize=16)\n",
        "plt.xlabel('Group', fontsize=16)\n",
        "plt.ylabel('Types of Digital Literacy Concepts', fontsize=16)\n",
        "\n",
        "plt.savefig('heatmap.png', dpi=1200)\n",
        "\n",
        "plt.show()\n"
      ],
      "metadata": {
        "id": "n7Tczf1waWfI"
      },
      "execution_count": null,
      "outputs": []
    },
    {
      "cell_type": "code",
      "source": [
        "# Assume this is your proportions data\n",
        "proportions = {\n",
        "    'Beginner': [0.146341, 0.113821, 0.105691, 0.268293, 0.073171, 0.292683],\n",
        "    'Intermediate': [0.115702, 0.256198, 0.123967, 0.190083, 0.082645, 0.231405],\n",
        "    'Advanced': [0.126984, 0.253968, 0.111111, 0.190476, 0.206349, 0.111111]\n",
        "}\n",
        "\n",
        "df_proportions = pd.DataFrame(proportions, index=['A1', 'A2', 'A3', 'A4', 'A5', 'A6'])\n",
        "\n",
        "# Create a stacked bar plot\n",
        "plt.figure(figsize=(10, 6))\n",
        "df_proportions.plot(kind='bar', stacked=True, ylim=(0,1))\n",
        "plt.title('Proportions of Concept types in Each Group', fontsize= 16)\n",
        "plt.xlabel('Concepts of Digital Literacy', fontsize= 16)\n",
        "plt.ylabel('Proportion', fontsize= 16)\n",
        "# plt.ylim = (0,1)   # corrected line\n",
        "plt.legend(title='Group', fontsize= 14)\n",
        "plt.xticks(rotation=0)\n",
        "\n",
        "plt.savefig('proportionplot.png', dpi=1200)\n",
        "\n",
        "plt.show()\n"
      ],
      "metadata": {
        "id": "qw7cwmejapu1"
      },
      "execution_count": null,
      "outputs": []
    },
    {
      "cell_type": "markdown",
      "source": [
        "This code will generate a stacked bar plot where each item is represented by a bar, and the height of the bar is divided by different colors representing each group's proportion for that item.\n",
        "\n",
        "You can choose the visualization method that best suits your data and research question. Heatmaps are effective in displaying the magnitude of contributions, while stacked bar plots are useful for comparing proportions across groups and items."
      ],
      "metadata": {
        "id": "Vt-KH1l0a2Jc"
      }
    },
    {
      "cell_type": "code",
      "source": [
        "!pip install heatmapz"
      ],
      "metadata": {
        "id": "DytCkIJxb4L_"
      },
      "execution_count": null,
      "outputs": []
    },
    {
      "cell_type": "code",
      "source": [
        "import numpy as np\n",
        "import matplotlib.pyplot as plt\n",
        "\n",
        "# Assume this is your residuals data\n",
        "residuals = {\n",
        "    'Beginner': [0.493084, -2.111745, -0.273133, 1.102708, -1.067091, 1.416282],\n",
        "    'Intermediate': [-0.444639, 1.418974, 0.324493, -0.734268, -0.735593, 0.003079],\n",
        "    'Advanced': [-0.072763, 0.984177, -0.068064, -0.523187, 2.510456, -1.983204]\n",
        "}\n",
        "\n",
        "df_residuals = pd.DataFrame(residuals, index=['A1', 'A2', 'A3', 'A4', 'A5', 'A6'])\n",
        "\n",
        "# Set the position of the bars on the x-axis\n",
        "x_pos = np.arange(len(df_residuals))\n",
        "\n",
        "# Set the width of the bars\n",
        "bar_width = 0.3\n",
        "\n",
        "# Create the plot\n",
        "fig, ax = plt.subplots(figsize=(10, 6))\n",
        "\n",
        "# Plot the bars for each group\n",
        "ax.bar(x_pos - bar_width, df_residuals['Beginner'], width=bar_width, align='center', label='Beginner')\n",
        "ax.bar(x_pos, df_residuals['Intermediate'], width=bar_width, align='center', label='Intermediate')\n",
        "ax.bar(x_pos + bar_width, df_residuals['Advanced'], width=bar_width, align='center', label='Advanced')\n",
        "\n",
        "# Draw the expected line in the middle\n",
        "ax.axhline(0, color='black', linestyle='--')\n",
        "\n",
        "# Set x-axis labels\n",
        "ax.set_xticks(x_pos)\n",
        "ax.set_xticklabels(df_residuals.index, fontsize=16)\n",
        "\n",
        "# Set y-axis label\n",
        "ax.set_ylabel('Residuals', fontsize=16)\n",
        "\n",
        "# Set title and legend\n",
        "ax.set_title('Residuals Plot', fontsize=16)\n",
        "ax.legend(fontsize=16)\n",
        "\n",
        "# Display the plot\n",
        "plt.tight_layout()\n",
        "\n",
        "plt.savefig('associationplot.png', dpi=1200)\n",
        "\n",
        "plt.show()\n"
      ],
      "metadata": {
        "id": "Da6bWYehbuo0"
      },
      "execution_count": null,
      "outputs": []
    },
    {
      "cell_type": "markdown",
      "source": [
        "# Correlation analysis"
      ],
      "metadata": {
        "id": "J6_olvcFpz4-"
      }
    },
    {
      "cell_type": "code",
      "source": [
        "url = \"https://raw.githubusercontent.com/MK316/workspace/main/DLP/data/data05.csv\"\n",
        "df = pd.read_csv(url)\n",
        "df.head()"
      ],
      "metadata": {
        "id": "UgqU1kx7qJgX"
      },
      "execution_count": null,
      "outputs": []
    },
    {
      "cell_type": "code",
      "source": [
        "import pandas as pd\n",
        "\n",
        "# Assuming df is your DataFrame\n",
        "correlation = df[['Current_DL_Scale', 'Coding_LG']].corr()\n",
        "\n",
        "print(correlation)\n",
        "\n",
        "\n"
      ],
      "metadata": {
        "id": "LWkqlRQAp1zl"
      },
      "execution_count": null,
      "outputs": []
    },
    {
      "cell_type": "code",
      "source": [
        "correlation_coefficient = df['Current_DL_Scale'].corr(df['Coding_LG'])\n",
        "\n",
        "print(correlation_coefficient)"
      ],
      "metadata": {
        "id": "LEXpLpY2qXtH"
      },
      "execution_count": null,
      "outputs": []
    },
    {
      "cell_type": "code",
      "source": [
        "# Group the data by 'Current_DL' and calculate the correlation\n",
        "grouped_correlations = df.groupby('Current_DL').apply(lambda x: x['Current_DL_Scale'].corr(x['Coding_LG']))\n",
        "\n",
        "print(grouped_correlations)\n"
      ],
      "metadata": {
        "id": "4DWqNyijrDfd"
      },
      "execution_count": null,
      "outputs": []
    },
    {
      "cell_type": "code",
      "source": [
        "# Group the data by 'Major' and calculate the correlation\n",
        "major_grouped_correlations = df.groupby('Major').apply(lambda x: x['Current_DL_Scale'].corr(x['Coding_LG']))\n",
        "\n",
        "print(major_grouped_correlations)\n"
      ],
      "metadata": {
        "id": "z00vLChxrnk1"
      },
      "execution_count": null,
      "outputs": []
    },
    {
      "cell_type": "markdown",
      "source": [
        "Coding experience and Coding_LG"
      ],
      "metadata": {
        "id": "LOQZRvFHsIzM"
      }
    },
    {
      "cell_type": "code",
      "source": [
        "import seaborn as sns\n",
        "import matplotlib.pyplot as plt\n",
        "\n",
        "# Create a boxplot\n",
        "sns.boxplot(x='Coding_exp', y='Coding_LG', data=df)\n",
        "\n",
        "# Set the title and labels\n",
        "plt.title('Coding_LG Rating by Coding Experience')\n",
        "plt.xlabel('Coding Experience')\n",
        "plt.ylabel('Coding_LG Rating')\n",
        "\n",
        "# Show the plot\n",
        "plt.show()\n"
      ],
      "metadata": {
        "id": "B4q2WcVzsLzj"
      },
      "execution_count": null,
      "outputs": []
    },
    {
      "cell_type": "markdown",
      "source": [
        "# 4. Challenges"
      ],
      "metadata": {
        "id": "8v75j5SFGQRT"
      }
    },
    {
      "cell_type": "code",
      "source": [
        "# Required Libraries\n",
        "import pandas as pd\n",
        "from wordcloud import WordCloud\n",
        "import matplotlib.pyplot as plt\n",
        "from nltk.corpus import stopwords\n",
        "import nltk\n",
        "nltk.download('stopwords')"
      ],
      "metadata": {
        "id": "7FMqSiH1GTrQ"
      },
      "execution_count": null,
      "outputs": []
    },
    {
      "cell_type": "code",
      "source": [
        "# Assuming df is your dataframe and 'Challenges' is the column\n",
        "combined_text = ' '.join(df['Challenges'].tolist())\n",
        "\n",
        "# Generate Wordcloud without removing stopwords\n",
        "# wordcloud = WordCloud(background_color='white').generate(combined_text)\n",
        "wordcloud = WordCloud(background_color='white', colormap='viridis').generate(combined_text)\n",
        "\n",
        "\n",
        "# Display the Wordcloud\n",
        "plt.figure(figsize=(10, 10))\n",
        "plt.imshow(wordcloud, interpolation='bilinear')\n",
        "plt.axis('off')\n",
        "plt.title('Wordcloud without removing stopwords')\n",
        "plt.savefig('wcloud01_Beforestopwords.png', dpi=800)\n",
        "plt.show()\n",
        "\n",
        "# Now, let's remove stopwords\n",
        "stop_words = set(stopwords.words('english'))\n",
        "\n",
        "# Filter words\n",
        "filtered_words = [word for word in combined_text.split() if word not in stop_words]\n",
        "\n",
        "# Join words into a string\n",
        "filtered_text = ' '.join(filtered_words)\n",
        "\n",
        "# Generate Wordcloud after removing stopwords\n",
        "wordcloud = WordCloud(background_color='white').generate(filtered_text)\n",
        "\n",
        "# Display the Wordcloud\n",
        "plt.figure(figsize=(10, 10))\n",
        "plt.imshow(wordcloud, interpolation='bilinear')\n",
        "plt.axis('off')\n",
        "plt.title('Wordcloud after removing stopwords')\n",
        "\n",
        "plt.savefig('wcloud02_afterstopwords.png', dpi=800)\n",
        "\n",
        "plt.show()\n"
      ],
      "metadata": {
        "id": "Ux1ekb9DGRqJ"
      },
      "execution_count": null,
      "outputs": []
    },
    {
      "cell_type": "code",
      "source": [
        "# Required Libraries\n",
        "import pandas as pd\n",
        "from nltk.sentiment.vader import SentimentIntensityAnalyzer\n",
        "import seaborn as sns\n",
        "import matplotlib.pyplot as plt\n",
        "\n",
        "# Download vader_lexicon\n",
        "nltk.download('vader_lexicon')\n",
        "\n",
        "# Create SentimentIntensityAnalyzer object\n",
        "sia = SentimentIntensityAnalyzer()\n",
        "\n",
        "# Define a function to determine sentiment\n",
        "def get_sentiment(text):\n",
        "    sentiment = sia.polarity_scores(text)\n",
        "    return sentiment['compound']  # Using compound score for simplicity\n",
        "\n",
        "# Apply sentiment analysis on the 'Challenges' column\n",
        "df['Sentiment'] = df['Challenges'].apply(get_sentiment)\n",
        "\n",
        "# Categorize sentiments as Positive, Negative, and Neutral\n",
        "df['Sentiment_category'] = pd.cut(df['Sentiment'], bins=[-1, -0.01, 0.01, 1], labels=['Negative', 'Neutral', 'Positive'])\n",
        "\n",
        "# Count each sentiment category\n",
        "sentiment_counts = df['Sentiment_category'].value_counts()\n",
        "\n",
        "# Plot the sentiments\n",
        "plt.figure(figsize=(10, 6))\n",
        "sns.barplot(x=sentiment_counts.index, y=sentiment_counts.values, alpha=0.8)\n",
        "plt.title('Sentiment Analysis of Challenges')\n",
        "plt.ylabel('Number of Occurrences', fontsize=12)\n",
        "plt.xlabel('Sentiment', fontsize=12)\n",
        "\n",
        "plt.savefig('Sentiment01.png', dpi=800)\n",
        "\n",
        "plt.show()\n"
      ],
      "metadata": {
        "id": "NOIZUxipJKDn"
      },
      "execution_count": null,
      "outputs": []
    },
    {
      "cell_type": "code",
      "source": [
        "sentiment_counts"
      ],
      "metadata": {
        "id": "PW1piTxPJnyk"
      },
      "execution_count": null,
      "outputs": []
    },
    {
      "cell_type": "code",
      "source": [
        "# Required Libraries\n",
        "import pandas as pd\n",
        "from nltk.sentiment.vader import SentimentIntensityAnalyzer\n",
        "import seaborn as sns\n",
        "import matplotlib.pyplot as plt\n",
        "\n",
        "# Download vader_lexicon\n",
        "nltk.download('vader_lexicon')\n",
        "\n",
        "# Create SentimentIntensityAnalyzer object\n",
        "sia = SentimentIntensityAnalyzer()\n",
        "\n",
        "# Define a function to determine sentiment\n",
        "def get_sentiment(text):\n",
        "    sentiment = sia.polarity_scores(text)\n",
        "    return sentiment['compound']  # Using compound score for simplicity\n",
        "\n",
        "# Apply sentiment analysis on the 'Challenges' column\n",
        "df['Sentiment'] = df['Challenges'].apply(get_sentiment)\n",
        "\n",
        "# Categorize sentiments as Positive, Negative, and Neutral\n",
        "df['Sentiment_category'] = pd.cut(df['Sentiment'], bins=[-1, -0.01, 0.01, 1], labels=['Negative', 'Neutral', 'Positive'])\n",
        "\n",
        "# Count each sentiment category\n",
        "sentiment_counts = df['Sentiment_category'].value_counts()\n",
        "\n",
        "# Plot the sentiments\n",
        "plt.figure(figsize=(10, 6))\n",
        "sns.barplot(x=sentiment_counts.index, y=sentiment_counts.values, alpha=0.8)\n",
        "\n",
        "# Increase the font sizes\n",
        "plt.title('Sentiment Analysis of Challenges', fontsize=20)\n",
        "plt.ylabel('Number of Occurrences', fontsize=16)\n",
        "plt.xlabel('Sentiment', fontsize=16)\n",
        "plt.xticks(fontsize=14)\n",
        "plt.yticks(fontsize=14)\n",
        "\n",
        "plt.savefig('Sentiment01.png', dpi=800)\n",
        "\n",
        "plt.show()\n"
      ],
      "metadata": {
        "id": "NAYtHeHvLxIc"
      },
      "execution_count": null,
      "outputs": []
    },
    {
      "cell_type": "code",
      "source": [
        "from nltk.corpus import stopwords\n",
        "from collections import Counter\n",
        "import re\n",
        "\n",
        "# Filter dataframe for negative sentiments\n",
        "negative_df = df[df['Sentiment_category'] == 'Negative']\n",
        "\n",
        "# Combine all the challenges into one string\n",
        "negative_text = ' '.join(negative_df['Challenges'].tolist())\n",
        "\n",
        "# Remove stopwords\n",
        "stop_words = set(stopwords.words('english'))\n",
        "negative_words = [word for word in re.findall(r'\\b\\w+\\b', negative_text) if word not in stop_words]\n",
        "\n",
        "# Count the occurrences of each word\n",
        "word_count = Counter(negative_words)\n",
        "\n",
        "# Print the 10 most common words\n",
        "for word, count in word_count.most_common(10):\n",
        "    print(f'{word}: {count}')\n"
      ],
      "metadata": {
        "id": "xzMqF4JpMmHC"
      },
      "execution_count": null,
      "outputs": []
    },
    {
      "cell_type": "code",
      "source": [
        "from nltk.corpus import stopwords\n",
        "from collections import Counter\n",
        "import re\n",
        "\n",
        "# Filter dataframe for negative sentiments\n",
        "positive_df = df[df['Sentiment_category'] == 'Positive']\n",
        "\n",
        "# Combine all the challenges into one string\n",
        "positive_text = ' '.join(positive_df['Challenges'].tolist())\n",
        "\n",
        "# Remove stopwords\n",
        "stop_words = set(stopwords.words('english'))\n",
        "positive_words = [word for word in re.findall(r'\\b\\w+\\b', positive_text) if word not in stop_words]\n",
        "\n",
        "# Count the occurrences of each word\n",
        "word_count = Counter(positive_words)\n",
        "\n",
        "# Print the 10 most common words\n",
        "for word, count in word_count.most_common(10):\n",
        "    print(f'{word}: {count}')"
      ],
      "metadata": {
        "id": "eW2ChpzCNblY"
      },
      "execution_count": null,
      "outputs": []
    },
    {
      "cell_type": "code",
      "source": [
        "from nltk.corpus import stopwords\n",
        "from collections import Counter\n",
        "import re\n",
        "\n",
        "# Filter dataframe for negative sentiments\n",
        "neutral_df = df[df['Sentiment_category'] == 'Neutral']\n",
        "\n",
        "# Combine all the challenges into one string\n",
        "neutral_text = ' '.join(neutral_df['Challenges'].tolist())\n",
        "\n",
        "# Remove stopwords\n",
        "stop_words = set(stopwords.words('english'))\n",
        "neutral_words = [word for word in re.findall(r'\\b\\w+\\b', neutral_text) if word not in stop_words]\n",
        "\n",
        "# Count the occurrences of each word\n",
        "word_count = Counter(neutral_words)\n",
        "\n",
        "# Print the 10 most common words\n",
        "for word, count in word_count.most_common(10):\n",
        "    print(f'{word}: {count}')"
      ],
      "metadata": {
        "id": "hs146XbsOhhU"
      },
      "execution_count": null,
      "outputs": []
    },
    {
      "cell_type": "markdown",
      "source": [
        "## Newwork analysis"
      ],
      "metadata": {
        "id": "7gwqChQVRERM"
      }
    },
    {
      "cell_type": "code",
      "source": [
        "import nltk\n",
        "import networkx as nx\n",
        "import matplotlib.pyplot as plt\n",
        "nltk.download('punkt')\n",
        "\n",
        "# Convert 'Challenges' column to list and join into a single string\n",
        "text = \" \".join(df['Challenges'].astype(str).tolist())\n",
        "\n",
        "# Tokenize and remove stop words\n",
        "stopwords = nltk.corpus.stopwords.words('english')\n",
        "tokens = nltk.word_tokenize(text)\n",
        "tokens = [token for token in tokens if token not in stopwords and token.isalnum()]\n",
        "\n",
        "# Create bigrams\n",
        "bigrams = list(nltk.bigrams(tokens))\n",
        "\n",
        "# Create a networkx graph object\n",
        "G = nx.Graph()\n",
        "\n",
        "# Add edges to the graph (each bigram forms an edge)\n",
        "for bigram in bigrams:\n",
        "    G.add_edge(*bigram)\n",
        "\n",
        "# Draw the graph\n",
        "plt.figure(figsize=(10,10))\n",
        "nx.draw_networkx(G, with_labels=True, node_color='skyblue', node_size=1500, font_size=10, width=0.5)\n",
        "plt.axis('off')\n",
        "plt.show()\n"
      ],
      "metadata": {
        "id": "lIHY7YfYRt75"
      },
      "execution_count": null,
      "outputs": []
    },
    {
      "cell_type": "code",
      "source": [
        "# Convert 'Challenges' column to list and join into a single string\n",
        "text = \" \".join(df['Challenges'].astype(str).tolist())\n",
        "\n",
        "# Tokenize and remove stop words\n",
        "stopwords = nltk.corpus.stopwords.words('english')\n",
        "tokens = nltk.word_tokenize(text)\n",
        "tokens = [token for token in tokens if token not in stopwords and token.isalnum()]\n",
        "\n",
        "# Find the most common words\n",
        "N = 20  # adjust this to change the number of words to include\n",
        "common_words = [word for word, freq in Counter(tokens).most_common(N)]\n",
        "\n",
        "# Create bigrams from the common words only\n",
        "bigrams = list(nltk.bigrams([token for token in tokens if token in common_words]))\n",
        "\n",
        "# Create a networkx graph object\n",
        "G = nx.Graph()\n",
        "\n",
        "# Add edges to the graph (each bigram forms an edge)\n",
        "for bigram in bigrams:\n",
        "    G.add_edge(*bigram)\n",
        "\n",
        "# Draw the graph\n",
        "plt.figure(figsize=(20,10))\n",
        "nx.draw_networkx(G, with_labels=True, node_color='skyblue', node_size=1500, font_size=10, width=0.5)\n",
        "plt.axis('off')\n",
        "plt.show()"
      ],
      "metadata": {
        "id": "6njlei13ipOQ"
      },
      "execution_count": null,
      "outputs": []
    },
    {
      "cell_type": "code",
      "source": [
        "print(len(text))\n",
        "print(len(tokens))\n",
        "print(len(common_words))"
      ],
      "metadata": {
        "id": "bIApzD9aj6Xd"
      },
      "execution_count": null,
      "outputs": []
    },
    {
      "cell_type": "code",
      "source": [
        "import nltk\n",
        "from collections import Counter\n",
        "import networkx as nx\n",
        "import matplotlib.pyplot as plt\n",
        "\n",
        "# Convert 'Challenges' column to list and join into a single string\n",
        "text = \" \".join(df['Challenges'].astype(str).tolist())\n",
        "\n",
        "# Tokenize and remove stop words\n",
        "stopwords = nltk.corpus.stopwords.words('english')\n",
        "tokens = nltk.word_tokenize(text)\n",
        "tokens = [token for token in tokens if token not in stopwords and token.isalnum()]\n",
        "\n",
        "# Find the frequencies of words\n",
        "freqs = Counter(tokens)\n",
        "\n",
        "# Set a frequency threshold\n",
        "freq_threshold = 8  # adjust this to change the frequency threshold\n",
        "\n",
        "# Create bigrams from the words that meet the frequency threshold\n",
        "bigrams = list(nltk.bigrams([token for token in tokens if freqs[token] > freq_threshold]))\n",
        "\n",
        "# Create a networkx graph object\n",
        "G = nx.Graph()\n",
        "\n",
        "# Add edges to the graph (each bigram forms an edge)\n",
        "for bigram in bigrams:\n",
        "    G.add_edge(*bigram)\n",
        "\n",
        "# Draw the graph\n",
        "plt.figure(figsize=(20,10))\n",
        "nx.draw_networkx(G, with_labels=True, node_color='skyblue', node_size=1500, font_size=16, edge_color='lightgray', width=0.5)\n",
        "\n",
        "plt.savefig('Network20.png', dpi=1200)\n",
        "\n",
        "plt.axis('off')\n",
        "plt.show()\n"
      ],
      "metadata": {
        "id": "sjk0417uje9T"
      },
      "execution_count": null,
      "outputs": []
    },
    {
      "cell_type": "code",
      "source": [
        "# Get the degrees of the nodes\n",
        "degrees = dict(G.degree())\n",
        "\n",
        "# Sort the words by degree and get the top 20\n",
        "top_20_words = sorted(degrees.items(), key=lambda x: x[1], reverse=True)[:20]\n",
        "\n",
        "# Create a dictionary to store the shortest paths\n",
        "shortest_paths = {}\n",
        "\n",
        "# Loop over each pair of words in the top 20\n",
        "for i in range(len(top_20_words)):\n",
        "    for j in range(i+1, len(top_20_words)):\n",
        "        # Get the words\n",
        "        word1 = top_20_words[i][0]\n",
        "        word2 = top_20_words[j][0]\n",
        "\n",
        "        # Compute the shortest path\n",
        "        shortest_paths[(word1, word2)] = nx.shortest_path_length(G, source=word1, target=word2)\n",
        "\n",
        "# Print the top 20 words\n",
        "print(\"Top 20 words by degree:\")\n",
        "for word, degree in top_20_words:\n",
        "    print(f\"Word: {word}, Degree: {degree}\")\n",
        "\n",
        "# Print the shortest paths\n",
        "print(\"\\nShortest paths between words:\")\n",
        "for words, path_length in shortest_paths.items():\n",
        "    print(f\"Words: {words}, Path length: {path_length}\")\n"
      ],
      "metadata": {
        "id": "nsK3VFZ7lnIj"
      },
      "execution_count": null,
      "outputs": []
    }
  ]
}