{
  "nbformat": 4,
  "nbformat_minor": 0,
  "metadata": {
    "colab": {
      "private_outputs": true,
      "provenance": [],
      "authorship_tag": "ABX9TyNWC2ebQ54SSC1Gt/aG+fZ7",
      "include_colab_link": true
    },
    "kernelspec": {
      "name": "python3",
      "display_name": "Python 3"
    },
    "language_info": {
      "name": "python"
    }
  },
  "cells": [
    {
      "cell_type": "markdown",
      "metadata": {
        "id": "view-in-github",
        "colab_type": "text"
      },
      "source": [
        "<a href=\"https://colab.research.google.com/github/MK316/workspace/blob/main/DLP/DL_perception_01.ipynb\" target=\"_parent\"><img src=\"https://colab.research.google.com/assets/colab-badge.svg\" alt=\"Open In Colab\"/></a>"
      ]
    },
    {
      "cell_type": "markdown",
      "source": [
        "# DL perception 228 data\n",
        "\n",
        "asof Nov.13"
      ],
      "metadata": {
        "id": "zZsGmF-RjZyH"
      }
    },
    {
      "cell_type": "markdown",
      "source": [
        "# Data file to read: total 228 participants\n",
        "\n",
        "+ May to September 2023"
      ],
      "metadata": {
        "id": "vu1iBjHvjnvy"
      }
    },
    {
      "cell_type": "code",
      "execution_count": null,
      "metadata": {
        "id": "MHh_bz9-jSWY"
      },
      "outputs": [],
      "source": [
        "import pandas as pd"
      ]
    },
    {
      "cell_type": "markdown",
      "source": [
        "File to read (uploading)\n",
        "\n",
        "+ DLtotal_1113.csv\n",
        "+ DLtotal_1113_heads.csv"
      ],
      "metadata": {
        "id": "dhsQflT778o_"
      }
    },
    {
      "cell_type": "code",
      "source": [
        "df = pd.read_csv(\"/content/DLtotal_1113.csv\")\n",
        "df[-1:]\n",
        "\n",
        "info = pd.read_csv(\"/content/DLtotal_1113_heads.csv\")\n",
        "info[-1:]"
      ],
      "metadata": {
        "id": "jnnRAFxGkGhW"
      },
      "execution_count": null,
      "outputs": []
    },
    {
      "cell_type": "code",
      "source": [
        "# Get the column names as a list\n",
        "column_names = list(df.columns)\n",
        "\n",
        "print(column_names)"
      ],
      "metadata": {
        "id": "4fo9oppskTYQ"
      },
      "execution_count": null,
      "outputs": []
    },
    {
      "cell_type": "markdown",
      "source": [
        "## Descriptive statistics"
      ],
      "metadata": {
        "id": "GfGgEo8OmKOQ"
      }
    },
    {
      "cell_type": "code",
      "source": [
        "descriptive_stats = df.describe()\n",
        "descriptive_stats"
      ],
      "metadata": {
        "id": "LJbz-BT1mNLA"
      },
      "execution_count": null,
      "outputs": []
    },
    {
      "cell_type": "markdown",
      "source": [
        "Total summary of frequency data"
      ],
      "metadata": {
        "id": "9EXee7XH8J-F"
      }
    },
    {
      "cell_type": "code",
      "source": [
        "#@markdown (optional) Total summary of frequency data\n",
        "# import pandas as pd\n",
        "\n",
        "# # Assuming you have a DataFrame 'df' with multiple columns\n",
        "# # df = pd.read_csv('yourfile.csv') or create your DataFrame\n",
        "\n",
        "# # Identify categorical columns (assuming 'object' dtype as categorical)\n",
        "# categorical_cols = df.select_dtypes(include=['object']).columns\n",
        "\n",
        "# # Create a dictionary to hold frequency data for categorical columns\n",
        "# frequency_summary = {}\n",
        "\n",
        "# for col in categorical_cols:\n",
        "#     frequency_summary[col] = df[col].value_counts()\n",
        "\n",
        "# # Now 'frequency_summary' dictionary contains the frequency counts for each categorical column\n",
        "# # To print the summary for each categorical column:\n",
        "# for col, freq_table in frequency_summary.items():\n",
        "#     print(f\"Frequency table for column: {col}\")\n",
        "#     print(freq_table)\n",
        "#     print(\"\\n\")  # Print a newline for better readability between tables\n"
      ],
      "metadata": {
        "cellView": "form",
        "id": "ZE3-aey7nd9w"
      },
      "execution_count": null,
      "outputs": []
    },
    {
      "cell_type": "markdown",
      "source": [
        "## Column summary (Frequency)"
      ],
      "metadata": {
        "id": "KKI31KVqqJ24"
      }
    },
    {
      "cell_type": "code",
      "source": [
        "info"
      ],
      "metadata": {
        "id": "Y-npqqdXqkTi"
      },
      "execution_count": null,
      "outputs": []
    },
    {
      "cell_type": "code",
      "source": [
        "#@markdown 🐋 Column summary table (Single column)\n",
        "import pandas as pd\n",
        "\n",
        "# Assuming 'df' is your DataFrame and 'column_name' is the column you want to analyze\n",
        "# df = pd.DataFrame(...) # your data frame creation here\n",
        "# column_name = 'your_column' # replace with the column you want to analyze\n",
        "\n",
        "def frequency_table_with_percentage(df, column_name):\n",
        "    # Calculate frequency counts for the column\n",
        "    frequency_counts = df[column_name].value_counts(dropna=False)\n",
        "\n",
        "    # Calculate the percentage of each unique value\n",
        "    percentage = (frequency_counts / frequency_counts.sum()) * 100\n",
        "\n",
        "    # Create a DataFrame with the frequency and percentage\n",
        "    frequency_df = pd.DataFrame({'Frequency': frequency_counts, 'Percentage': percentage})\n",
        "\n",
        "    # Resetting the column name to a proper 'Value' heading for clarity\n",
        "    frequency_df = frequency_df.reset_index().rename(columns={'index': 'Value'})\n",
        "\n",
        "    return frequency_df\n",
        "\n",
        "# User input for the column name\n",
        "column_to_analyze = input(\"Enter the column name to create a frequency table with percentage: \")\n",
        "\n",
        "# Display the freque\n",
        "freq_table_df = frequency_table_with_percentage(df, column_to_analyze)\n",
        "print(freq_table_df)"
      ],
      "metadata": {
        "cellView": "form",
        "id": "9CmMDeMLqIrP"
      },
      "execution_count": null,
      "outputs": []
    },
    {
      "cell_type": "markdown",
      "source": [
        "Teaching_plan categorically"
      ],
      "metadata": {
        "id": "JZrCoL2UGNFU"
      }
    },
    {
      "cell_type": "code",
      "source": [
        "#@markdown Summary frequency table (likely to be a teacher?)\n",
        "import pandas as pd\n",
        "\n",
        "# Assuming 'df' is your dataframe and 'Teaching_plan' is the column with categorical points from 1 to 6\n",
        "\n",
        "# Map the 'Teaching_plan' values to the new categories\n",
        "df['Likelihood'] = df['Teaching_plan'].map(lambda x: 'not likely' if x in [1, 2, 3] else 'more likely or definitely')\n",
        "\n",
        "# Calculate frequency for each category\n",
        "likelihood_counts = df['Likelihood'].value_counts().reset_index()\n",
        "likelihood_counts.columns = ['Category', 'Count']\n",
        "\n",
        "# Calculate percentage for each category\n",
        "likelihood_percentage = df['Likelihood'].value_counts(normalize=True).mul(100).reset_index()\n",
        "likelihood_percentage.columns = ['Category', 'Percentage']\n",
        "\n",
        "# Merge the counts and percentages into one dataframe for a comprehensive summary\n",
        "summary_table = pd.merge(likelihood_counts, likelihood_percentage, on='Category')\n",
        "\n",
        "# Display the table with percentages rounded to two decimal places\n",
        "summary_table['Percentage'] = summary_table['Percentage'].round(2)\n",
        "\n",
        "print(summary_table)\n"
      ],
      "metadata": {
        "cellView": "form",
        "id": "LAezK6sBGRd4"
      },
      "execution_count": null,
      "outputs": []
    },
    {
      "cell_type": "code",
      "source": [
        "#@markdown [Specific] Among future teachers, exposure to digital training prior to university\n",
        "import pandas as pd\n",
        "\n",
        "# Assuming 'df' is your DataFrame with 'Teaching_plan' and 'A1' as columns.\n",
        "\n",
        "# Select rows where 'Teaching_plan' value is 4, 5, or 6\n",
        "selected_df = df[df['Teaching_plan'].isin([4,5,6])]\n",
        "\n",
        "# Get the frequency count of 'A1' column values in the filtered data\n",
        "a1_counts = selected_df['A1'].value_counts()\n",
        "\n",
        "# Convert the frequency count to a DataFrame\n",
        "a1_counts_df = a1_counts.reset_index()\n",
        "a1_counts_df.columns = ['A1_Response', 'Frequency']\n",
        "\n",
        "# If you need to display the ratio as well, calculate it using the total counts\n",
        "a1_counts_df['Percentage'] = (a1_counts_df['Frequency'] / a1_counts_df['Frequency'].sum()) * 100\n",
        "\n",
        "# Optionally, you can round the percentages to two decimal places\n",
        "a1_counts_df['Percentage'] = a1_counts_df['Percentage'].round(2)\n",
        "\n",
        "print(a1_counts_df)\n"
      ],
      "metadata": {
        "cellView": "form",
        "id": "74jQlwS3Hxja"
      },
      "execution_count": null,
      "outputs": []
    },
    {
      "cell_type": "markdown",
      "source": [
        "## Prior exposure to DT for potential teachers\n"
      ],
      "metadata": {
        "id": "m64Em7Ru9zDE"
      }
    },
    {
      "cell_type": "markdown",
      "source": [
        "### Chi-Squared test: Teaching_plan = 4, 5, 6 vs. 1, 2, 3 for A1 responses (prior training)"
      ],
      "metadata": {
        "id": "cuUIZ-qfB9gX"
      }
    },
    {
      "cell_type": "code",
      "source": [
        "import pandas as pd\n",
        "from scipy.stats import chi2_contingency\n",
        "\n",
        "# Sample DataFrame setup\n",
        "# df = your dataframe\n",
        "\n",
        "# Create a contingency table\n",
        "# First, categorize the 'Teaching_plan' column into two groups\n",
        "df['Teaching_plan_group'] = df['Teaching_plan'].apply(lambda x: '4-6' if x in [4, 5, 6] else '1-3')\n",
        "\n",
        "# Create the contingency table for 'A1' across the 'Teaching_plan_group'\n",
        "contingency_table = pd.crosstab(df['A1'], df['Teaching_plan_group'])\n",
        "\n",
        "# Perform the Chi-Squared test\n",
        "chi2, p, dof, expected = chi2_contingency(contingency_table)\n",
        "\n",
        "print(\"Chi-Squared Test statistic:\", chi2)\n",
        "print(\"p-value:\", p)\n",
        "print(\"Degrees of freedom:\", dof)\n",
        "print(\"Expected frequencies table:\\n\", expected)\n"
      ],
      "metadata": {
        "id": "kgpi3Z_kOdBO"
      },
      "execution_count": null,
      "outputs": []
    },
    {
      "cell_type": "markdown",
      "source": [
        "### Association plot"
      ],
      "metadata": {
        "id": "aiXf9Aw2B_UR"
      }
    },
    {
      "cell_type": "code",
      "source": [
        "import pandas as pd\n",
        "import statsmodels.api as sm\n",
        "from statsmodels.graphics.mosaicplot import mosaic\n",
        "import matplotlib.pyplot as plt\n",
        "import matplotlib.pyplot as plt"
      ],
      "metadata": {
        "id": "9wlgyiIAC07_"
      },
      "execution_count": null,
      "outputs": []
    },
    {
      "cell_type": "markdown",
      "source": [
        "### Association plot (rainbow)"
      ],
      "metadata": {
        "id": "D6O-qfniCDYv"
      }
    },
    {
      "cell_type": "code",
      "source": [
        "# Assuming 'Teaching_plan' is the column for which you want to set the order\n",
        "# Define the order of categories\n",
        "plt.rcParams['text.color'] = 'white'\n",
        "teaching_plan_order = [1, 2, 3, 4, 5, 6]  # Replace with your desired order\n",
        "\n",
        "# Convert the 'Teaching_plan' column to a categorical type with the specified order\n",
        "df['Teaching_plan'] = pd.Categorical(df['Teaching_plan'], categories=teaching_plan_order, ordered=True)\n",
        "\n",
        "# Create a cross-tabulation table\n",
        "crosstab = pd.crosstab(df['Teaching_plan'], df['A1'])\n",
        "# plt.figure(figsize=(18, 8))  # Set the width and height of the figure (in inches)\n",
        "\n",
        "# Now you can plot and the x-axis will follow the order of 'teaching_plan_order'\n",
        "mosaic(df, ['Teaching_plan', 'A1'], title='Association between Teacher career and prior exposure to digital literacy training')\n",
        "plt.savefig('association_plot.png', dpi=300, bbox_inches='tight', pad_inches=0.1)\n",
        "plt.show()\n"
      ],
      "metadata": {
        "id": "v2WdhSQCAwtF"
      },
      "execution_count": null,
      "outputs": []
    },
    {
      "cell_type": "code",
      "source": [
        "import matplotlib.pyplot as plt\n",
        "import pandas as pd\n",
        "from statsmodels.graphics.mosaicplot import mosaic\n",
        "\n",
        "# ... your previous code for data preparation ...\n",
        "\n",
        "# Set the figure size\n",
        "# plt.figure(figsize=(10, 6))\n",
        "\n",
        "# Create the mosaic plot\n",
        "props = {}\n",
        "props[('4', 'YES')] = {'facecolor': 'blue', 'edgecolor': 'white'}\n",
        "props[('4', 'NO')] = {'facecolor': 'lightblue', 'edgecolor': 'white'}\n",
        "# ... set properties for other categories as needed ...\n",
        "\n",
        "# Plot the mosaic with the properties dictionary\n",
        "mosaic(df, ['Teaching_plan', 'A1'], properties=props)\n",
        "\n",
        "# After plotting your data, set your x-label and y-label\n",
        "plt.xlabel('Career intent for English teaching', fontsize=14)  # Set x-label with font size\n",
        "plt.ylabel('A1 Response', fontsize=14, labelpad=20)             # Set y-label with font size\n",
        "\n",
        "# Set title\n",
        "plt.title('Association between Teacher Career and Prior Exposure to Digital Literacy Training', fontsize=16)\n",
        "\n",
        "# Save the figure with high resolution for publication\n",
        "plt.savefig('association_plot.png', dpi=300, bbox_inches='tight', pad_inches=0.1)\n",
        "\n",
        "# If you want to display the plot in a Jupyter notebook or similar, use plt.show() after saving the figure\n",
        "plt.show()\n"
      ],
      "metadata": {
        "id": "mvUndij0CJSg"
      },
      "execution_count": null,
      "outputs": []
    },
    {
      "cell_type": "code",
      "source": [
        "import matplotlib.pyplot as plt\n",
        "import pandas as pd\n",
        "from statsmodels.graphics.mosaicplot import mosaic\n",
        "\n",
        "# ... your previous code for data preparation ...\n",
        "\n",
        "# Create a figure and axis object\n",
        "fig, ax = plt.subplots(figsize=(10, 6))  # Set the figure size\n",
        "\n",
        "# Create the mosaic plot using the ax object\n",
        "props = {}\n",
        "props[('4', 'YES')] = {'facecolor': 'blue', 'edgecolor': 'white'}\n",
        "props[('4', 'NO')] = {'facecolor': 'lightblue', 'edgecolor': 'white'}\n",
        "# ... set properties for other categories as needed ...\n",
        "\n",
        "mosaic(df, ['Teaching_plan', 'A1'], ax=ax, properties=props)\n",
        "\n",
        "# Set the x-label at the bottom and y-label using the axis object 'ax'\n",
        "ax.set_xlabel('Career Intent for English Teaching (N=228)', fontsize=14, labelpad=20)  # Set x-label with font size and padding\n",
        "ax.set_ylabel('Prior Exposure to Coding and Digital Literacy', fontsize=14)    # Set y-label with font size\n",
        "\n",
        "# Set title using 'ax' to ensure it's applied to the correct subplot\n",
        "ax.set_title('Association between Teacher Career and Prior Exposure to Digital Literacy Training', fontsize=16)\n",
        "\n",
        "# Save the figure with high resolution for publication\n",
        "plt.savefig('association_plot.png', dpi=300, bbox_inches='tight', pad_inches=0.1)\n",
        "\n",
        "# Display the plot\n",
        "plt.show()\n"
      ],
      "metadata": {
        "id": "tn1PvmRWMP4O"
      },
      "execution_count": null,
      "outputs": []
    },
    {
      "cell_type": "markdown",
      "source": [
        "## [2] Self-assessment of digital literacy proficiency"
      ],
      "metadata": {
        "id": "nrB5aSSACFCK"
      }
    },
    {
      "cell_type": "code",
      "source": [
        "import pandas as pd\n",
        "\n",
        "# Assuming 'df' is your DataFrame and 'Teaching_plan' and 'A1' are columns in your DataFrame\n",
        "\n",
        "# Add a new column to categorize 'Teaching_plan' into 'Group1' and 'Group2'\n",
        "df['Group'] = df['Teaching_plan'].apply(lambda x: 'Group1' if x in [1, 2, 3] else 'Group2')\n",
        "\n",
        "def frequency_table_with_percentage(group_df, column_name):\n",
        "    # Calculate frequency counts for the column within each group\n",
        "    frequency_counts = group_df[column_name].value_counts()\n",
        "\n",
        "    # Calculate the percentage of each unique value within the group\n",
        "    percentages = (frequency_counts / frequency_counts.sum()) * 100\n",
        "\n",
        "    # Create a DataFrame for the frequency and percentages\n",
        "    frequency_df = pd.DataFrame({'Frequency': frequency_counts, 'Percentage': percentages})\n",
        "\n",
        "    # Sort by index to maintain order if necessary\n",
        "    frequency_df = frequency_df.sort_index()\n",
        "\n",
        "    return frequency_df.reset_index()\n",
        "\n",
        "# Split the dataframe into groups based on 'Teaching_plan' category\n",
        "group1_df = df[df['Group'] == 'Group1']\n",
        "group2_df = df[df['Group'] == 'Group2']\n",
        "\n",
        "# Call the function for each group\n",
        "freq_table_group1 = frequency_table_with_percentage(group1_df, 'A4')\n",
        "freq_table_group2 = frequency_table_with_percentage(group2_df, 'A4')\n",
        "\n",
        "# Display the frequency table for each group\n",
        "print(\"Group 1 (Teaching_plan 1-3):\")\n",
        "print(freq_table_group1)\n",
        "print(\"\\nGroup 2 (Teaching_plan 4-6):\")\n",
        "print(freq_table_group2)\n"
      ],
      "metadata": {
        "id": "7EOCp425bZvp"
      },
      "execution_count": null,
      "outputs": []
    },
    {
      "cell_type": "markdown",
      "source": [
        "### 3.2 Perceived Impact of Digital Literacy on Language Learning and Teaching\n",
        "\n",
        "+ Column C3"
      ],
      "metadata": {
        "id": "uSoOeAysCE7B"
      }
    },
    {
      "cell_type": "code",
      "source": [],
      "metadata": {
        "id": "dIN6hAwaqSNL"
      },
      "execution_count": null,
      "outputs": []
    },
    {
      "cell_type": "code",
      "source": [
        "#@markdown 🐋 Column summary table (Single column)\n",
        "import pandas as pd\n",
        "\n",
        "# Assuming 'df' is your DataFrame and 'column_name' is the column you want to analyze\n",
        "# df = pd.DataFrame(...) # your data frame creation here\n",
        "# column_name = 'your_column' # replace with the column you want to analyze\n",
        "\n",
        "def frequency_table_with_percentage(df, column_name):\n",
        "    # Calculate frequency counts for the column\n",
        "    frequency_counts = df[column_name].value_counts(dropna=False)\n",
        "\n",
        "    # Calculate the percentage of each unique value\n",
        "    percentage = (frequency_counts / frequency_counts.sum()) * 100\n",
        "\n",
        "    # Create a DataFrame with the frequency and percentage\n",
        "    frequency_df = pd.DataFrame({'Frequency': frequency_counts, 'Percentage': percentage})\n",
        "\n",
        "    # Resetting the column name to a proper 'Value' heading for clarity\n",
        "    frequency_df = frequency_df.reset_index().rename(columns={'index': 'Value'})\n",
        "\n",
        "    return frequency_df\n",
        "\n",
        "# User input for the column name\n",
        "column_to_analyze = input(\"Enter the column name to create a frequency table with percentage: \")\n",
        "\n",
        "# Display the freque\n",
        "freq_table_df = frequency_table_with_percentage(df, column_to_analyze)\n",
        "print(freq_table_df)"
      ],
      "metadata": {
        "cellView": "form",
        "id": "Aja9DHhWqWY9"
      },
      "execution_count": null,
      "outputs": []
    },
    {
      "cell_type": "markdown",
      "source": [
        "## 3.3 Effort to put / willing to learn (C8)"
      ],
      "metadata": {
        "id": "uxqSkwaxsBbU"
      }
    },
    {
      "cell_type": "code",
      "source": [
        "#@markdown 🐋 Column summary table (Single column)\n",
        "import pandas as pd\n",
        "\n",
        "# Assuming 'df' is your DataFrame and 'column_name' is the column you want to analyze\n",
        "# df = pd.DataFrame(...) # your data frame creation here\n",
        "# column_name = 'your_column' # replace with the column you want to analyze\n",
        "\n",
        "def frequency_table_with_percentage(df, column_name):\n",
        "    # Calculate frequency counts for the column\n",
        "    frequency_counts = df[column_name].value_counts(dropna=False)\n",
        "\n",
        "    # Calculate the percentage of each unique value\n",
        "    percentage = (frequency_counts / frequency_counts.sum()) * 100\n",
        "\n",
        "    # Create a DataFrame with the frequency and percentage\n",
        "    frequency_df = pd.DataFrame({'Frequency': frequency_counts, 'Percentage': percentage})\n",
        "\n",
        "    # Resetting the column name to a proper 'Value' heading for clarity\n",
        "    frequency_df = frequency_df.reset_index().rename(columns={'index': 'Value'})\n",
        "\n",
        "    return frequency_df\n",
        "\n",
        "# User input for the column name\n",
        "column_to_analyze = input(\"Enter the column name to create a frequency table with percentage: \")\n",
        "\n",
        "# Display the freque\n",
        "freq_table_df = frequency_table_with_percentage(df, column_to_analyze)\n",
        "print(freq_table_df)"
      ],
      "metadata": {
        "cellView": "form",
        "id": "9f8DwOLl61XH"
      },
      "execution_count": null,
      "outputs": []
    },
    {
      "cell_type": "code",
      "source": [],
      "metadata": {
        "id": "v9AoA4KZsCYj"
      },
      "execution_count": null,
      "outputs": []
    }
  ]
}