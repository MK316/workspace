{
  "nbformat": 4,
  "nbformat_minor": 0,
  "metadata": {
    "colab": {
      "private_outputs": true,
      "provenance": [],
      "authorship_tag": "ABX9TyMhUZvNQpnmavJZRZSppJjK",
      "include_colab_link": true
    },
    "kernelspec": {
      "name": "python3",
      "display_name": "Python 3"
    },
    "language_info": {
      "name": "python"
    }
  },
  "cells": [
    {
      "cell_type": "markdown",
      "metadata": {
        "id": "view-in-github",
        "colab_type": "text"
      },
      "source": [
        "<a href=\"https://colab.research.google.com/github/MK316/workspace/blob/main/DLP/DLP01.ipynb\" target=\"_parent\"><img src=\"https://colab.research.google.com/assets/colab-badge.svg\" alt=\"Open In Colab\"/></a>"
      ]
    },
    {
      "cell_type": "markdown",
      "source": [
        "# Digital Literacy Perception study (23.6~)\n"
      ],
      "metadata": {
        "id": "tGv7ggwV5opz"
      }
    },
    {
      "cell_type": "markdown",
      "source": [
        "#1. Demographic info"
      ],
      "metadata": {
        "id": "F0kfL4dE5ua1"
      }
    },
    {
      "cell_type": "code",
      "source": [
        "import matplotlib.pyplot as plt\n",
        "import pandas as pd"
      ],
      "metadata": {
        "id": "qX5kkAV67TFq"
      },
      "execution_count": null,
      "outputs": []
    },
    {
      "cell_type": "code",
      "execution_count": null,
      "metadata": {
        "id": "QwGOnJbz5lmN"
      },
      "outputs": [],
      "source": [
        "url = \"https://raw.githubusercontent.com/MK316/workspace/main/DLP/data/data02.csv\"\n",
        "df = pd.read_csv(url)\n",
        "df.head()"
      ]
    },
    {
      "cell_type": "code",
      "source": [
        "import matplotlib.pyplot as plt\n",
        "\n",
        "# count the occurrence of each class\n",
        "count_series = df['Major'].value_counts()\n",
        "\n",
        "# specify the colors\n",
        "colors = ['lightblue', 'orange']\n",
        "\n",
        "# create a pie chart\n",
        "count_series.plot(kind='pie', autopct='%1.1f%%', colors=colors)\n",
        "\n",
        "# set the title\n",
        "plt.title('Majors Distribution')\n",
        "\n",
        "# save the plot as an image file\n",
        "plt.savefig('majors_distribution.png', dpi=800)\n",
        "\n",
        "# show the plot\n",
        "plt.show()\n",
        "\n"
      ],
      "metadata": {
        "id": "mumipI667dn9"
      },
      "execution_count": null,
      "outputs": []
    },
    {
      "cell_type": "code",
      "source": [
        "import matplotlib.pyplot as plt\n",
        "\n",
        "# Update default font size for all text elements in the figure\n",
        "plt.rcParams.update({'font.size': 14})\n",
        "\n",
        "# count the occurrence of each class\n",
        "count_series = df['Major'].value_counts()\n",
        "\n",
        "# specify the colors\n",
        "colors = ['lightblue', 'orange'] * (len(count_series) // 2)\n",
        "\n",
        "# create a new figure with specified size\n",
        "plt.figure(figsize=(800/96, 600/96))  # Converting pixels to inches\n",
        "\n",
        "# create a bar plot\n",
        "bars = count_series.plot.bar(color=colors)\n",
        "\n",
        "# set the title\n",
        "plt.title('Majors Distribution')\n",
        "\n",
        "# set y-axis label\n",
        "plt.ylabel('Frequency')\n",
        "\n",
        "# rotate x-axis labels to horizontal\n",
        "plt.xticks(rotation=0)\n",
        "\n",
        "# add counts inside each bar\n",
        "for rect in bars.patches:\n",
        "    height = rect.get_height()\n",
        "    plt.text(rect.get_x() + rect.get_width() / 2, height, int(height), ha='center', va='bottom')\n",
        "\n",
        "# save the plot as an image file with high dpi\n",
        "plt.savefig('majors_distribution.png', dpi=600)\n",
        "\n",
        "# show the plot\n",
        "plt.show()\n"
      ],
      "metadata": {
        "id": "Q517yDVw98t6"
      },
      "execution_count": null,
      "outputs": []
    },
    {
      "cell_type": "code",
      "source": [
        "major_counts = df['Major'].value_counts()\n",
        "print(major_counts)"
      ],
      "metadata": {
        "id": "j5eZwyeG8Ub2"
      },
      "execution_count": null,
      "outputs": []
    },
    {
      "cell_type": "code",
      "source": [
        "import matplotlib.pyplot as plt\n",
        "\n",
        "# Split the 'Concept' column on comma and expand the lists into separate rows\n",
        "split_concepts = df['Concept'].str.split(',', expand=True).stack()\n",
        "\n",
        "# Strip leading and trailing whitespace from each concept\n",
        "stripped_concepts = split_concepts.str.strip()\n",
        "\n",
        "# Count the occurrence of each unique concept\n",
        "count_series = stripped_concepts.value_counts()\n",
        "\n",
        "# Sort the index in ascending order\n",
        "count_series = count_series.sort_index()\n",
        "\n",
        "# specify the colors\n",
        "colors = ['lightblue', 'orange'] * (len(count_series) // 2)\n",
        "\n",
        "# create a new figure with specified size\n",
        "plt.figure(figsize=(800/96, 600/96))  # Converting pixels to inches\n",
        "\n",
        "# create a bar plot\n",
        "bars = count_series.plot.bar(color=colors)\n",
        "\n",
        "# set the title and y-axis label\n",
        "plt.title('Concepts Distribution')\n",
        "plt.ylabel('Frequency')\n",
        "\n",
        "# rotate x-axis labels to horizontal\n",
        "plt.xticks(rotation=0)\n",
        "\n",
        "# add counts inside each bar\n",
        "for rect in bars.patches:\n",
        "    height = rect.get_height()\n",
        "    plt.text(rect.get_x() + rect.get_width() / 2, height, int(height), ha='center', va='bottom')\n",
        "\n",
        "# save the plot as an image file with high dpi\n",
        "plt.savefig('concepts_distribution.png', dpi=600)\n",
        "\n",
        "# show the plot\n",
        "plt.show()\n"
      ],
      "metadata": {
        "id": "vB65FFkuPGhU"
      },
      "execution_count": null,
      "outputs": []
    },
    {
      "cell_type": "code",
      "source": [
        "import matplotlib.pyplot as plt\n",
        "\n",
        "# Split the 'Concept' column on comma and expand the lists into separate rows\n",
        "split_concepts = df['Concept'].str.split(',', expand=True).stack()\n",
        "\n",
        "# Strip leading and trailing whitespace from each concept\n",
        "stripped_concepts = split_concepts.str.strip()\n",
        "\n",
        "# Count the occurrence of each unique concept\n",
        "count_series = stripped_concepts.value_counts()\n",
        "\n",
        "# Compute the proportions in percentages based on a fixed denominator\n",
        "percentage_series = (count_series / 160 * 100)\n",
        "\n",
        "# Sort the index in ascending order\n",
        "percentage_series = percentage_series.sort_index()\n",
        "\n",
        "# specify the colors\n",
        "colors = ['lightblue', 'orange'] * (len(percentage_series) // 2)\n",
        "\n",
        "# create a new figure with specified size\n",
        "plt.figure(figsize=(800/96, 600/96))  # Converting pixels to inches\n",
        "\n",
        "# create a bar plot\n",
        "bars = percentage_series.plot.bar(color=colors)\n",
        "\n",
        "# set the title and y-axis label\n",
        "plt.title('Concepts Distribution')\n",
        "plt.ylabel('Percentage (%)')\n",
        "\n",
        "# rotate x-axis labels to horizontal\n",
        "plt.xticks(rotation=0)\n",
        "\n",
        "# add percentages inside each bar\n",
        "for rect in bars.patches:\n",
        "    height = rect.get_height()\n",
        "    plt.text(rect.get_x() + rect.get_width() / 2, height, '{:.1f}%'.format(height), ha='center', va='bottom')\n",
        "\n",
        "# save the plot as an image file with high dpi\n",
        "plt.savefig('concepts_distribution.png', dpi=600)\n",
        "\n",
        "# show the plot\n",
        "plt.show()\n"
      ],
      "metadata": {
        "id": "tLwG3-kFQWTd"
      },
      "execution_count": null,
      "outputs": []
    },
    {
      "cell_type": "code",
      "source": [
        "import matplotlib.pyplot as plt\n",
        "import numpy as np\n",
        "\n",
        "# Split the 'Concept' column on comma and expand the lists into separate rows\n",
        "split_concepts = df['Concept'].str.split(',', expand=True).stack()\n",
        "\n",
        "# Strip leading and trailing whitespace from each concept\n",
        "stripped_concepts = split_concepts.str.strip()\n",
        "\n",
        "# Count the occurrence of each unique concept\n",
        "count_series = stripped_concepts.value_counts()\n",
        "\n",
        "# Compute the proportions in percentages based on a fixed denominator\n",
        "percentage_series = (count_series / 160 * 100)\n",
        "\n",
        "# Sort the index in ascending order\n",
        "count_series = count_series.sort_index()\n",
        "percentage_series = percentage_series.sort_index()\n",
        "\n",
        "# specify the colors\n",
        "colors = ['lightblue', 'orange'] * (len(count_series) // 2)\n",
        "\n",
        "# create a new figure with specified size\n",
        "fig, ax1 = plt.subplots(figsize=(800/96, 600/96))  # Converting pixels to inches\n",
        "\n",
        "# create a bar plot for the frequencies\n",
        "bars = ax1.bar(count_series.index, count_series, color=colors)\n",
        "\n",
        "# set the title and y-axis label\n",
        "plt.title('Concepts Distribution')\n",
        "ax1.set_ylabel('Frequency')\n",
        "\n",
        "# set y limit\n",
        "ax1.set_ylim([0, 100])\n",
        "\n",
        "# Create a second y-axis for the percentages\n",
        "# ax2 = ax1.twinx()\n",
        "# ax2.set_ylabel('Percentage (%)')\n",
        "\n",
        "# # set y limit for the second y-axis\n",
        "# ax2.set_ylim([0, 50 / 160 * 100])\n",
        "\n",
        "# rotate x-axis labels to horizontal\n",
        "plt.xticks(rotation=0)\n",
        "\n",
        "# add counts and percentages inside each bar\n",
        "for rect, pct in zip(bars.patches, percentage_series):\n",
        "    height = rect.get_height()\n",
        "    ax1.text(rect.get_x() + rect.get_width() / 2, height, '{}\\n({:.1f}%)'.format(int(height), pct), ha='center', va='bottom')\n",
        "\n",
        "# save the plot as an image file with high dpi\n",
        "plt.savefig('concepts_distribution.png', dpi=800)\n",
        "\n",
        "# show the plot\n",
        "plt.show()\n"
      ],
      "metadata": {
        "id": "khfV6KlARlGp"
      },
      "execution_count": null,
      "outputs": []
    },
    {
      "cell_type": "markdown",
      "source": [
        "#2. Self-assessment"
      ],
      "metadata": {
        "id": "nERrKL5da-oz"
      }
    },
    {
      "cell_type": "code",
      "source": [
        "import matplotlib.pyplot as plt\n",
        "df1 = df\n",
        "# Create a new figure\n",
        "fig, ax = plt.subplots(nrows=1, ncols=2, figsize=(16, 6))\n",
        "\n",
        "# Boxplot\n",
        "df['DL_level'].plot(kind='box', ax=ax[0])\n",
        "ax[0].set_title('Boxplot of Digital Literacy Level')\n",
        "ax[0].set_xticklabels(['DL_level'])\n",
        "ax[0].set_ylabel('Level')\n",
        "\n",
        "# Barplot\n",
        "df['DL_level'].astype(str).value_counts().sort_index().plot(kind='bar', ax=ax[1])\n",
        "ax[1].set_title('Counts of Digital Literacy Level')\n",
        "ax[1].set_xlabel('Level')\n",
        "ax[1].set_ylabel('Counts')\n",
        "\n",
        "plt.tight_layout()\n",
        "plt.show()\n"
      ],
      "metadata": {
        "id": "wL3GSrDRbA00"
      },
      "execution_count": null,
      "outputs": []
    },
    {
      "cell_type": "code",
      "source": [
        "import matplotlib.pyplot as plt\n",
        "import pandas as pd\n",
        "\n",
        "# Create a new figure\n",
        "fig, ax = plt.subplots(nrows=1, ncols=2, figsize=(16, 6))\n",
        "\n",
        "# Boxplot\n",
        "df['DL_level'].plot(kind='box', ax=ax[0])\n",
        "ax[0].set_title('Boxplot of Digital Literacy Level')\n",
        "ax[0].set_xticklabels(['DL_level'])\n",
        "ax[0].set_ylabel('Level')\n",
        "ax[0].set_ylim([0, 7])  # Set y-axis limit for boxplot\n",
        "\n",
        "# Barplot\n",
        "counts = df['DL_level'].astype(str).value_counts().sort_index()\n",
        "# Reindex the data\n",
        "counts = counts.reindex([str(i) for i in range(1, 7)], fill_value=0)\n",
        "counts.plot(kind='bar', ax=ax[1])\n",
        "\n",
        "ax[1].set_title('Counts of Digital Literacy Level')\n",
        "ax[1].set_xlabel('Level')\n",
        "ax[1].set_ylabel('Counts')\n",
        "ax[1].set_ylim([0, 80])  # Set y-axis limit for barplot\n",
        "\n",
        "# save the plot as an image file with high dpi\n",
        "plt.savefig('selfassess.png', dpi=800)\n",
        "\n",
        "plt.tight_layout()\n",
        "plt.show()\n"
      ],
      "metadata": {
        "id": "DC_3htGDcNQN"
      },
      "execution_count": null,
      "outputs": []
    },
    {
      "cell_type": "code",
      "source": [
        "df.describe()"
      ],
      "metadata": {
        "id": "AmiHhac6dFTV"
      },
      "execution_count": null,
      "outputs": []
    },
    {
      "cell_type": "code",
      "source": [
        "import matplotlib.pyplot as plt\n",
        "\n",
        "# Create a new column 'group' based on the condition\n",
        "df['group'] = df['DL_level'].apply(lambda x: 'A' if x < 4 else 'B')\n",
        "\n",
        "# Create a new figure\n",
        "fig, ax = plt.subplots(nrows=1, ncols=2, figsize=(16, 6))\n",
        "\n",
        "# Pie chart\n",
        "group_counts = df['group'].value_counts()\n",
        "group_counts.plot(kind='pie', autopct='%1.1f%%', ax=ax[0], colors=['lightyellow', 'lightblue'])\n",
        "ax[0].set_title('Distribution of Groups')\n",
        "ax[0].set_ylabel('')  # Hide y-label\n",
        "\n",
        "# Barplot\n",
        "group_counts.plot(kind='bar', ax=ax[1], color=['lightyellow', 'lightblue'])\n",
        "ax[1].set_title('Counts of Groups')\n",
        "ax[1].set_xlabel('Group')\n",
        "ax[1].set_ylabel('Counts')\n",
        "\n",
        "# Add percent to barplot\n",
        "total = len(df)\n",
        "for i in range(len(group_counts)):\n",
        "    count = group_counts[i]\n",
        "    percentage = '{:.1f}%'.format(100 * count / total)\n",
        "    ax[1].text(i, count + 2, percentage, ha='center')\n",
        "\n",
        "plt.tight_layout()\n",
        "plt.show()\n"
      ],
      "metadata": {
        "id": "LHIdbrrBdO7q"
      },
      "execution_count": null,
      "outputs": []
    },
    {
      "cell_type": "code",
      "source": [
        "import matplotlib.pyplot as plt\n",
        "import seaborn as sns\n",
        "\n",
        "# Define 'group' in the DataFrame\n",
        "df['group'] = df['DL_level'].apply(lambda x: 'Below Average' if x < 4 else 'Above Average')\n",
        "\n",
        "# Get counts of 'group'\n",
        "group_counts = df['group'].value_counts()\n",
        "\n",
        "# Create a new figure\n",
        "fig, ax = plt.subplots(nrows=1, ncols=2, figsize=(16, 6))\n",
        "\n",
        "# Boxplot\n",
        "sns.boxplot(x='Major', y='DL_level', data=df, ax=ax[0])\n",
        "ax[0].set_title('Digital Literacy level by Major')\n",
        "ax[0].set_ylim([0, 7])  # Set y-limits\n",
        "ax[0].set_xlabel('Major')\n",
        "ax[0].set_ylabel('Digital Literacy levels')\n",
        "\n",
        "# Barplot\n",
        "group_counts.plot(kind='bar', ax=ax[1], color=['lightblue', 'orange'])\n",
        "ax[1].set_title('Counts of Digital Literacy level Categories')\n",
        "ax[1].set_xlabel('DL level Category')\n",
        "ax[1].set_ylabel('Counts')\n",
        "ax[1].set_ylim([0, 100])  # Set y-limits\n",
        "\n",
        "# Add percent to barplot\n",
        "total = len(df)\n",
        "for i in range(len(group_counts)):\n",
        "    count = group_counts[i]\n",
        "    percentage = '{:.1f}%'.format(100 * count / total)\n",
        "    ax[1].text(i, count + 2, percentage, ha='center')\n",
        "plt.xticks(rotation=0)\n",
        "\n",
        "plt.savefig('selfDL_2figures.png', dpi=800)\n",
        "\n",
        "plt.tight_layout()\n",
        "plt.show()\n"
      ],
      "metadata": {
        "id": "exYZITrtenYw"
      },
      "execution_count": null,
      "outputs": []
    },
    {
      "cell_type": "code",
      "source": [
        "import matplotlib.pyplot as plt\n",
        "import seaborn as sns\n",
        "\n",
        "# Define 'group' in the DataFrame\n",
        "df['group'] = df['DL_level'].apply(lambda x: 'Below Average' if x < 4 else 'Above Average')\n",
        "\n",
        "# Get counts of 'group'\n",
        "group_counts = df['group'].value_counts()\n",
        "\n",
        "# Create a new figure\n",
        "fig, ax = plt.subplots(nrows=1, ncols=2, figsize=(16, 6))\n",
        "\n",
        "# Violinplot\n",
        "sns.violinplot(x='Major', y='DL_level', data=df, ax=ax[0])\n",
        "ax[0].set_title('Distribution of DL level by Major')\n",
        "ax[0].set_ylim([0, 7])  # Set y-limits\n",
        "ax[0].set_xlabel('Major')\n",
        "ax[0].set_ylabel('DL level')\n",
        "\n",
        "# Barplot\n",
        "group_counts.plot(kind='bar', ax=ax[1], color=['orange', 'lightblue'])\n",
        "ax[1].set_title('Counts of DL level Categories')\n",
        "ax[1].set_xlabel('DL level Category')\n",
        "ax[1].set_ylabel('Counts')\n",
        "ax[1].set_ylim([0, 100])  # Set y-limits\n",
        "\n",
        "plt.xticks(rotation=0)\n",
        "\n",
        "plt.savefig('selfDL_2figures.png', dpi=800)\n",
        "\n",
        "# Add percent to barplot\n",
        "total = len(df)\n",
        "for i in range(len(group_counts)):\n",
        "    count = group_counts[i]\n",
        "    percentage = '{:.1f}%'.format(100 * count / total)\n",
        "    ax[1].text(i, count + 2, percentage, ha='center')\n",
        "\n",
        "plt.tight_layout()\n",
        "plt.show()\n"
      ],
      "metadata": {
        "id": "vzM9r_-xgTAO"
      },
      "execution_count": null,
      "outputs": []
    },
    {
      "cell_type": "code",
      "source": [
        "import matplotlib.pyplot as plt\n",
        "import seaborn as sns\n",
        "\n",
        "# Define 'group' in the DataFrame\n",
        "df['group'] = df['DL_level'].apply(lambda x: 'Below Average' if x < 4 else 'Above Average')\n",
        "\n",
        "# Get counts of 'group'\n",
        "group_counts = df['group'].value_counts()\n",
        "\n",
        "# Create a new figure\n",
        "fig, ax = plt.subplots(nrows=1, ncols=2, figsize=(16, 6))\n",
        "\n",
        "# Define colors for violinplot\n",
        "colors = ['lightblue', 'lightgreen']\n",
        "\n",
        "# Violinplot with colors\n",
        "sns.violinplot(x='Major', y='DL_level', data=df, palette=colors, ax=ax[0])\n",
        "ax[0].set_title('Distribution of DL level by Major')\n",
        "ax[0].set_ylim([0, 8])  # Set y-limits\n",
        "ax[0].set_xlabel('Major')\n",
        "ax[0].set_ylabel('DL level')\n",
        "\n",
        "# Barplot\n",
        "group_counts.plot(kind='bar', ax=ax[1], color=['lightgreen', 'lightblue'])\n",
        "ax[1].set_title('Counts of DL level Categories')\n",
        "ax[1].set_xlabel('DL level Category')\n",
        "ax[1].set_ylabel('Counts')\n",
        "ax[1].set_ylim([0, 100])  # Set y-limits\n",
        "\n",
        "# Add percent to barplot\n",
        "total = len(df)\n",
        "for i in range(len(group_counts)):\n",
        "    count = group_counts[i]\n",
        "    percentage = '{:.1f}%'.format(100 * count / total)\n",
        "    ax[1].text(i, count + 2, percentage, ha='center')\n",
        "\n",
        "plt.xticks(rotation=0)\n",
        "\n",
        "plt.savefig('selfDL_2figures.png', dpi=800)\n",
        "\n",
        "plt.tight_layout()\n",
        "plt.show()\n"
      ],
      "metadata": {
        "id": "tOlRWwxchz4e"
      },
      "execution_count": null,
      "outputs": []
    },
    {
      "cell_type": "markdown",
      "source": [
        "# Self-assessment: categorical"
      ],
      "metadata": {
        "id": "AIc96mXimLrB"
      }
    },
    {
      "cell_type": "code",
      "source": [
        "import matplotlib.pyplot as plt\n",
        "import seaborn as sns\n",
        "\n",
        "# Create a new figure\n",
        "fig, ax = plt.subplots(nrows=1, ncols=2, figsize=(16, 6))\n",
        "\n",
        "# Barplot of 'Current_DL'\n",
        "sns.countplot(x='Current_DL', data=df, ax=ax[0])\n",
        "ax[0].set_title('Count of Current_DL')\n",
        "ax[0].set_xlabel('Current_DL')\n",
        "ax[0].set_ylabel('Counts')\n",
        "ax[0].set_ylim([0, 100])  # set y limit to 100 for the first plot\n",
        "\n",
        "# Barplot of 'Current_DL' by 'Major'\n",
        "sns.countplot(x='Current_DL', hue='Major', data=df, ax=ax[1])\n",
        "ax[1].set_title('Count of Current_DL by Major')\n",
        "ax[1].set_xlabel('Current_DL')\n",
        "ax[1].set_ylabel('Counts')\n",
        "ax[1].set_ylim([0, 100])  # set y limit to 50 for the second plot\n",
        "\n",
        "plt.tight_layout()\n",
        "plt.show()\n"
      ],
      "metadata": {
        "id": "-L12EiDgltIz"
      },
      "execution_count": null,
      "outputs": []
    },
    {
      "cell_type": "code",
      "source": [
        "import matplotlib.pyplot as plt\n",
        "import seaborn as sns\n",
        "\n",
        "# Create a new figure\n",
        "fig, ax = plt.subplots(nrows=1, ncols=2, figsize=(16, 6))\n",
        "\n",
        "# Define a grayscale color palette\n",
        "gray_scale_colors = [\"#999999\", \"#666666\", \"#333333\"]\n",
        "\n",
        "# Barplot of 'Current_DL'\n",
        "sns.countplot(x='Current_DL', data=df, ax=ax[0], palette=gray_scale_colors)\n",
        "ax[0].set_title('Count of Current_DL')\n",
        "ax[0].set_xlabel('Current_DL')\n",
        "ax[0].set_ylabel('Counts')\n",
        "ax[0].set_ylim([0, 100])  # set y limit to 100 for the first plot\n",
        "\n",
        "# Barplot of 'Current_DL' by 'Major'\n",
        "sns.countplot(x='Current_DL', hue='Major', data=df, ax=ax[1])\n",
        "ax[1].set_title('Count of Current_DL by Major')\n",
        "ax[1].set_xlabel('Current_DL')\n",
        "ax[1].set_ylabel('Counts')\n",
        "ax[1].set_ylim([0, 100])  # set y limit to 50 for the second plot\n",
        "\n",
        "plt.tight_layout()\n",
        "plt.show()\n"
      ],
      "metadata": {
        "id": "_9vAKkCOnmIs"
      },
      "execution_count": null,
      "outputs": []
    },
    {
      "cell_type": "code",
      "source": [
        "import matplotlib.pyplot as plt\n",
        "import seaborn as sns\n",
        "\n",
        "fig, ax = plt.subplots(nrows=1, ncols=2, figsize=(16, 6))\n",
        "\n",
        "gray_scale_colors = [\"#999999\", \"#666666\", \"#333333\"]\n",
        "\n",
        "# Left plot\n",
        "sns.countplot(x='Current_DL', data=df, ax=ax[0], palette=gray_scale_colors)\n",
        "ax[0].set_title('Count of Current_DL')\n",
        "ax[0].set_xlabel('Current_DL')\n",
        "ax[0].set_ylabel('Counts')\n",
        "ax[0].set_ylim([0, 100])\n",
        "\n",
        "# Add percent text on the bars of left plot\n",
        "for p in ax[0].patches:\n",
        "    width = p.get_width()\n",
        "    height = p.get_height()\n",
        "    x, y = p.get_xy()\n",
        "    ax[0].annotate(f'{height/df.shape[0]:.0%}', (x + width/2, y + height*1.02), ha='center')\n",
        "\n",
        "# Right plot\n",
        "sns.countplot(x='Current_DL', hue='Major', data=df, ax=ax[1])\n",
        "ax[1].set_title('Count of Current_DL by Major')\n",
        "ax[1].set_xlabel('Current_DL')\n",
        "ax[1].set_ylabel('Counts')\n",
        "ax[1].set_ylim([0, 100])\n",
        "\n",
        "# Add percent text on the bars of right plot\n",
        "for p in ax[1].patches:\n",
        "    width = p.get_width()\n",
        "    height = p.get_height()\n",
        "    x, y = p.get_xy()\n",
        "    ax[1].annotate(f'{height/df.shape[0]:.0%}', (x + width/2, y + height*1.02), ha='center')\n",
        "\n",
        "plt.xticks(rotation=0)\n",
        "plt.savefig('selfDL_Cat_2figures.png', dpi=1000)\n",
        "\n",
        "plt.tight_layout()\n",
        "plt.show()\n"
      ],
      "metadata": {
        "id": "xunS1i_4oGLx"
      },
      "execution_count": null,
      "outputs": []
    },
    {
      "cell_type": "markdown",
      "source": [
        "# 3. Coding and language"
      ],
      "metadata": {
        "id": "BEi63RYqptXO"
      }
    },
    {
      "cell_type": "code",
      "source": [
        "import matplotlib.pyplot as plt\n",
        "import pandas as pd\n",
        "\n",
        "# Create a new figure\n",
        "fig, ax = plt.subplots(nrows=1, ncols=2, figsize=(16, 6))\n",
        "\n",
        "# Boxplot\n",
        "df['Coding_LG'].plot(kind='box', ax=ax[0])\n",
        "ax[0].set_title('Boxplot of Coding and Language education')\n",
        "# ax[0].set_xticklabels(['DL_level'])\n",
        "ax[0].set_ylabel('Agreement')\n",
        "ax[0].set_ylim([0, 7])  # Set y-axis limit for boxplot\n",
        "\n",
        "# Barplot\n",
        "counts = df['Coding_LG'].astype(str).value_counts().sort_index()\n",
        "# Reindex the data\n",
        "counts = counts.reindex([str(i) for i in range(1, 8)], fill_value=0)\n",
        "counts.plot(kind='bar', ax=ax[1])\n",
        "\n",
        "ax[1].set_title('Counts of Coding & Language Education')\n",
        "ax[1].set_xlabel('Agreementl')\n",
        "ax[1].set_ylabel('Counts')\n",
        "ax[1].set_ylim([0, 80])  # Set y-axis limit for barplot\n",
        "\n",
        "# save the plot as an image file with high dpi\n",
        "plt.savefig('Coding_LG.png', dpi=800)\n",
        "\n",
        "plt.tight_layout()\n",
        "plt.show()\n"
      ],
      "metadata": {
        "id": "fmkFYa97pwmU"
      },
      "execution_count": null,
      "outputs": []
    },
    {
      "cell_type": "code",
      "source": [
        "import matplotlib.pyplot as plt\n",
        "import pandas as pd\n",
        "\n",
        "# Create a new figure\n",
        "fig, ax = plt.subplots(nrows=1, ncols=2, figsize=(16, 6))\n",
        "\n",
        "# Boxplot\n",
        "df['Coding_LG'].plot(kind='box', ax=ax[0])\n",
        "ax[0].set_title('Boxplot of Coding and Language education')\n",
        "ax[0].set_ylabel('Agreement')\n",
        "ax[0].set_ylim([0, 7])  # Set y-axis limit for boxplot\n",
        "\n",
        "# Add median line\n",
        "median_value = df['Coding_LG'].median()\n",
        "ax[0].axhline(median_value, color='red', linestyle='--', label='Median')\n",
        "\n",
        "# Add mean point\n",
        "mean_value = df['Coding_LG'].mean()\n",
        "ax[0].plot(1, mean_value, marker='o', markersize=10, color='blue', label='Mean')\n",
        "\n",
        "ax[0].legend()  # Show legend\n",
        "\n",
        "# Barplot\n",
        "counts = df['Coding_LG'].astype(str).value_counts().sort_index()\n",
        "# Reindex the data\n",
        "counts = counts.reindex([str(i) for i in range(1, 8)], fill_value=0)\n",
        "counts.plot(kind='bar', ax=ax[1])\n",
        "\n",
        "ax[1].set_title('Counts of Coding & Language Education')\n",
        "ax[1].set_xlabel('Agreement')\n",
        "ax[1].set_ylabel('Counts')\n",
        "ax[1].set_ylim([0, 80])  # Set y-axis limit for barplot\n",
        "\n",
        "# save the plot as an image file with high dpi\n",
        "plt.savefig('Coding_LG.png', dpi=800)\n",
        "\n",
        "plt.tight_layout()\n",
        "plt.show()\n"
      ],
      "metadata": {
        "id": "h66KIxU5tFus"
      },
      "execution_count": null,
      "outputs": []
    }
  ]
}