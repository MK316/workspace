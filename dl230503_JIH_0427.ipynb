{
  "nbformat": 4,
  "nbformat_minor": 0,
  "metadata": {
    "colab": {
      "provenance": [],
      "authorship_tag": "ABX9TyMOALDdD4VF/Qop9mpKK3Go",
      "include_colab_link": true
    },
    "kernelspec": {
      "name": "python3",
      "display_name": "Python 3"
    },
    "language_info": {
      "name": "python"
    }
  },
  "cells": [
    {
      "cell_type": "markdown",
      "metadata": {
        "id": "view-in-github",
        "colab_type": "text"
      },
      "source": [
        "<a href=\"https://colab.research.google.com/github/MK316/workspace/blob/main/dl230503_JIH_0427.ipynb\" target=\"_parent\"><img src=\"https://colab.research.google.com/assets/colab-badge.svg\" alt=\"Open In Colab\"/></a>"
      ]
    },
    {
      "cell_type": "markdown",
      "source": [
        "# 🌀**Part I: Coding in Colab (20 questions, 30 points)**"
      ],
      "metadata": {
        "id": "uG7ryUj1vrAd"
      }
    },
    {
      "cell_type": "code",
      "source": [
        "yourname = input(\"Type your name here: \")"
      ],
      "metadata": {
        "id": "Navu6pa1HRUo",
        "outputId": "25a11dbd-b49c-4827-ce94-73dca2069c10",
        "colab": {
          "base_uri": "https://localhost:8080/",
          "height": 0
        }
      },
      "execution_count": 1,
      "outputs": [
        {
          "name": "stdout",
          "output_type": "stream",
          "text": [
            "Type your name here: 정인혜\n"
          ]
        }
      ]
    },
    {
      "cell_type": "markdown",
      "source": [
        "---\n",
        "##**Instructions**\n",
        "\n",
        "+ Q1~13 (1 point each * 13 = 13)\n",
        "+ Q14~Q20 (2 points each * 7 = 14)\n",
        "+ Q21 (3 points)\n",
        "\n",
        "Total 30 points\n",
        "\n",
        "When times up, save this copy to your github repository with the following file name format:\n",
        "\n",
        "##**DLMid_yourid.ipynb**\n",
        "---"
      ],
      "metadata": {
        "id": "Nvk-6cX5vzGf"
      }
    },
    {
      "cell_type": "markdown",
      "source": [
        "##Q1. Create a list called fruits and add three of your favorite fruits to it. Then, print the list."
      ],
      "metadata": {
        "id": "f_6UoScV9Egz"
      }
    },
    {
      "cell_type": "code",
      "source": [
        "fruits=[\"orange\",\"banana\",\"apple\"]\n",
        "print(fruits)"
      ],
      "metadata": {
        "id": "7pvq2ocQ9F5z",
        "outputId": "80db4e37-cc37-49e3-f148-4f724d8d8ad0",
        "colab": {
          "base_uri": "https://localhost:8080/",
          "height": 0
        }
      },
      "execution_count": 3,
      "outputs": [
        {
          "output_type": "stream",
          "name": "stdout",
          "text": [
            "['orange', 'banana', 'apple']\n"
          ]
        }
      ]
    },
    {
      "cell_type": "markdown",
      "source": [
        "##Q2. Create a variable called **_name_** and ask the user to enter their name. Then, print a message that says \"Hello, [name]!\"."
      ],
      "metadata": {
        "id": "PcXue4xzv-Yw"
      }
    },
    {
      "cell_type": "code",
      "source": [
        "name=input(\"What is your name?\")\n",
        "print(\"Hello,\"+\"[\"+name+\"]!\")"
      ],
      "metadata": {
        "id": "giTXfqgOwC0O",
        "outputId": "a7965b45-3192-4f29-a3e7-608f5b7264f4",
        "colab": {
          "base_uri": "https://localhost:8080/",
          "height": 0
        }
      },
      "execution_count": 5,
      "outputs": [
        {
          "output_type": "stream",
          "name": "stdout",
          "text": [
            "What is your name?inhye\n",
            "Hello,[inhye]!\n"
          ]
        }
      ]
    },
    {
      "cell_type": "markdown",
      "source": [
        "##Q3. Create a variable called **_age_** and ask the user to enter their age. Then, print a message that says \"You are [age] years old\"."
      ],
      "metadata": {
        "id": "AePeo9Xj81Lq"
      }
    },
    {
      "cell_type": "code",
      "source": [
        "age=input(\"How old are you?\")\n",
        "print(\"You are \"+\"[\"+age+\"] years old.\")"
      ],
      "metadata": {
        "id": "-uZrFNqJ8-P1",
        "outputId": "b184a98d-76fa-4a4a-839f-6a5989f4cd57",
        "colab": {
          "base_uri": "https://localhost:8080/",
          "height": 0
        }
      },
      "execution_count": 7,
      "outputs": [
        {
          "output_type": "stream",
          "name": "stdout",
          "text": [
            "How old are you?20\n",
            "You are [20] years old.\n"
          ]
        }
      ]
    },
    {
      "cell_type": "markdown",
      "source": [
        "##Q4. Create a dictionary called **_person_** with keys name, age, and ID. Set the values to your own name, age, and address. Then, print the dictionary."
      ],
      "metadata": {
        "id": "em_AuOW78-p2"
      }
    },
    {
      "cell_type": "code",
      "source": [
        "person={\"name\":\"Inhye Jeong\",\"age\":\"28\",\"ID\":\"2022080243\"}\n",
        "print(person)"
      ],
      "metadata": {
        "id": "RLK7p5Q49cV0",
        "outputId": "7a206a13-20ac-4ca7-b60e-cd6329906b7f",
        "colab": {
          "base_uri": "https://localhost:8080/",
          "height": 0
        }
      },
      "execution_count": 9,
      "outputs": [
        {
          "output_type": "stream",
          "name": "stdout",
          "text": [
            "{'name': 'Inhye Jeong', 'age': '28', 'ID': '2022080243'}\n"
          ]
        }
      ]
    },
    {
      "cell_type": "markdown",
      "source": [
        "##Q5. Create a variable called **_num1_** and set it to 5. Create another variable called **_num2_** and set it to 10. Add num1 and num2 together and print the result."
      ],
      "metadata": {
        "id": "d7JQrF_W9b0_"
      }
    },
    {
      "cell_type": "code",
      "source": [
        "num1=5\n",
        "num2=10\n",
        "print(num1+num2)"
      ],
      "metadata": {
        "id": "tnZxKJ5D9veI",
        "outputId": "33464657-a9b4-4143-b8c8-3bcf29ceaaf4",
        "colab": {
          "base_uri": "https://localhost:8080/",
          "height": 0
        }
      },
      "execution_count": 10,
      "outputs": [
        {
          "output_type": "stream",
          "name": "stdout",
          "text": [
            "15\n"
          ]
        }
      ]
    },
    {
      "cell_type": "markdown",
      "source": [
        "##Q6. Create a variable called **_num3_** and set it to 3. Create another variable called **_num4_** and set it to 2. Divide num3 by num4 and print the result."
      ],
      "metadata": {
        "id": "-i5804vz9U5q"
      }
    },
    {
      "cell_type": "code",
      "source": [
        "num3=3\n",
        "num4=2\n",
        "print(num3/num4)"
      ],
      "metadata": {
        "id": "jzdLu_QG9-wY",
        "outputId": "1f9419d7-7d96-4c9e-933f-0f73e52597bd",
        "colab": {
          "base_uri": "https://localhost:8080/",
          "height": 0
        }
      },
      "execution_count": 13,
      "outputs": [
        {
          "output_type": "stream",
          "name": "stdout",
          "text": [
            "1.5\n"
          ]
        }
      ]
    },
    {
      "cell_type": "markdown",
      "source": [
        "##Q7. Create a variable called **_sentence_** and set it to \"The quick brown fox jumps over the lazy dog\". Use the **split()** function to split the sentence into a list of words. Then, print the list."
      ],
      "metadata": {
        "id": "5s5sjEco9_CM"
      }
    },
    {
      "cell_type": "code",
      "source": [
        "sentence=\"The quick brown fox jumps over the lazy dog\"\n",
        "word_list=sentence.split()\n",
        "print(word_list)"
      ],
      "metadata": {
        "id": "RD4gaQKe-KO-",
        "outputId": "40b1150d-9048-438a-9efa-ac51829365de",
        "colab": {
          "base_uri": "https://localhost:8080/",
          "height": 0
        }
      },
      "execution_count": 14,
      "outputs": [
        {
          "output_type": "stream",
          "name": "stdout",
          "text": [
            "['The', 'quick', 'brown', 'fox', 'jumps', 'over', 'the', 'lazy', 'dog']\n"
          ]
        }
      ]
    },
    {
      "cell_type": "markdown",
      "source": [
        "##Q8. Create a list called **_colors_** and add three of your favorite colors to it. Use the **join()** function to join the list into a string separated by commas. Then, print the string."
      ],
      "metadata": {
        "id": "LB1OOu5--LEJ"
      }
    },
    {
      "cell_type": "code",
      "source": [
        "colors=[\"Red\",\"Black\",\"Yellow\"]\n",
        "','.join(colors)"
      ],
      "metadata": {
        "id": "R885XASr-Ttn",
        "outputId": "1477edb4-fa3d-4e22-c1b4-52dbd8e024c4",
        "colab": {
          "base_uri": "https://localhost:8080/",
          "height": 35
        }
      },
      "execution_count": 17,
      "outputs": [
        {
          "output_type": "execute_result",
          "data": {
            "text/plain": [
              "'Red,Black,Yellow'"
            ],
            "application/vnd.google.colaboratory.intrinsic+json": {
              "type": "string"
            }
          },
          "metadata": {},
          "execution_count": 17
        }
      ]
    },
    {
      "cell_type": "markdown",
      "source": [
        "##Q9. Create a variable called **_number_** and set it to 5. Use the **str()** function to convert the number to a string. Then, print number + 7"
      ],
      "metadata": {
        "id": "dAI5abTF-UBn"
      }
    },
    {
      "cell_type": "code",
      "source": [
        "number=5\n",
        "number=str(number)\n",
        "print(number + \"7\")"
      ],
      "metadata": {
        "id": "JBBLWa8U-y60",
        "outputId": "01e58a00-3870-4ca7-8684-48b46771759e",
        "colab": {
          "base_uri": "https://localhost:8080/",
          "height": 0
        }
      },
      "execution_count": 22,
      "outputs": [
        {
          "output_type": "stream",
          "name": "stdout",
          "text": [
            "57\n"
          ]
        }
      ]
    },
    {
      "cell_type": "markdown",
      "source": [
        "##Q10. Create a variable called **_my_string_** and set it to \"Hello, world!\". Use the index() function to find the index of the letter \"w\" in the string. Then, print the index."
      ],
      "metadata": {
        "id": "p7l0HIDq-zJR"
      }
    },
    {
      "cell_type": "code",
      "source": [
        "my_string=\"Hello, world!\"\n",
        "print(my_string[7])\n"
      ],
      "metadata": {
        "id": "EQCj1EFc_wVi",
        "outputId": "0dce020a-da16-4529-ebce-4148efaab4b2",
        "colab": {
          "base_uri": "https://localhost:8080/",
          "height": 0
        }
      },
      "execution_count": 72,
      "outputs": [
        {
          "output_type": "stream",
          "name": "stdout",
          "text": [
            "w\n"
          ]
        }
      ]
    },
    {
      "cell_type": "markdown",
      "source": [
        "##Q11. Create a variable called **_my_list_** and set it to [1, 2, 3, 4, 5]. Use the len() function to find the length of the list. Then, print the length."
      ],
      "metadata": {
        "id": "3cQvEKzw_xGG"
      }
    },
    {
      "cell_type": "code",
      "source": [
        "my_list=[1,2,3,4,5]\n",
        "length=len(my_list)\n",
        "print(length)"
      ],
      "metadata": {
        "id": "XWNin3P8_5N6",
        "outputId": "0d008357-59f0-4a9e-f374-cb36c78ce325",
        "colab": {
          "base_uri": "https://localhost:8080/",
          "height": 0
        }
      },
      "execution_count": 37,
      "outputs": [
        {
          "output_type": "stream",
          "name": "stdout",
          "text": [
            "5\n"
          ]
        }
      ]
    },
    {
      "cell_type": "markdown",
      "source": [
        "##Q12. Create a variable called **_my_string_** and set it to \"Hello, world!\". Use slicing to print the first 5 characters of the string."
      ],
      "metadata": {
        "id": "x1wsjbhI_5oA"
      }
    },
    {
      "cell_type": "code",
      "source": [
        "my_string=\"Hello, world!\""
      ],
      "metadata": {
        "id": "xw4BY9wJAFzc"
      },
      "execution_count": 39,
      "outputs": []
    },
    {
      "cell_type": "markdown",
      "source": [
        "##Q13. Create a list called **_numbers_**. Using the random.randint() function, add five random integers to it. Then, print the list. \n",
        "\n",
        "**Note:** You should not write the random number on your own. The code should take the random number and add it to your list."
      ],
      "metadata": {
        "id": "MkzTNSRBAGTM"
      }
    },
    {
      "cell_type": "code",
      "source": [
        "import random\n",
        "random.randint(1:5)\n",
        "\n"
      ],
      "metadata": {
        "id": "eDwWJE0TAP0u",
        "outputId": "6972d94a-4b90-4939-9bb2-781f4cc9b14b",
        "colab": {
          "base_uri": "https://localhost:8080/",
          "height": 136
        }
      },
      "execution_count": 103,
      "outputs": [
        {
          "output_type": "error",
          "ename": "SyntaxError",
          "evalue": "ignored",
          "traceback": [
            "\u001b[0;36m  File \u001b[0;32m\"<ipython-input-103-497ac88b99a3>\"\u001b[0;36m, line \u001b[0;32m2\u001b[0m\n\u001b[0;31m    random.randint(1:5)\u001b[0m\n\u001b[0m                    ^\u001b[0m\n\u001b[0;31mSyntaxError\u001b[0m\u001b[0;31m:\u001b[0m invalid syntax\n"
          ]
        }
      ]
    },
    {
      "cell_type": "markdown",
      "source": [
        "##Q14. [1] Create a list of your favorite colors called **color_list** with at least three colors. [2] Use a **for loop** to iterate through the list and print each color."
      ],
      "metadata": {
        "id": "Bzfbrkc5A7KS"
      }
    },
    {
      "cell_type": "code",
      "source": [
        "color_list = [\"Red\", \"Black\", \"Yellow\"]\n",
        "\n",
        "for i in color_list :\n",
        "  print(i)"
      ],
      "metadata": {
        "id": "xAAf0Ez6BXII",
        "outputId": "12af8b45-c37f-4712-ba94-2b31ad3912d7",
        "colab": {
          "base_uri": "https://localhost:8080/",
          "height": 0
        }
      },
      "execution_count": 52,
      "outputs": [
        {
          "output_type": "stream",
          "name": "stdout",
          "text": [
            "Red\n",
            "Black\n",
            "Yellow\n"
          ]
        }
      ]
    },
    {
      "cell_type": "markdown",
      "source": [
        "## Q15. Create a list of your favorite foods called **food_list** with at least three foods. Use a **for loop** to iterate through the list and print each food in uppercase letters."
      ],
      "metadata": {
        "id": "PBeXyJjdBXjq"
      }
    },
    {
      "cell_type": "code",
      "source": [
        "food_list = [\"Chicken\",\"Salad\",\"Sushi\"]\n",
        "\n",
        "for s in food_list :\n",
        "  uppercase_text=s.upper()\n",
        "  print(uppercase_text)"
      ],
      "metadata": {
        "id": "x7Ci5q0pBkui",
        "outputId": "d885a0c8-b33c-48a9-e057-9f188b5f25c8",
        "colab": {
          "base_uri": "https://localhost:8080/",
          "height": 0
        }
      },
      "execution_count": 56,
      "outputs": [
        {
          "output_type": "stream",
          "name": "stdout",
          "text": [
            "CHICKEN\n",
            "SALAD\n",
            "SUSHI\n"
          ]
        }
      ]
    },
    {
      "cell_type": "markdown",
      "source": [
        "##Q16.Create a list of your favorite animals called **animal_list** with at least three animals. Use a **for loop** to iterate through the list and print each animal, along with a message saying \"I love [animal]!\"\n",
        "\n"
      ],
      "metadata": {
        "id": "2l_4Ae3uBnQ0"
      }
    },
    {
      "cell_type": "code",
      "source": [
        "animal_list = [\"dog\",\"rabbit\",\"whale\"]\n",
        "\n",
        "for ii in animal_list :\n",
        "  sentence=\"I love [\"+ii+\"]!\"\n",
        "  print(sentence)\n"
      ],
      "metadata": {
        "id": "RWBlkXMqB6py",
        "outputId": "76852d12-7b2f-4b2a-c63b-5ea0fb80c875",
        "colab": {
          "base_uri": "https://localhost:8080/",
          "height": 0
        }
      },
      "execution_count": 58,
      "outputs": [
        {
          "output_type": "stream",
          "name": "stdout",
          "text": [
            "I love [dog]!\n",
            "I love [rabbit]!\n",
            "I love [whale]!\n"
          ]
        }
      ]
    },
    {
      "cell_type": "markdown",
      "source": [
        "##Q17. The following code should create a list of numbers from 1 to 5 and print the sum of the numbers, but there is an error. Identify and fix the error so that the code runs with no error.\n",
        "\n"
      ],
      "metadata": {
        "id": "YzWHkQmPCr4p"
      }
    },
    {
      "cell_type": "code",
      "source": [
        "my_list = [1, 2, 3, 4, 5]\n",
        "total = int(sum(my_list))\n",
        "total = int(total)\n",
        "type(total)\n",
        "print(\"The sum is:\", total)"
      ],
      "metadata": {
        "id": "wKMgVa5FDmdm",
        "outputId": "b7e8da14-956f-4ca3-e181-5ff84f3700a0",
        "colab": {
          "base_uri": "https://localhost:8080/",
          "height": 0
        }
      },
      "execution_count": 66,
      "outputs": [
        {
          "output_type": "stream",
          "name": "stdout",
          "text": [
            "The sum is: 15\n"
          ]
        }
      ]
    },
    {
      "cell_type": "markdown",
      "source": [
        "##Q18. The following code should create a dictionary of fruit names and their corresponding colors, and then print the color of the fruit \"banana\", but there is an error. Identify and fix the error so that the code runs with no error."
      ],
      "metadata": {
        "id": "pMFKmV7YD1dA"
      }
    },
    {
      "cell_type": "code",
      "source": [
        "fruit_dict = {'apple': 'red', 'banana': 'yellow', 'orange': 'orange'}\n",
        "print(fruit_dict['banana'])"
      ],
      "metadata": {
        "id": "NCluyxSSD4QU",
        "outputId": "d08e3488-e3b2-455b-ce82-640993f27020",
        "colab": {
          "base_uri": "https://localhost:8080/",
          "height": 0
        }
      },
      "execution_count": 68,
      "outputs": [
        {
          "output_type": "stream",
          "name": "stdout",
          "text": [
            "yellow\n"
          ]
        }
      ]
    },
    {
      "cell_type": "markdown",
      "source": [
        "## Q19. Read the code below and identify the error. Then, fix the error so that the program outputs the fourth item (i.e., 'grape') in the list."
      ],
      "metadata": {
        "id": "89SBCwZH2AmN"
      }
    },
    {
      "cell_type": "code",
      "source": [
        "fruit = [\"apple\", \"banana\", \"orange\", \"grape\"]\n",
        "print(fruit[3])"
      ],
      "metadata": {
        "id": "QFkH3Crf1_-c",
        "outputId": "bed7a7d5-4588-401e-b151-d0a94a8eb4cd",
        "colab": {
          "base_uri": "https://localhost:8080/",
          "height": 0
        }
      },
      "execution_count": 69,
      "outputs": [
        {
          "output_type": "stream",
          "name": "stdout",
          "text": [
            "grape\n"
          ]
        }
      ]
    },
    {
      "cell_type": "markdown",
      "source": [
        "##Q19. The following code should create a string containing the words \"apple\", \"banana\", and \"orange\" separated by commas. Split the string into a list of the individual words, so that the output becomes [\"apple\", \"banana\", \"orange\"] and not [\"apple,banana,orange\"]."
      ],
      "metadata": {
        "id": "cqhaBl5yD_Zb"
      }
    },
    {
      "cell_type": "code",
      "source": [
        "my_string = \"apple,banana,orange\"\n",
        "my_list = my_string.split(\",\")\n",
        "print(my_list)"
      ],
      "metadata": {
        "id": "SsjNp-jUEC3t",
        "outputId": "d3bf07cf-4578-45a1-f6cf-bccbbee8bacd",
        "colab": {
          "base_uri": "https://localhost:8080/",
          "height": 0
        }
      },
      "execution_count": 73,
      "outputs": [
        {
          "output_type": "stream",
          "name": "stdout",
          "text": [
            "['apple', 'banana', 'orange']\n"
          ]
        }
      ]
    },
    {
      "cell_type": "markdown",
      "source": [
        "##Q20. Create a language application that changes a declarative sentence to an imperative sentence. Test the app with the following sentences: \n",
        "\n",
        "1. \"You take your seat.\" > (output) Take your seat!\n",
        "2. \"You bring your book.\" > (output) Bring your book!\n",
        "\n",
        "Step1. Start with the first sentence, and get the output ('Take your seat!')\n",
        "Step2. Make another code cell and make a user interactive app using input(). Here you should be able to get the output of the second sentence when the user type the second sentence."
      ],
      "metadata": {
        "id": "uHHgSSliE8o8"
      }
    },
    {
      "cell_type": "code",
      "source": [
        "s = \"You take your seat.\"\n",
        "s1=s.split()\n",
        "a1=s1[0]\n",
        "a2=s1[1]\n",
        "a3=s1[2]\n",
        "a4=s1[3]\n",
        "nw=a2[0].upper()+ a2[1:].lower()\n",
        "a5=a4[:-1]\n",
        "print(nw+\" \"+a3+\" \"+a5+\"!\")\n",
        "\n",
        "\n",
        "\n"
      ],
      "metadata": {
        "id": "rQlNj2QqFlT_",
        "outputId": "faeec484-dbb4-42d0-e093-ba28554230c5",
        "colab": {
          "base_uri": "https://localhost:8080/",
          "height": 0
        }
      },
      "execution_count": 84,
      "outputs": [
        {
          "output_type": "stream",
          "name": "stdout",
          "text": [
            "Take your seat!\n"
          ]
        }
      ]
    },
    {
      "cell_type": "code",
      "source": [
        "s = input(\"Write a declarative sentence: \")\n",
        "s1=s.split()\n",
        "a1=s1[0]\n",
        "a2=s1[1]\n",
        "a3=s1[2]\n",
        "a4=s1[3]\n",
        "nw=a2[0].upper()+ a2[1:].lower()\n",
        "a5=a4[:-1]\n",
        "print(nw+\" \"+a3+\" \"+a5+\"!\")\n",
        "\n",
        "\n",
        "\n"
      ],
      "metadata": {
        "colab": {
          "base_uri": "https://localhost:8080/",
          "height": 0
        },
        "id": "OPX8_wf8ywIJ",
        "outputId": "5df64eb2-1081-46b6-d330-a1595d6747bf"
      },
      "execution_count": 89,
      "outputs": [
        {
          "output_type": "stream",
          "name": "stdout",
          "text": [
            "Write a declarative sentence: You bring your book.\n",
            "Bring your book!\n"
          ]
        }
      ]
    },
    {
      "cell_type": "markdown",
      "source": [
        "---\n",
        "# 📌Submission: 2 submissions\n",
        "\n",
        "[1] pdf submission (File > Print > pdf print), save pdf on the desktop, get it ready to upload your file to the google form below. \n",
        "+ File name: DL_yourid.pdf\n",
        "\n",
        "[2] Save this file in your github repository. \n",
        "+ File name: DLMid_yourid.ipynb"
      ],
      "metadata": {
        "id": "Pr37pv-b2wu-"
      }
    },
    {
      "cell_type": "markdown",
      "source": [
        "# 🌀 **Part II: Using a Google form (30 questions, 30 points)**\n",
        "\n",
        "[Click here to start](https://forms.gle/eidnsEzd4VkRXC4i7)\n"
      ],
      "metadata": {
        "id": "y8Uj1W9w4p-f"
      }
    }
  ]
}