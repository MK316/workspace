{
  "nbformat": 4,
  "nbformat_minor": 0,
  "metadata": {
    "colab": {
      "provenance": [],
      "authorship_tag": "ABX9TyMluAe7xn6QKgUYaSHWThfk",
      "include_colab_link": true
    },
    "kernelspec": {
      "name": "python3",
      "display_name": "Python 3"
    },
    "language_info": {
      "name": "python"
    }
  },
  "cells": [
    {
      "cell_type": "markdown",
      "metadata": {
        "id": "view-in-github",
        "colab_type": "text"
      },
      "source": [
        "<a href=\"https://colab.research.google.com/github/MK316/workspace/blob/main/DL_survey23.ipynb\" target=\"_parent\"><img src=\"https://colab.research.google.com/assets/colab-badge.svg\" alt=\"Open In Colab\"/></a>"
      ]
    },
    {
      "cell_type": "markdown",
      "source": [
        "# 🐳Digital Literacy Survey\n",
        "\n",
        "Contact email: mirankim@gnu.ac.kr (055-772-2191)\n",
        "\n",
        "+ This survey is being conducted to research improvements and directions for the class. \n",
        "+ The survey results will not be used for any purpose other than education and research. \n",
        "+ All survey results will be used anonymously. \n",
        "+ Please **indicate your consent** for the use of the survey results by providing **your last name + the last 4 digits of your student ID in the Survey form.** (If you do not consent, Please enter 0000.   the student ID field blank.)"
      ],
      "metadata": {
        "id": "faliAS1I9BDj"
      }
    },
    {
      "cell_type": "markdown",
      "source": [
        "## 🔎 Survey link: Click [here](https://docs.google.com/forms/d/1aacQVe73CEXr6uJr0jANDEV4Wv0kyaLVDVaEom4UQF4/edit)"
      ],
      "metadata": {
        "id": "79hf7lcv-BLU"
      }
    },
    {
      "cell_type": "markdown",
      "source": [
        "## 🔎 Or run the code below to get QR code linked to the survey."
      ],
      "metadata": {
        "id": "NvxkmlgW96ia"
      }
    },
    {
      "cell_type": "code",
      "execution_count": 1,
      "metadata": {
        "colab": {
          "base_uri": "https://localhost:8080/",
          "height": 831
        },
        "cellView": "form",
        "id": "vYNr83iB9Ak_",
        "outputId": "f0e14ba1-013a-4994-e925-60de336d721a"
      },
      "outputs": [
        {
          "output_type": "stream",
          "name": "stdout",
          "text": [
            "Looking in indexes: https://pypi.org/simple, https://us-python.pkg.dev/colab-wheels/public/simple/\n",
            "Collecting pyqrcode\n",
            "  Downloading PyQRCode-1.2.1.zip (41 kB)\n",
            "\u001b[2K     \u001b[90m━━━━━━━━━━━━━━━━━━━━━━━━━━━━━━━━━━━━━━━━\u001b[0m \u001b[32m41.9/41.9 kB\u001b[0m \u001b[31m1.2 MB/s\u001b[0m eta \u001b[36m0:00:00\u001b[0m\n",
            "\u001b[?25h  Preparing metadata (setup.py) ... \u001b[?25l\u001b[?25hdone\n",
            "Building wheels for collected packages: pyqrcode\n",
            "  Building wheel for pyqrcode (setup.py) ... \u001b[?25l\u001b[?25hdone\n",
            "  Created wheel for pyqrcode: filename=PyQRCode-1.2.1-py3-none-any.whl size=36241 sha256=ca6b889bb8314685cd407ffcc48be552b67cdcbcc4cf22315e6ea790a0ceab47\n",
            "  Stored in directory: /root/.cache/pip/wheels/da/75/c0/38c7f82750de2725429b6b8571dca254249d73f6c882c5d9b1\n",
            "Successfully built pyqrcode\n",
            "Installing collected packages: pyqrcode\n",
            "Successfully installed pyqrcode-1.2.1\n"
          ]
        },
        {
          "output_type": "display_data",
          "data": {
            "text/plain": [
              "<IPython.core.display.SVG object>"
            ],
            "image/svg+xml": "<svg xmlns=\"http://www.w3.org/2000/svg\" height=\"570\" width=\"570\" class=\"pyqrcode\"><path transform=\"scale(10)\" stroke=\"#000\" class=\"pyqrline\" d=\"M4 4.5h7m2 0h1m2 0h1m1 0h2m1 0h2m1 0h2m1 0h1m1 0h1m6 0h1m1 0h1m2 0h1m2 0h1m1 0h7m-49 1h1m5 0h1m1 0h4m2 0h4m2 0h6m2 0h1m1 0h2m2 0h7m1 0h1m5 0h1m-49 1h1m1 0h3m1 0h1m1 0h2m2 0h2m2 0h1m1 0h1m1 0h4m1 0h1m5 0h2m1 0h2m1 0h1m1 0h2m1 0h1m1 0h3m1 0h1m-49 1h1m1 0h3m1 0h1m1 0h7m1 0h1m1 0h1m1 0h2m1 0h3m2 0h1m1 0h3m1 0h2m1 0h1m1 0h1m2 0h1m1 0h3m1 0h1m-49 1h1m1 0h3m1 0h1m1 0h1m6 0h2m3 0h7m1 0h5m1 0h1m7 0h1m1 0h3m1 0h1m-49 1h1m5 0h1m1 0h2m1 0h1m2 0h2m3 0h4m3 0h2m2 0h2m2 0h3m1 0h1m3 0h1m5 0h1m-49 1h7m1 0h1m1 0h1m1 0h1m1 0h1m1 0h1m1 0h1m1 0h1m1 0h1m1 0h1m1 0h1m1 0h1m1 0h1m1 0h1m1 0h1m1 0h1m1 0h1m1 0h1m1 0h7m-40 1h3m2 0h4m2 0h1m1 0h1m3 0h3m1 0h1m1 0h1m2 0h2m1 0h1m-37 1h1m2 0h5m1 0h2m1 0h1m1 0h3m2 0h6m2 0h4m1 0h1m1 0h2m1 0h1m1 0h1m1 0h5m-46 1h2m1 0h1m2 0h1m5 0h3m2 0h2m2 0h1m1 0h1m3 0h1m1 0h3m1 0h1m1 0h1m1 0h1m4 0h2m-46 1h3m1 0h4m2 0h1m1 0h5m4 0h1m1 0h2m1 0h3m1 0h6m3 0h1m3 0h3m2 0h1m-49 1h1m1 0h2m1 0h1m2 0h1m1 0h3m1 0h1m1 0h3m1 0h1m3 0h1m3 0h1m1 0h4m4 0h4m2 0h1m2 0h2m-47 1h6m1 0h2m2 0h1m2 0h1m1 0h1m3 0h1m1 0h5m1 0h5m1 0h1m1 0h2m1 0h1m1 0h2m2 0h2m-48 1h2m2 0h1m1 0h2m2 0h1m1 0h2m1 0h1m2 0h1m1 0h1m2 0h2m1 0h1m3 0h3m2 0h2m7 0h4m-48 1h2m1 0h1m1 0h3m4 0h2m2 0h2m1 0h1m3 0h1m3 0h3m1 0h1m1 0h1m1 0h2m1 0h1m4 0h1m1 0h1m1 0h1m-49 1h4m1 0h1m3 0h1m1 0h1m3 0h1m3 0h2m2 0h1m6 0h2m1 0h1m3 0h2m1 0h1m3 0h1m2 0h1m-46 1h1m1 0h4m3 0h1m6 0h1m1 0h1m3 0h1m3 0h2m3 0h2m1 0h1m2 0h1m2 0h1m1 0h1m-43 1h4m1 0h1m2 0h7m2 0h1m5 0h1m2 0h2m1 0h2m3 0h2m3 0h1m1 0h2m1 0h1m1 0h1m-48 1h1m3 0h4m1 0h1m3 0h2m1 0h1m4 0h2m3 0h1m5 0h3m1 0h1m1 0h4m1 0h3m1 0h1m-49 1h3m1 0h1m2 0h2m3 0h2m1 0h1m1 0h2m6 0h2m2 0h2m4 0h1m1 0h3m3 0h3m1 0h2m-49 1h1m1 0h5m1 0h3m1 0h2m1 0h3m2 0h1m1 0h2m1 0h2m1 0h1m1 0h2m4 0h1m4 0h2m1 0h1m3 0h1m-49 1h2m6 0h1m1 0h1m1 0h1m3 0h2m1 0h6m1 0h1m1 0h1m1 0h2m1 0h1m1 0h1m3 0h1m1 0h1m3 0h2m1 0h1m-49 1h2m1 0h6m1 0h3m1 0h2m5 0h6m1 0h1m2 0h2m2 0h3m2 0h5m3 0h1m-49 1h5m3 0h2m1 0h1m1 0h1m2 0h5m1 0h1m3 0h1m6 0h1m2 0h1m2 0h2m3 0h2m1 0h1m-47 1h1m1 0h2m1 0h1m1 0h3m1 0h4m1 0h1m3 0h2m1 0h1m1 0h1m1 0h1m4 0h1m1 0h2m2 0h2m1 0h1m1 0h2m1 0h2m-47 1h1m1 0h1m3 0h2m1 0h7m1 0h2m1 0h1m3 0h2m4 0h2m1 0h1m1 0h1m1 0h2m3 0h1m3 0h1m-48 1h2m1 0h5m1 0h1m2 0h2m2 0h1m1 0h1m2 0h5m6 0h1m3 0h1m1 0h6m3 0h1m-49 1h1m1 0h2m1 0h1m1 0h1m1 0h3m4 0h1m1 0h2m1 0h3m2 0h3m3 0h2m2 0h1m3 0h4m3 0h2m-49 1h2m1 0h1m1 0h3m1 0h4m2 0h1m1 0h1m2 0h1m1 0h3m2 0h4m1 0h1m1 0h1m1 0h1m1 0h2m4 0h2m-46 1h1m1 0h3m2 0h1m1 0h7m1 0h2m1 0h1m1 0h4m2 0h1m2 0h1m5 0h1m2 0h1m2 0h1m1 0h1m1 0h1m-47 1h1m1 0h2m1 0h1m1 0h4m1 0h5m4 0h1m4 0h2m3 0h1m3 0h2m1 0h2m1 0h1m1 0h1m1 0h1m1 0h1m-49 1h4m1 0h1m5 0h1m4 0h1m1 0h1m4 0h2m2 0h1m2 0h2m1 0h2m1 0h1m2 0h2m1 0h2m1 0h1m1 0h1m-43 1h6m5 0h3m2 0h1m1 0h1m4 0h1m1 0h4m2 0h2m1 0h1m6 0h1m1 0h1m-48 1h4m3 0h1m4 0h1m2 0h1m1 0h1m3 0h1m2 0h2m4 0h1m1 0h1m7 0h3m1 0h1m-46 1h2m1 0h5m2 0h1m1 0h1m3 0h2m1 0h2m1 0h1m5 0h1m1 0h5m1 0h1m2 0h4m2 0h2m1 0h1m-48 1h3m3 0h1m1 0h1m3 0h2m2 0h2m3 0h1m2 0h1m1 0h2m1 0h1m2 0h1m1 0h1m3 0h1m1 0h3m1 0h1m1 0h2m-49 1h1m5 0h3m3 0h1m2 0h1m1 0h1m1 0h1m4 0h1m1 0h1m1 0h1m1 0h1m1 0h2m2 0h1m1 0h2m2 0h1m3 0h3m-49 1h5m3 0h4m2 0h3m1 0h1m1 0h1m2 0h2m2 0h1m3 0h1m1 0h1m3 0h1m2 0h1m1 0h2m1 0h1m2 0h1m-48 1h1m3 0h2m2 0h3m2 0h2m1 0h4m1 0h3m3 0h1m2 0h3m3 0h3m2 0h5m1 0h1m-48 1h3m3 0h6m2 0h1m1 0h4m1 0h4m1 0h4m2 0h2m1 0h2m1 0h1m1 0h2m1 0h2m2 0h1m-49 1h3m3 0h1m4 0h1m1 0h3m1 0h1m2 0h9m1 0h1m1 0h2m2 0h1m1 0h7m1 0h3m-41 1h1m3 0h1m1 0h3m2 0h2m1 0h1m3 0h1m3 0h1m2 0h2m2 0h1m1 0h2m3 0h2m2 0h1m-49 1h7m1 0h1m1 0h1m3 0h1m2 0h2m1 0h3m1 0h1m1 0h4m2 0h6m2 0h1m1 0h1m1 0h3m1 0h1m-49 1h1m5 0h1m1 0h1m1 0h1m4 0h2m1 0h1m1 0h1m1 0h1m3 0h1m3 0h3m2 0h1m1 0h2m1 0h1m3 0h2m2 0h1m-49 1h1m1 0h3m1 0h1m2 0h1m3 0h1m1 0h3m1 0h1m2 0h6m3 0h2m3 0h1m2 0h6m-45 1h1m1 0h3m1 0h1m2 0h1m1 0h1m1 0h1m1 0h2m1 0h3m2 0h1m1 0h2m2 0h4m2 0h3m1 0h2m3 0h4m-48 1h1m1 0h3m1 0h1m1 0h2m1 0h1m3 0h1m3 0h1m1 0h1m1 0h2m3 0h1m3 0h2m1 0h3m1 0h4m1 0h1m3 0h1m-49 1h1m5 0h1m2 0h1m2 0h1m5 0h4m1 0h1m3 0h1m3 0h4m1 0h3m1 0h2m1 0h3m-46 1h7m5 0h1m5 0h1m1 0h2m3 0h1m1 0h1m1 0h1m2 0h1m3 0h1m3 0h2m3 0h1m2 0h1\"/></svg>"
          },
          "metadata": {}
        }
      ],
      "source": [
        "#@markdown Install {pyqrcode} and enter link address\n",
        "!pip install pyqrcode\n",
        "\n",
        "import pyqrcode\n",
        "from pyqrcode import QRCode\n",
        "\n",
        "\n",
        "#@markdown Enter the link, save it as a file, and display\n",
        "s = \"https://docs.google.com/forms/d/1aacQVe73CEXr6uJr0jANDEV4Wv0kyaLVDVaEom4UQF4/edit\"\n",
        "\n",
        "# Generate QR code\n",
        "url = pyqrcode.create(s)\n",
        "\n",
        "# Create and save the png file naming \"myqr.png\"\n",
        "url.svg(\"myqrcode.svg\", scale=10)\n",
        "\n",
        "from IPython.display import SVG, display\n",
        "def show_svg(file):\n",
        "    display(SVG(file))\n",
        "\n",
        "show_svg(\"myqrcode.svg\")"
      ]
    }
  ]
}