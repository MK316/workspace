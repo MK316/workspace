{
  "nbformat": 4,
  "nbformat_minor": 0,
  "metadata": {
    "colab": {
      "provenance": [],
      "authorship_tag": "ABX9TyMnJjbnixTN/UGqGoWVe4AW",
      "include_colab_link": true
    },
    "kernelspec": {
      "name": "python3",
      "display_name": "Python 3"
    },
    "language_info": {
      "name": "python"
    }
  },
  "cells": [
    {
      "cell_type": "markdown",
      "metadata": {
        "id": "view-in-github",
        "colab_type": "text"
      },
      "source": [
        "<a href=\"https://colab.research.google.com/github/MK316/workspace/blob/main/DL_survey23.ipynb\" target=\"_parent\"><img src=\"https://colab.research.google.com/assets/colab-badge.svg\" alt=\"Open In Colab\"/></a>"
      ]
    },
    {
      "cell_type": "markdown",
      "source": [
        "# 🐳Digital Literacy Survey\n",
        "\n",
        "Contact email: mirankim@gnu.ac.kr (055-772-2191)\n",
        "\n",
        "+ This survey is being conducted to research improvements and directions for the class. \n",
        "+ The survey results will not be used for any purpose other than education and research. \n",
        "+ All survey results will be used anonymously. \n",
        "+ Please **indicate your consent** for the use of the survey results by providing **your last name + the last 4 digits of your student ID in the Survey form.** (If you do not consent, Please enter 0000.   the student ID field blank.)"
      ],
      "metadata": {
        "id": "faliAS1I9BDj"
      }
    },
    {
      "cell_type": "markdown",
      "source": [
        "## 🔎 Survey link: Click [here](https://docs.google.com/forms/d/1aacQVe73CEXr6uJr0jANDEV4Wv0kyaLVDVaEom4UQF4/edit)"
      ],
      "metadata": {
        "id": "79hf7lcv-BLU"
      }
    },
    {
      "cell_type": "markdown",
      "source": [
        "## 🔎 Or run the code below to get QR code linked to the survey."
      ],
      "metadata": {
        "id": "NvxkmlgW96ia"
      }
    },
    {
      "cell_type": "code",
      "execution_count": 2,
      "metadata": {
        "colab": {
          "base_uri": "https://localhost:8080/",
          "height": 507
        },
        "cellView": "form",
        "id": "vYNr83iB9Ak_",
        "outputId": "d303f978-9f8e-4c16-9bac-f4f6ba8ae9a3"
      },
      "outputs": [
        {
          "output_type": "stream",
          "name": "stdout",
          "text": [
            "Looking in indexes: https://pypi.org/simple, https://us-python.pkg.dev/colab-wheels/public/simple/\n",
            "Requirement already satisfied: pyqrcode in /usr/local/lib/python3.9/dist-packages (1.2.1)\n"
          ]
        },
        {
          "output_type": "display_data",
          "data": {
            "text/plain": [
              "<IPython.core.display.SVG object>"
            ],
            "image/svg+xml": "<svg xmlns=\"http://www.w3.org/2000/svg\" height=\"450\" width=\"450\" class=\"pyqrcode\"><path transform=\"scale(10)\" stroke=\"#000\" class=\"pyqrline\" d=\"M4 4.5h7m2 0h2m1 0h1m1 0h1m1 0h2m3 0h1m3 0h2m3 0h7m-37 1h1m5 0h1m2 0h1m1 0h3m1 0h1m1 0h1m1 0h3m1 0h1m1 0h2m1 0h1m1 0h1m5 0h1m-37 1h1m1 0h3m1 0h1m1 0h1m2 0h3m2 0h1m2 0h1m1 0h2m1 0h2m4 0h1m1 0h3m1 0h1m-37 1h1m1 0h3m1 0h1m1 0h1m3 0h3m1 0h1m2 0h1m1 0h3m1 0h1m1 0h2m1 0h1m1 0h3m1 0h1m-37 1h1m1 0h3m1 0h1m3 0h1m4 0h1m1 0h2m1 0h1m2 0h2m5 0h1m1 0h3m1 0h1m-37 1h1m5 0h1m4 0h4m3 0h1m3 0h2m6 0h1m5 0h1m-37 1h7m1 0h1m1 0h1m1 0h1m1 0h1m1 0h1m1 0h1m1 0h1m1 0h1m1 0h1m1 0h1m1 0h1m1 0h7m-28 1h3m1 0h1m1 0h3m7 0h1m1 0h2m-26 1h2m1 0h2m3 0h2m3 0h1m1 0h1m4 0h3m2 0h1m4 0h2m-32 1h1m6 0h5m1 0h1m2 0h3m2 0h2m3 0h2m1 0h1m2 0h2m-34 1h1m1 0h2m3 0h5m2 0h4m2 0h3m3 0h5m2 0h1m-37 1h1m1 0h1m7 0h1m2 0h1m1 0h2m1 0h1m1 0h2m1 0h1m2 0h2m1 0h2m3 0h1m1 0h1m-35 1h1m1 0h1m1 0h1m1 0h3m2 0h2m1 0h1m1 0h1m4 0h1m6 0h1m1 0h1m2 0h1m-36 1h2m2 0h1m2 0h3m3 0h2m1 0h1m1 0h2m1 0h1m1 0h7m2 0h1m1 0h1m-32 1h1m1 0h2m2 0h4m3 0h1m9 0h2m1 0h2m2 0h4m-37 1h2m2 0h1m3 0h1m1 0h1m6 0h1m1 0h1m1 0h2m6 0h1m1 0h1m1 0h2m-33 1h3m1 0h1m1 0h3m1 0h1m1 0h1m1 0h2m1 0h5m1 0h1m1 0h1m2 0h1m3 0h3m-36 1h1m1 0h1m3 0h1m4 0h2m1 0h5m2 0h1m1 0h1m2 0h3m1 0h1m1 0h1m1 0h1m-36 1h3m2 0h2m1 0h3m1 0h4m1 0h5m4 0h2m2 0h2m2 0h1m1 0h1m-33 1h2m1 0h1m2 0h2m2 0h1m1 0h1m1 0h2m2 0h4m2 0h2m3 0h1m1 0h1m-35 1h4m1 0h1m4 0h2m1 0h2m2 0h1m2 0h1m2 0h1m1 0h5m1 0h1m3 0h1m-36 1h2m1 0h1m4 0h2m3 0h1m2 0h1m2 0h3m1 0h2m1 0h6m1 0h2m-36 1h1m5 0h2m4 0h1m1 0h4m1 0h1m4 0h2m1 0h1m4 0h1m1 0h1m1 0h1m-35 1h1m1 0h2m5 0h1m6 0h1m3 0h4m1 0h3m1 0h1m1 0h4m-36 1h3m1 0h2m2 0h1m1 0h2m1 0h4m2 0h1m1 0h1m1 0h2m5 0h3m1 0h1m-36 1h3m1 0h2m1 0h1m1 0h1m2 0h1m2 0h1m2 0h1m3 0h1m2 0h2m3 0h1m3 0h3m-37 1h2m1 0h2m1 0h3m4 0h1m1 0h1m1 0h4m1 0h3m1 0h2m2 0h3m1 0h3m-37 1h1m1 0h1m2 0h1m2 0h1m2 0h1m1 0h1m1 0h4m1 0h4m2 0h1m1 0h2m1 0h1m2 0h1m1 0h1m-37 1h1m4 0h6m2 0h5m4 0h1m2 0h1m1 0h7m2 0h1m-29 1h1m1 0h4m2 0h2m1 0h1m1 0h1m1 0h1m1 0h1m1 0h2m3 0h3m-35 1h7m1 0h1m3 0h1m1 0h2m1 0h4m1 0h4m2 0h1m1 0h1m1 0h3m1 0h1m-37 1h1m5 0h1m5 0h1m1 0h1m2 0h1m1 0h1m2 0h1m1 0h2m2 0h1m3 0h2m1 0h1m-36 1h1m1 0h3m1 0h1m1 0h1m1 0h1m1 0h3m1 0h1m1 0h1m1 0h2m1 0h1m3 0h6m2 0h1m-36 1h1m1 0h3m1 0h1m1 0h1m1 0h1m1 0h4m1 0h1m2 0h3m1 0h1m2 0h1m2 0h1m3 0h1m-35 1h1m1 0h3m1 0h1m4 0h1m7 0h2m2 0h1m2 0h2m3 0h2m1 0h3m-37 1h1m5 0h1m4 0h1m2 0h4m5 0h2m9 0h3m-37 1h7m3 0h2m1 0h1m2 0h3m2 0h1m1 0h1m1 0h1m2 0h4m1 0h1m2 0h1\"/></svg>"
          },
          "metadata": {}
        }
      ],
      "source": [
        "#@markdown Install {pyqrcode} and enter link address\n",
        "!pip install pyqrcode\n",
        "\n",
        "import pyqrcode\n",
        "from pyqrcode import QRCode\n",
        "\n",
        "\n",
        "#@markdown Enter the link, save it as a file, and display\n",
        "s = \"https://forms.gle/gm4YShmWS5pspXXx9\"\n",
        "\n",
        "# Generate QR code\n",
        "url = pyqrcode.create(s)\n",
        "\n",
        "# Create and save the png file naming \"myqr.png\"\n",
        "url.svg(\"myqrcode.svg\", scale=10)\n",
        "\n",
        "from IPython.display import SVG, display\n",
        "def show_svg(file):\n",
        "    display(SVG(file))\n",
        "\n",
        "show_svg(\"myqrcode.svg\")"
      ]
    }
  ]
}